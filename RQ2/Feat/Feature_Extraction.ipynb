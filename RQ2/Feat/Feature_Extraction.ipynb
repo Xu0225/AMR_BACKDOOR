{
 "cells": [
  {
   "cell_type": "code",
   "execution_count": 1,
   "metadata": {},
   "outputs": [],
   "source": [
    "# Import all the things we need ---\n",
    "#   by setting env variables before Keras import you can set up which backend and which GPU it uses\n",
    "import os,random\n",
    "import keras\n",
    "#os.environ[\"KERAS_BACKEND\"] = \"theano\"\n",
    "\n",
    "os.environ[\"KERAS_BACKEND\"] = \"tensorflow\"\n",
    "os.environ[\"CUDA_VISIBLE_DEVICE\"]  = '0'\n",
    "#os.environ[\"THEANO_FLAGS\"]  = \"floatX=float32\"\n",
    "#os.environ[\"THEANO_FLAGS\"]  = \"device=cuda%d\"%(1)"
   ]
  },
  {
   "cell_type": "code",
   "execution_count": 2,
   "metadata": {},
   "outputs": [],
   "source": [
    "import numpy as np\n",
    "import seaborn as sns\n",
    "import pickle, random, sys"
   ]
  },
  {
   "cell_type": "code",
   "execution_count": 3,
   "metadata": {},
   "outputs": [],
   "source": [
    "from keras.utils import np_utils\n",
    "import keras.models as models\n",
    "from keras.layers.core import Reshape,Dense,Dropout,Activation,Flatten\n",
    "from keras.layers.noise import GaussianNoise\n",
    "from keras.layers.convolutional import Convolution2D, MaxPooling2D, ZeroPadding2D\n",
    "from keras.regularizers import *\n",
    "#from keras.optimizers import adam\n",
    "from tensorflow.keras.optimizers import Adam\n",
    "#import theano as th\n",
    "#import theano.tensor as T\n",
    "import os\n",
    "WEIGHTS_PATH = ('resnet_like_weights_tf_dim_ordering_tf_kernels.h5')\n",
    "from keras.models import Model\n",
    "from keras.layers import Input,Dense,Conv1D,MaxPool1D,ReLU,Dropout,Softmax\n",
    "from keras.layers import LSTM\n",
    "import keras\n",
    "from keras.callbacks import LearningRateScheduler\n",
    "import keras.backend as K\n",
    "from keras.callbacks import LearningRateScheduler\n",
    "from keras.regularizers import *\n",
    "from tensorflow.keras.optimizers import Adam\n",
    "from keras.models import model_from_json\n",
    "import tensorflow as tf"
   ]
  },
  {
   "cell_type": "code",
   "execution_count": 4,
   "metadata": {},
   "outputs": [
    {
     "data": {
      "text/plain": [
       "<module 'sys' (built-in)>"
      ]
     },
     "execution_count": 4,
     "metadata": {},
     "output_type": "execute_result"
    }
   ],
   "source": [
    "import importlib,sys\n",
    "\n",
    "importlib.reload(sys)"
   ]
  },
  {
   "cell_type": "code",
   "execution_count": 5,
   "metadata": {},
   "outputs": [],
   "source": [
    "from mpl_toolkits.mplot3d import Axes3D\n",
    "\n",
    "from sklearn.preprocessing import StandardScaler"
   ]
  },
  {
   "cell_type": "code",
   "execution_count": 6,
   "metadata": {},
   "outputs": [],
   "source": [
    "import matplotlib.pyplot as plt # plotting\n",
    "import numpy as np # linear algebra\n",
    "import os # accessing directory structure\n",
    "import pandas as pd # data processing, CSV file I/O (e.g. pd.read_csv)"
   ]
  },
  {
   "cell_type": "code",
   "execution_count": 11,
   "metadata": {},
   "outputs": [],
   "source": [
    "# Load the dataset ...\n",
    "#  You will need to seperately download or generate this file\n",
    "dbfile = open('RML2016.10a_dict.dat', 'rb')      \n",
    "Xd = pickle.load(dbfile,encoding='latin1') "
   ]
  },
  {
   "cell_type": "code",
   "execution_count": 12,
   "metadata": {},
   "outputs": [],
   "source": [
    "snrs,mods = map(lambda j: sorted(list(set(map(lambda x: x[j], Xd.keys())))), [1,0])\n",
    "X = []  \n",
    "lbl = []\n",
    "for mod in mods:\n",
    "    for snr in snrs:\n",
    "        X.append(Xd[(mod,snr)])\n",
    "        for i in range(Xd[(mod,snr)].shape[0]):  lbl.append((mod,snr))\n",
    "X = np.vstack(X)"
   ]
  },
  {
   "cell_type": "code",
   "execution_count": 13,
   "metadata": {},
   "outputs": [],
   "source": [
    "# Partition the data\n",
    "#  into training and test sets of the form we can train/test on \n",
    "#  while keeping SNR and Mod labels handy for each\n",
    "np.random.seed(2016)\n",
    "n_examples = X.shape[0]\n",
    "n_train = int(n_examples * 0.9)\n",
    "train_idx = np.random.choice(range(0,n_examples), size=n_train, replace=False)\n",
    "test_idx = list(set(range(0,n_examples))-set(train_idx))\n",
    "X_train = X[train_idx]\n",
    "X_test =  X[test_idx]\n",
    "def to_onehot(yy):\n",
    "    yy1 = np.zeros([len(yy), max(yy)+1])\n",
    "    yy1[np.arange(len(yy)),yy] = 1\n",
    "    return yy1\n",
    "Y_train = to_onehot(list(map(lambda x: mods.index(lbl[x][0]), train_idx)))\n",
    "Y_test = to_onehot(list(map(lambda x: mods.index(lbl[x][0]), test_idx)))"
   ]
  },
  {
   "cell_type": "code",
   "execution_count": 14,
   "metadata": {},
   "outputs": [
    {
     "name": "stdout",
     "output_type": "stream",
     "text": [
      "数据集总数： 220000\n",
      "调制方式 11 种: ['8PSK', 'AM-DSB', 'AM-SSB', 'BPSK', 'CPFSK', 'GFSK', 'PAM4', 'QAM16', 'QAM64', 'QPSK', 'WBFM']\n",
      "信噪比: [-20, -18, -16, -14, -12, -10, -8, -6, -4, -2, 0, 2, 4, 6, 8, 10, 12, 14, 16, 18]\n"
     ]
    }
   ],
   "source": [
    "print('数据集总数：',n_examples)\n",
    "print('调制方式' , len(mods),'种:' ,mods)\n",
    "print('信噪比:',snrs)"
   ]
  },
  {
   "cell_type": "markdown",
   "metadata": {},
   "source": [
    "# Feature Extraction"
   ]
  },
  {
   "cell_type": "markdown",
   "metadata": {},
   "source": [
    "## accumulat_features"
   ]
  },
  {
   "cell_type": "code",
   "execution_count": 15,
   "metadata": {},
   "outputs": [],
   "source": [
    "# accumulation feature\n",
    "def accumulat_features(x): # accumulation feature and the input is complex\n",
    "    \n",
    "    x_r = np.conjugate(x)\n",
    "\n",
    "    M20 = np.mean(np.power(x, 2), axis = 2, keepdims = True)\n",
    "    M21 = np.mean(np.power(np.abs(x), 2), axis = 2, keepdims = True)\n",
    "    M22 = np.mean(np.power(x_r, 2), axis = 2, keepdims = True)\n",
    "    M40 = np.mean(np.power(x, 4), axis = 2, keepdims = True)\n",
    "    M41 = np.mean(np.power(np.abs(x), 2)*np.power(x, 2), axis = 2, keepdims = True)\n",
    "    M42 = np.mean(np.power(np.abs(x), 4), axis = 2, keepdims = True)\n",
    "    M43 = np.mean(np.power(np.abs(x), 2)*np.power(x_r, 2), axis = 2, keepdims = True)\n",
    "    M60 = np.mean(np.power(x, 6), axis = 2, keepdims = True)\n",
    "    M63 = np.mean(np.power(np.abs(x), 6), axis = 2, keepdims = True)\n",
    "    M80 = np.mean(np.power(x, 8), axis = 2, keepdims = True)\n",
    "\n",
    "    C20 = M20\n",
    "    C21 = M21\n",
    "    C40 = M40 - 3*np.power(M20, 2)\n",
    "    C41 = M41 - 3*M20*M21\n",
    "    C42 = M42 - np.power(np.abs(M20), 2) - 2*np.power(M21, 2)\n",
    "    C60 = M60 - 15*M20*M40 + 30*np.power(M20, 3)\n",
    "    C63 = M63 - 6*M41*M20 - 9*M42*M21 + 18*M20*M20*M21 + 12*np.power(M21, 3)\n",
    "    C80 = M80 - 28*M20*M60 - 35*M40*M40 + 420*M20*M20*M40 - 630*np.power(M20, 4)\n",
    "\n",
    "    T1 = np.abs(C80) / np.power(np.abs(C42), 2)\n",
    "    T2 = np.abs(C80) / np.power(np.abs(C40), 2) # 利用差分（x(k+1) - x(k)）可区分QPSK/OQPSK\n",
    "    M1 = np.abs(C40) / np.abs(C42)\n",
    "    M2 = np.power(np.abs(C63), 2) / np.power(np.abs(C42), 3)\n",
    "\n",
    "    C20_norm = np.abs(C20/C21)\n",
    "    C40_norm = np.abs(C40/np.power(C21, 2))\n",
    "    C41_norm = np.abs(C41/np.power(C21, 2))\n",
    "    C42_norm = np.abs(C42/np.power(C21, 2))\n",
    "    C60_norm = np.abs(C60/np.power(C21, 3))\n",
    "    C63_norm = np.abs(C63/np.power(C21, 3))\n",
    "    C80_norm = np.abs(C80/np.power(C21, 4))\n",
    "\n",
    "    return [T1, T2, M1, M2, C20_norm, C40_norm, C41_norm, C42_norm, C60_norm, C63_norm, C80_norm]    "
   ]
  },
  {
   "cell_type": "code",
   "execution_count": 1,
   "metadata": {},
   "outputs": [
    {
     "ename": "SyntaxError",
     "evalue": "unexpected character after line continuation character (<ipython-input-1-db4fd0751a2f>, line 27)",
     "output_type": "error",
     "traceback": [
      "\u001b[1;36m  File \u001b[1;32m\"<ipython-input-1-db4fd0751a2f>\"\u001b[1;36m, line \u001b[1;32m27\u001b[0m\n\u001b[1;33m    return np.abs(np.mean(np.square(x),axis=2,keepdims=True)- \\ np.square(np.mean(x,axis = 2,keepdims=True)))\u001b[0m\n\u001b[1;37m                                                                                                             ^\u001b[0m\n\u001b[1;31mSyntaxError\u001b[0m\u001b[1;31m:\u001b[0m unexpected character after line continuation character\n"
     ]
    }
   ],
   "source": [
    "# part one: basic feature \n",
    "def element_mean(x):\n",
    "    return np.mean(x, axis=2, keepdims=True)\n",
    "\n",
    "def element_abs_mean(x):\n",
    "    return np.abs(np.mean(x, axis=2, keepdims=True))\n",
    "\n",
    "def element_std(x):\n",
    "    return np.std(x,axis=2,keepdims=True)\n",
    "\n",
    "def element_std_abs(x):\n",
    "    return np.std(np.abs(x),axis=2,keepdims=True)  \n",
    "\n",
    "def abs_max_mins_min(x):\n",
    "    return np.abs(np.max(x, axis=2, keepdims=True) - np.min(x, axis=2, keepdims=True))\n",
    "\n",
    "def max_mins_min_abs(x):\n",
    "    return np.max(np.abs(x), axis=2, keepdims=True) - np.min(np.abs(x), axis=2, keepdims=True)\n",
    "\n",
    "def abs_mean_sqr(x):\n",
    "    return np.abs(np.mean(np.square(x), axis = 2, keepdims=True))\n",
    "\n",
    "def mean_sqr_abs(x):\n",
    "    return np.mean(np.square(np.abs(x)), axis = 2, keepdims=True)\n",
    "\n",
    "def abs_sqrmean_mis_meansqr(x):\n",
    "    return np.abs(np.mean(np.square(x),axis=2,keepdims=True)- \\ np.square(np.mean(x,axis = 2,keepdims=True)))\n",
    "    \n",
    "def sqrmean_mis_meansqr_abs(x):\n",
    "    return np.mean(np.square(np.abs(x)),axis=2,keepdims=True)- \\\n",
    "            np.square(np.mean(np.abs(x),axis = 2,keepdims=True))\n",
    "\n",
    "def abs_fourmean_mis_meanfour(x):\n",
    "    return np.abs(np.mean(np.power(x,4),axis=2,keepdims=True)-\\\n",
    "            np.mean(np.square(x),axis=2,keepdims=True)**2) \n",
    "\n",
    "def fourmean_mis_meanfour_abs(x):\n",
    "    return np.mean(np.power(np.abs(x),4),axis=2,keepdims=True)-\\\n",
    "            np.mean(np.square(np.abs(x)),axis=2,keepdims=True)**2"
   ]
  },
  {
   "cell_type": "code",
   "execution_count": 17,
   "metadata": {},
   "outputs": [],
   "source": [
    "\n",
    "# part two: time sequence feature\n",
    "\n",
    "def absolute_sum_of_changes(x):\n",
    "    return np.sum(np.abs(np.diff(x,1)), axis=2, keepdims=True)\n",
    "\n",
    "def agg_autocorrelation(x, l=1):    ##\n",
    "    x_var = np.var(x, axis=2, keepdims=True)\n",
    "    x_diff_sum = np.sum(np.diff(x-np.mean(x, axis=2, keepdims=True),l), axis=2, keepdims=True)\n",
    "    return x_diff_sum / x_var\n",
    "\n",
    "def approximate_entropy(x):\n",
    "    return np.sum(-x*np.log(np.abs(x+0.0000001)), axis=2, keepdims=True)\n",
    "\n",
    "def autocorrelation(x, k=1):\n",
    "    n = x.shape[2]\n",
    "    variance = np.var(x, axis=2, keepdims=True)+0.0000001\n",
    "    x = x-np.mean(x, axis=2, keepdims=True)\n",
    "    result = np.sum(x[:,:,k:]*x[:,:,:n-k], axis=2, keepdims=True) / (variance*(n-k))\n",
    "    return result\n",
    "\n",
    "def cwt_coefficients(x):\n",
    "    ricker = (1-x**2/4)*np.exp(-x**2/8)\n",
    "    result = np.mean(ricker, axis=2, keepdims=True)\n",
    "    return result\n",
    "\n",
    "def count_above_mean(x):\n",
    "    mask = (x - np.mean(x, axis=2, keepdims=True))>0\n",
    "    result = np.sum(mask, axis=2, keepdims=True)\n",
    "    return result\n",
    "\n",
    "def count_below_mean(x):\n",
    "    mask = (x - np.mean(x, axis=2, keepdims=True))<0\n",
    "    result = np.sum(mask, axis=2, keepdims=True)\n",
    "    return result\n",
    "\n",
    "def first_location_of_maximum(x): ##\n",
    "    result = np.argmax(x, axis=2)\n",
    "    return result.reshape(result.shape[0], result.shape[1], 1)\n",
    "\n",
    "def first_location_of_minimum(x): ##\n",
    "    result = np.argmin(x, axis=2)\n",
    "    return result.reshape(result.shape[0], result.shape[1], 1)\n",
    "\n",
    "def kurtosis(x):\n",
    "    x = x - np.mean(x, axis=2, keepdims=True)\n",
    "    e4 = np.mean(pow(x, 4), axis=2, keepdims=True)\n",
    "    e2 = pow(np.mean(pow(x, 2), axis=2, keepdims=True),2)\n",
    "    result = e4/e2\n",
    "    return result\n",
    "\n",
    "def skewness(x):\n",
    "    variance = np.var(x, axis=2, keepdims=True)+0.0000001\n",
    "    x = x - np.mean(x, axis=2, keepdims=True)\n",
    "    result = np.mean(pow(x/variance, 3), axis=2, keepdims=True)\n",
    "    return result"
   ]
  },
  {
   "cell_type": "code",
   "execution_count": 18,
   "metadata": {},
   "outputs": [],
   "source": [
    "# feature function\n",
    "# part three: modulation feature\n",
    "\n",
    "def max_amp_density_abs(X_complex_abs):\n",
    "    \n",
    "    # The maximum value of the normalized spectral density of the amplitude with Zero Center\n",
    "    Acn = X_complex_abs / np.mean(X_complex_abs, axis=2, keepdims = True) - 1\n",
    "    Acn_complex_max = np.max(np.abs(np.fft.fft(Acn,axis=2))**2, axis = 2, keepdims = True) / X_complex_abs.shape[2]\n",
    "    return Acn_complex_max\n",
    "    \n",
    "def std_phase_abs(X_complex_angl, X_complex_abs):\n",
    "    # Standard deviation of absolute value of instantaneous phase nonlinear component at zero Center\n",
    "    Acn = X_complex_abs / np.mean(X_complex_abs, axis=2, keepdims = True) - 1\n",
    "    sqr_mask = Acn > 0.05\n",
    "    sqr_mask[:,:,0] = True\n",
    "    sqr_mask_sum = np.sum(sqr_mask,axis=2,keepdims=True)\n",
    "    angl_mins_mean = X_complex_angl - np.mean(X_complex_angl,axis=2,keepdims=True)\n",
    "    angl_mins_mean_after_mask = angl_mins_mean * sqr_mask\n",
    "    result = np.sqrt(np.sum(np.square(angl_mins_mean_after_mask),axis=2,keepdims=True)/sqr_mask_sum -\n",
    "                                     (np.sum(np.abs(angl_mins_mean_after_mask),axis=2,keepdims=True)/sqr_mask_sum)**2)\n",
    "    return result\n",
    "\n",
    "def std_phase(X_complex_angl, X_complex_abs):\n",
    "    Acn = X_complex_abs / np.mean(X_complex_abs, axis=2, keepdims = True) - 1\n",
    "    sqr_mask = Acn > 0.05\n",
    "    sqr_mask[:,:,0] = True\n",
    "    sqr_mask_sum = np.sum(sqr_mask,axis=2,keepdims=True)\n",
    "    angl_mins_mean = X_complex_angl - np.mean(X_complex_angl,axis=2,keepdims=True)\n",
    "    angl_mins_mean_after_mask = angl_mins_mean * sqr_mask\n",
    "    result = np.sqrt(np.sum(np.square(angl_mins_mean_after_mask),axis=2,keepdims=True)/sqr_mask_sum - \n",
    "                                     (np.sum(angl_mins_mean_after_mask,axis=2,keepdims=True)/sqr_mask_sum)**2) \n",
    "    return result\n",
    "\n",
    "def std_amp_abs(X_complex_abs):\n",
    "    \n",
    "    # Standard deviation of instantaneous amplitude absolute value of Zero Center normalized non weak signal\n",
    "    Acn = X_complex_abs / np.mean(X_complex_abs, axis=2, keepdims = True) - 1\n",
    "    result = np.sqrt(np.mean(np.square(Acn),axis=2,keepdims=True) - \n",
    "                                     np.mean(np.abs(Acn),axis=2,keepdims=True)**2) \n",
    "    return result\n",
    "\n",
    "def std_fre_abs(X_complex_fre, X_complex_abs):\n",
    "    # Standard deviation of instantaneous frequency absolute value of Zero Center normalized non weak signal\n",
    "    Acn = X_complex_abs / np.mean(X_complex_abs, axis=2, keepdims = True) - 1\n",
    "    sqr_mask = Acn > 0.05\n",
    "    sqr_mask[:,:,0] = True\n",
    "    sqr_mask_sum = np.sum(sqr_mask,axis=2,keepdims=True)\n",
    "    fn = X_complex_fre - np.mean(X_complex_fre,axis=2,keepdims=True)\n",
    "    fn_after_mask = fn * sqr_mask\n",
    "    result = np.sqrt(np.sum(np.square(fn_after_mask),axis=2,keepdims=True)/sqr_mask_sum - \n",
    "                                     (np.sum(np.abs(fn_after_mask),axis=2,keepdims=True)/sqr_mask_sum)**2) \n",
    "    return result\n",
    "\n",
    "def std_amp(X_complex_abs):\n",
    "    # Standard deviation of instantaneous amplitude of Zero Center normalized non weak signal\n",
    "    Acn = X_complex_abs / np.mean(X_complex_abs, axis=2, keepdims = True) - 1\n",
    "    sqr_mask = Acn > 0.05\n",
    "    sqr_mask[:,:,0] = True\n",
    "    sqr_mask_sum = np.sum(sqr_mask,axis=2,keepdims=True)\n",
    "    Acn_after_mask = Acn * sqr_mask\n",
    "    result = np.sqrt(np.sum(np.square(Acn_after_mask),axis=2,keepdims=True)/sqr_mask_sum - \n",
    "                                     (np.sum(Acn_after_mask,axis=2,keepdims=True)/sqr_mask_sum)**2) \n",
    "    return result    \n",
    "\n",
    "def den_amp(X_complex_abs):\n",
    "    # Compactness of Zero Center normalized instantaneous amplitude\n",
    "    Acn = X_complex_abs / np.mean(X_complex_abs, axis=2, keepdims = True) - 1\n",
    "    result = np.mean(np.power(Acn, 4),axis=2,keepdims=True) / np.mean(np.square(Acn),axis=2,keepdims=True)**2 \n",
    "    return result \n",
    "\n",
    "def den_fre(X_complex_fre):\n",
    "    # Compactness of Zero Center normalized instantaneous frequency\n",
    "    fn = X_complex_fre - np.mean(X_complex_fre,axis=2,keepdims=True)\n",
    "    result = np.mean(np.power(fn, 4),axis=2,keepdims=True) / np.mean(np.square(fn),axis=2,keepdims=True)**2 \n",
    "    return result "
   ]
  },
  {
   "cell_type": "code",
   "execution_count": 19,
   "metadata": {},
   "outputs": [
    {
     "name": "stdout",
     "output_type": "stream",
     "text": [
      "440\n"
     ]
    }
   ],
   "source": [
    "# feature filter with the index got from random forest\n",
    "\n",
    "index_layer_list = ['c 0 0 3', 't 5 0 20', 't 5 1 20', 'c 0 0 4', 't 3 0 8', 't 3 1 2', 't 6 1 20', 'c 0 3 0', 't 3 0 20', 't 3 3 3', 't 5 1 13', 'c 0 2 3', 't 5 3 8', 'c 1 0 1', 't 4 1 2', 'c 1 1 5', 'c 1 2 5', 't 6 1 19', 't 3 2 9', 't 3 0 2', 'c 0 1 3', 'c 0 1 2', 't 3 1 9', 't 5 3 25', 't 3 3 25', 'c 1 3 5', 't 6 2 19', 't 6 0 20', 'c 0 1 0', 't 4 1 11', 'c 0 0 2', 't 4 0 20', 't 3 2 20', 't 2 0 23', 't 4 1 3', 't 3 4 20', 't 4 4 13', 't 2 1 6', 't 3 4 0', 't 7 1 18', 't 5 4 17', 't 3 1 20', 'c 0 2 2', 't 3 3 9', 't 0 4 23', 't 2 3 23', 't 7 1 26', 't 3 2 2', 't 5 1 6', 't 7 1 27', 't 6 2 2', 't 3 3 20', 't 4 4 7', 't 6 3 23', 't 5 0 9', 't 2 0 25', 't 3 4 8', 't 3 4 2', 't 6 3 10', 't 0 0 24', 't 6 2 3', 't 4 2 2', 't 4 0 22', 't 3 2 8', 'c 1 2 4', 't 0 4 21', 't 7 0 25', 't 0 4 24', 't 3 4 9', 't 5 4 22', 't 5 4 9', 't 5 3 3', 't 8 0 24', 't 6 3 21', 't 4 1 15', 't 5 3 5', 't 3 4 24', 't 5 2 21', 't 3 3 5', 't 5 3 11', 't 6 4 23', 't 6 3 9', 't 5 4 25', 't 4 3 4', 't 3 0 18', 't 3 4 23', 't 6 4 16', 't 4 1 9', 't 6 3 3', 't 6 2 10', 't 3 0 16', 't 3 0 26', 't 3 0 3', 't 5 1 15', 't 4 0 2', 't 6 1 16', 't 6 1 15', 't 5 3 24', 't 4 1 8', 't 4 0 15', 't 5 3 21', 't 6 2 14', 't 5 0 15', 't 5 2 14', 'c 1 0 4', 't 3 0 15', 'c 0 3 3', 't 0 1 14', 'c 0 2 0', 't 5 0 16', 't 4 1 6', 't 3 1 8', 't 3 3 10', 't 3 3 4', 'c 0 3 2', 't 2 1 17', 't 3 1 19', 't 6 3 26', 't 3 1 7', 't 5 3 27', 't 3 1 16', 't 3 2 3', 't 6 3 27', 't 1 2 14', 'c 1 4 5', 't 5 3 4', 't 6 1 1', 't 4 1 16', 't 6 0 15', 't 5 0 14', 't 7 1 21', 't 2 3 14', 't 4 2 9', 't 3 3 8', 't 6 3 11', 't 5 1 1', 't 4 1 14', 't 3 0 27', 't 6 2 0', 't 3 4 14', 'c 0 2 5', 't 3 0 9', 't 6 3 5', 't 4 4 23', 't 4 0 8', 't 2 2 24', 't 3 4 21', 't 4 0 9', 't 3 3 14', 't 5 1 9', 't 5 3 10', 't 6 3 25', 't 2 1 3', 't 3 4 27', 't 4 0 18', 't 2 2 9', 't 5 4 14', 't 6 0 16', 't 3 3 2', 't 6 4 14', 't 5 4 23', 't 4 2 14', 't 3 1 3', 't 5 1 16', 't 4 0 3', 't 4 1 23', 'c 0 4 2', 't 5 3 14', 't 3 0 14', 't 8 4 26', 't 2 2 22', 't 0 2 15', 't 6 4 15', 't 2 2 8', 't 4 3 14', 't 7 1 8', 't 6 0 14', 't 4 1 19', 't 4 0 14', 't 3 1 14', 't 2 3 11', 't 4 3 5', 't 8 1 10', 't 2 2 16', 't 0 3 14', 't 5 4 18', 't 1 0 12', 't 7 1 9', 't 3 4 1', 't 3 3 18', 't 2 2 14', 't 6 4 20', 't 6 3 4', 't 7 1 10', 't 2 3 7', 't 3 4 25', 't 3 2 10', 't 4 0 16', 'c 0 1 4', 't 4 0 21', 't 7 1 23', 't 2 2 10', 't 5 4 15', 't 3 3 11', 't 2 0 8', 't 6 3 14', 't 6 1 14', 't 5 4 21', 't 2 0 3', 't 2 1 0', 't 1 1 6', 't 7 3 14', 't 4 0 26', 't 8 0 26', 't 6 4 18', 't 3 1 23', 't 2 1 11', 't 4 2 11', 't 3 4 26', 't 3 0 10', 't 3 0 0', 't 6 1 2', 't 7 1 22', 't 8 1 26', 't 5 4 12', 't 2 2 1', 't 7 1 24', 't 7 4 12', 't 2 1 9', 't 4 2 27', 't 5 2 8', 't 3 1 15', 't 2 1 2', 't 2 2 3', 't 0 3 4', 't 5 3 26', 't 4 2 24', 't 2 1 14', 'c 0 0 5', 'c 1 0 5', 't 5 1 14', 't 5 4 27', 't 4 1 7', 't 5 0 12', 't 3 2 27', 't 6 4 21', 't 6 1 7', 't 6 3 18', 't 2 0 1', 't 6 0 23', 't 4 2 7', 't 5 0 3', 't 0 4 16', 't 2 0 6', 't 2 0 11', 't 2 3 9', 't 4 1 21', 't 2 1 16', 't 5 3 20', 't 5 1 19', 't 8 3 27', 't 0 0 17', 't 2 2 7', 't 4 4 16', 't 2 2 2', 't 5 1 7', 't 7 1 14', 't 3 3 0', 't 1 2 8', 't 3 4 10', 't 0 2 8', 't 0 1 13', 't 4 2 19', 't 1 1 13', 't 1 1 15', 't 4 4 12', 't 3 0 25', 't 0 4 25', 't 4 0 27', 't 7 0 12', 't 2 4 23', 't 6 1 22', 't 8 2 18', 't 5 2 19', 't 3 0 24', 't 7 1 1', 't 5 0 18', 't 5 1 17', 't 6 1 13', 't 2 1 24', 't 6 3 19', 'c 0 3 1', 't 3 1 22', 't 3 3 27', 't 4 4 14', 't 1 4 14', 't 0 4 12', 't 2 1 1', 't 3 2 16', 't 5 1 21', 't 1 0 18', 't 4 0 24', 't 8 2 27', 'c 0 4 5', 't 4 0 12', 't 8 4 27', 't 2 0 10', 't 2 3 17', 't 2 0 9', 'c 0 1 5', 't 4 1 10', 't 5 2 25', 't 4 3 11', 't 5 3 17', 't 6 1 8', 't 4 2 12', 'c 1 0 2', 't 4 2 8', 't 7 2 21', 't 5 3 23', 't 6 4 11', 't 4 3 27', 't 3 2 14', 't 5 2 13', 't 4 0 23', 't 2 1 13', 't 3 4 3', 't 5 4 20', 't 1 1 14', 't 5 0 2', 't 2 1 23', 'c 1 4 4', 't 2 4 14', 't 3 3 12', 't 2 2 5', 't 4 0 0', 't 3 1 24', 't 1 1 23', 't 0 4 14', 't 7 1 2', 't 2 2 13', 't 3 3 26', 't 6 4 12', 't 4 1 17', 't 5 3 18', 't 6 2 20', 't 5 1 23', 't 1 2 13', 't 0 4 5', 't 0 0 8', 't 6 1 3', 't 3 3 23', 't 6 4 5', 't 4 1 24', 't 1 3 10', 't 4 0 19', 't 7 2 16', 't 1 3 23', 't 1 4 12', 't 1 2 12', 't 4 0 10', 't 0 1 27', 't 1 4 13', 't 8 0 27', 't 3 2 22', 't 0 1 22', 't 1 2 24', 't 2 2 21', 't 8 2 21', 't 5 4 16', 't 5 2 26', 't 4 4 25', 't 7 1 17', 't 3 0 17', 't 0 2 17', 't 4 2 22', 'c 1 0 3', 't 6 4 9', 't 8 1 18', 't 4 3 19', 't 8 1 8', 'c 1 1 3', 'c 1 3 4', 't 5 2 9', 't 1 3 4', 't 6 0 10', 't 4 3 25', 't 1 2 0', 't 6 2 16', 't 0 1 15', 't 1 3 27', 't 8 4 18', 't 4 3 26', 't 1 0 24', 't 5 0 1', 't 6 0 12', 'c 1 2 1', 't 2 3 2', 't 2 0 12', 't 6 0 5', 't 5 1 3', 't 0 1 16', 't 2 2 11', 't 2 4 24', 't 6 2 15', 't 2 0 0', 't 1 0 22', 't 8 0 12', 't 6 0 0', 't 6 2 9', 't 2 4 9', 't 6 4 10', 't 8 0 7', 't 3 4 15', 't 8 0 17', 't 6 0 19', 't 6 2 26', 't 2 1 8', 't 4 4 27', 't 4 1 22', 't 7 2 24', 't 1 4 16', 'c 0 2 4', 't 0 2 14', 't 6 4 24', 't 7 3 25', 't 6 0 1', 't 1 4 0', 't 4 4 8', 't 2 0 14', 't 1 0 2', 't 4 2 16', 't 1 4 1', 't 1 2 17', 'c 1 4 1', 't 4 4 4', 't 5 1 10', 't 6 3 1', 't 5 3 13', 't 8 0 6', 't 3 4 18', 't 6 4 8', 't 0 3 25', 't 1 0 10', 't 2 4 12', 't 0 0 27', 't 4 2 6', 't 0 2 11', 't 3 2 25', 't 5 2 22', 't 1 3 18', 't 4 2 1', 't 1 4 26', 't 6 3 2', 't 6 0 3', 't 8 2 2', 't 6 0 21', 't 0 2 26', 't 1 2 16', 't 4 1 12', 't 4 4 6', 't 5 3 7', 't 6 1 27', 't 6 2 13', 't 1 0 7', 't 6 0 9', 't 0 1 0', 't 3 1 21', 't 0 3 5', 't 0 0 12', 't 0 3 27', 't 2 1 7', 't 8 4 19', 't 7 1 12', 'c 0 4 4', 't 4 3 24', 't 0 3 18', 't 3 1 18', 't 6 2 6', 't 2 2 25', 't 2 1 19', 't 3 0 23', 't 3 1 25', 't 5 0 21', 'c 0 3 4', 't 2 3 22', 't 5 3 15', 't 2 1 12', 't 5 2 3', 't 3 2 15', 't 6 4 22', 't 3 2 11', 't 8 2 12', 't 6 3 22', 't 8 4 21', 't 6 1 11', 't 0 1 8', 't 4 4 5', 't 2 1 25', 't 0 0 26', 'c 0 4 0', 't 6 0 8', 't 3 4 12', 't 2 4 6', 't 2 0 17', 't 2 2 6', 't 6 4 4', 't 4 1 18', 't 3 2 4', 't 7 2 11', 't 0 2 5', 'c 1 1 4', 't 6 1 23', 't 0 0 5', 't 4 0 1', 't 2 0 24', 't 7 4 5', 't 5 4 4', 't 7 4 16', 'c 1 0 0', 't 4 2 5', 't 5 3 1', 't 4 4 26', 't 0 1 5', 't 0 0 14', 't 8 3 21', 't 1 3 16', 't 4 3 22', 't 8 0 8', 't 1 1 10', 't 0 2 24', 't 4 3 0', 't 2 3 5', 't 5 3 9', 't 6 4 26', 't 1 0 21', 't 6 4 25', 't 1 2 15', 't 5 4 26', 't 4 2 21', 't 3 1 5', 't 3 1 10', 't 6 2 24', 't 7 1 16', 't 8 1 21', 't 0 0 18', 't 8 4 9', 't 1 0 14', 't 7 0 14', 't 6 3 12', 't 8 4 3', 't 3 0 7', 't 2 3 3', 't 1 4 15', 't 5 4 10', 't 6 2 22', 't 6 4 27', 't 8 4 14', 't 7 4 0', 't 3 2 19', 't 5 2 23', 't 8 4 2', 't 0 1 25', 't 5 4 0', 't 0 4 4', 't 7 0 2', 't 3 1 11', 'c 1 3 1', 't 1 2 1', 't 7 4 25', 't 8 4 24', 't 7 0 15', 't 4 4 15', 't 5 4 11', 't 1 1 0', 't 3 2 12', 't 8 3 18', 't 8 1 23', 't 3 0 11', 't 0 4 9', 't 1 4 2', 't 5 0 25', 't 7 1 25', 't 7 4 14', 'c 1 4 2', 't 4 3 10', 't 4 3 3', 't 1 4 4', 't 0 4 0', 't 2 4 22', 't 4 3 20', 't 3 2 24', 't 4 1 25', 't 5 1 0', 'c 1 1 2', 't 8 1 5', 't 3 4 5', 't 1 3 0', 't 6 3 8', 't 5 1 8', 't 8 3 24', 't 5 4 5', 't 5 3 12', 't 2 4 8', 't 8 1 4', 't 7 2 23', 't 7 3 1', 'c 0 3 5', 't 3 2 17', 't 0 2 0', 't 8 0 0', 't 0 4 2', 't 3 4 19', 't 6 1 6', 't 3 3 21', 't 8 4 11', 't 2 0 19', 't 8 2 14', 't 4 3 23', 't 5 2 16', 't 5 2 15', 't 0 0 22', 't 8 2 23', 't 2 3 8', 't 7 3 15', 't 0 3 10', 't 7 2 19', 't 7 3 5', 't 2 4 21', 't 2 0 18', 't 3 2 18', 't 1 2 26', 't 8 2 19', 't 0 4 27', 't 5 2 2', 't 6 3 20', 't 4 1 0', 't 4 2 3', 't 1 2 22', 't 0 3 22', 't 0 0 1', 'c 0 0 0', 't 0 4 26', 't 0 3 2', 't 5 4 24', 't 5 2 11', 't 7 3 23', 't 6 2 18', 't 8 2 7', 't 7 3 24', 't 0 2 18', 'c 1 2 0', 't 1 2 2', 't 5 3 2', 't 4 1 13', 't 0 0 10', 't 5 4 1', 't 2 2 17', 't 0 2 13', 't 7 4 11', 't 8 4 17', 't 6 0 27', 't 6 1 12', 't 7 4 13', 't 8 2 10', 't 0 2 25', 't 2 3 27', 't 4 2 25', 't 3 3 24', 't 4 0 25', 't 3 1 27', 't 0 0 4', 't 3 4 17', 't 4 0 5', 't 1 4 3', 't 1 4 25', 't 3 1 12', 't 5 2 17', 't 2 3 12', 't 8 3 0', 't 0 3 0', 't 2 4 18', 't 7 1 5', 't 7 0 4', 't 7 1 19', 't 8 0 11', 't 3 3 16', 't 0 0 25', 't 2 2 27', 't 8 1 22', 't 0 1 23', 't 2 0 22', 't 4 0 11', 't 7 1 7', 't 4 2 20', 't 0 0 21', 't 1 2 4', 't 7 0 19', 't 8 0 5', 't 1 1 1', 't 5 0 4', 't 8 4 10', 't 1 0 19', 't 8 4 22', 't 1 4 18', 't 0 4 13', 't 6 4 7', 't 0 2 2', 't 6 2 11', 't 7 2 2', 't 7 2 5', 't 2 4 11', 't 2 3 16', 't 1 1 2', 't 1 0 15', 't 1 1 25', 't 5 1 5', 't 1 3 22', 't 0 3 13', 't 7 3 17', 't 2 1 27', 'c 1 1 1', 't 7 3 21', 'c 1 2 3', 'c 1 4 0', 't 7 0 1', 't 0 2 9', 't 1 3 13', 't 8 3 19', 't 7 2 27', 't 8 0 25', 't 7 1 13', 't 1 1 5', 't 6 1 21', 't 1 2 23', 't 0 0 0', 't 4 1 27', 't 3 2 23', 't 2 2 19', 't 1 2 27', 't 6 4 17', 't 4 2 23', 't 5 0 27', 't 5 2 10', 't 5 2 12', 't 8 0 21', 't 3 1 13', 't 1 1 11', 't 0 0 11', 't 7 3 9', 't 3 3 15', 't 8 3 6', 't 0 3 3', 't 7 1 3', 't 7 3 7', 't 2 0 21', 't 7 2 12', 't 2 4 3', 't 7 0 26', 't 0 1 18', 't 7 2 6', 't 4 3 18', 't 1 3 25', 't 3 0 1', 't 3 2 0', 't 6 0 2', 'c 1 3 0', 't 5 1 2', 't 2 3 6', 't 8 2 11', 't 0 3 1', 't 0 2 1', 't 8 0 13', 't 0 3 6', 't 7 3 22', 't 2 3 13', 't 2 3 24', 't 6 0 4', 't 5 2 4', 't 1 2 7', 't 8 1 9', 't 8 3 3', 't 5 2 5', 't 8 2 15', 't 6 1 25', 't 6 2 4', 't 4 2 15', 't 7 3 12', 't 2 4 1', 't 7 4 9', 't 2 2 0', 't 1 3 5', 't 4 3 1', 't 8 1 19', 't 8 3 26', 't 4 1 26', 't 0 3 16', 't 8 3 1', 't 7 0 27', 't 6 3 6', 't 2 0 7', 't 8 3 7', 't 6 2 21', 't 7 2 25', 't 8 0 19', 't 0 1 1', 't 1 4 6', 't 1 0 5', 't 8 2 3', 'c 0 4 1', 't 8 4 4', 't 0 4 22', 't 3 3 1', 't 3 0 5', 't 2 0 15', 't 2 1 18', 't 7 4 1', 't 1 1 17', 't 7 2 22', 't 6 0 17', 't 5 1 25', 't 8 0 4', 't 7 2 26', 't 6 3 15', 't 3 1 1', 't 3 3 6', 't 7 4 4', 't 3 0 13', 't 7 0 13', 't 2 4 5', 't 4 4 17', 't 0 1 4', 't 2 4 2', 't 2 3 21', 't 5 1 11', 't 6 0 13', 't 1 1 21', 't 3 0 22', 't 7 2 4', 't 3 3 22', 't 8 3 12', 't 5 4 13', 't 6 4 0', 'c 1 1 0', 't 3 0 6', 't 1 0 3', 't 8 1 25', 't 1 1 24', 't 1 1 7', 't 7 2 17', 't 5 2 20', 't 4 3 9', 't 5 3 6', 't 7 2 8', 't 2 4 16', 't 6 1 9', 't 0 0 23', 't 7 1 11', 't 6 3 17', 't 7 3 10', 't 2 1 21', 't 4 0 7', 't 4 3 13', 't 1 1 16', 't 3 0 4', 't 8 0 3', 't 6 2 8', 't 5 1 22', 't 8 1 2', 't 5 4 8', 't 0 0 2', 't 7 2 7', 't 8 2 4', 't 5 0 5', 't 2 2 18', 't 8 4 16', 't 8 0 15', 't 7 2 13', 't 3 2 26', 't 2 4 0', 't 2 0 2', 't 0 2 21', 't 8 4 5', 't 0 1 11', 't 5 1 27', 't 3 1 6', 'c 0 2 1', 't 7 0 16', 't 8 2 8', 't 1 0 4', 't 0 3 23', 't 2 4 26', 't 1 2 9', 't 4 3 8', 't 5 1 4', 't 8 2 0', 't 1 0 11', 't 0 2 22', 't 1 1 4', 't 7 3 13', 't 2 0 16', 't 4 4 20', 't 5 0 0', 't 7 0 5', 't 7 2 1', 't 7 4 27', 't 1 0 1', 't 8 0 9', 't 0 2 16', 't 7 0 9', 't 0 1 21', 't 4 2 10', 't 8 2 26', 't 4 4 11', 't 6 1 10', 't 8 1 15', 't 2 4 27', 't 8 4 0', 't 2 1 22', 't 3 0 19', 't 1 3 2', 't 8 2 24', 't 2 3 4', 't 6 2 12', 't 1 2 5', 't 7 4 3', 't 6 0 18', 't 0 3 7', 't 2 0 4', 't 2 1 26', 't 5 2 18', 't 8 3 9', 't 8 4 7', 't 4 3 15', 't 7 2 14', 't 5 0 19', 't 7 1 0', 't 8 0 1', 't 2 0 26', 't 8 0 22', 't 3 1 0', 't 1 2 3', 't 6 4 13', 't 3 0 12', 't 4 4 21', 't 0 0 6', 't 7 4 2', 't 4 1 1', 't 4 2 17', 't 6 3 24', 't 3 3 17', 't 1 1 26', 't 0 3 17', 't 5 3 16', 't 0 1 12', 't 3 2 1', 't 2 1 15', 't 5 4 7', 't 2 1 5', 't 7 3 8', 't 2 3 25', 't 6 4 6', 't 1 3 11', 't 0 4 18', 't 5 0 23', 't 4 1 5', 't 2 4 25', 't 1 4 27', 't 4 0 17', 't 1 1 12', 't 2 2 15', 't 8 1 6', 't 5 3 0', 't 1 1 22', 't 1 4 7', 't 0 2 27', 't 0 0 13', 't 0 3 26', 't 5 4 6', 't 7 1 15', 't 7 3 19', 't 1 3 12', 't 7 4 10', 't 2 4 7', 't 2 0 13', 't 0 1 7', 't 8 1 24', 'c 0 4 3', 't 8 3 5', 't 2 4 15', 't 8 3 25', 't 8 3 13', 't 5 3 22', 't 1 1 8', 't 1 0 25', 't 4 1 20', 't 7 3 6', 't 0 1 10', 't 0 1 26', 't 6 4 2', 't 0 2 7', 't 5 2 27', 't 5 1 26', 't 1 3 9', 't 7 0 24', 't 7 0 7', 't 2 3 15', 't 1 3 7', 't 7 3 27', 't 3 3 7', 't 3 4 7', 't 7 3 2', 't 8 3 15', 't 8 4 8', 't 8 1 27', 't 5 0 13', 't 1 0 26', 't 8 4 6', 't 7 2 0', 't 8 2 25', 't 7 4 8', 't 4 2 26', 't 7 3 3', 't 0 0 19', 't 5 1 24', 't 4 4 2', 't 8 4 12', 't 6 1 24', 't 6 1 17', 't 8 3 14', 't 8 2 22', 't 0 2 4', 't 6 4 3', 't 8 3 8', 't 4 4 18', 't 2 2 26', 't 0 2 12', 't 3 1 26', 'c 1 3 3', 't 7 0 8', 't 8 1 14', 't 8 2 17', 't 6 0 11', 't 1 3 14', 't 5 0 11', 't 4 3 2', 't 5 0 26', 't 7 4 21', 't 0 2 10', 't 2 2 23', 't 8 3 2', 't 8 2 1', 't 5 4 3', 't 0 3 24', 't 5 2 24', 't 5 2 1', 't 5 0 8', 't 4 2 13', 't 6 2 23', 't 8 0 18', 't 2 3 20', 't 3 4 4', 't 2 2 4', 't 5 0 24', 't 7 0 3', 't 4 3 12', 't 1 4 10', 't 8 1 7', 't 2 1 4', 't 4 4 22', 't 0 4 1', 't 1 1 9', 't 2 2 12', 't 3 4 13', 't 7 4 26', 't 6 3 13', 't 7 1 4', 't 1 4 24', 't 0 3 9', 't 0 1 6', 't 6 2 17', 't 3 1 4', 't 7 3 11', 't 8 2 16', 't 8 4 13', 't 8 4 23', 't 6 4 19', 't 4 4 10', 't 2 1 10', 't 8 4 15', 't 7 0 18', 't 6 0 26', 't 6 2 7', 't 8 2 9', 't 1 0 16', 't 4 4 0', 't 7 2 18', 't 8 3 4', 't 4 0 4', 't 7 4 20', 't 7 4 24', 't 8 3 10', 't 8 2 13', 't 2 4 19', 'c 0 1 1', 't 3 2 13', 't 3 4 16', 't 1 2 25', 't 8 4 1', 't 1 4 8', 't 7 1 20', 't 4 3 17', 't 1 0 27', 't 8 0 10', 't 7 3 0', 't 7 1 6', 't 8 1 3', 't 8 3 22', 't 6 3 16', 't 0 2 3', 't 6 0 7', 't 0 1 9', 't 1 3 26', 't 4 4 19', 't 7 0 6', 't 4 3 6', 't 1 3 15', 't 2 4 10', 't 8 2 20', 't 0 2 6', 't 5 1 18', 't 1 3 6', 't 1 1 27', 't 4 4 1', 't 7 0 22', 't 0 3 21', 't 8 1 17', 't 5 4 2', 't 0 1 3', 't 8 0 2', 't 5 1 12', 't 6 0 25', 't 4 4 3', 't 1 3 21', 't 1 2 6', 't 7 2 3', 't 7 3 26', 't 5 0 22', 't 3 2 7', 't 0 3 11', 't 7 3 16', 't 1 0 23', 'c 1 3 2', 't 4 4 9', 't 4 4 24', 't 6 1 4', 't 7 4 22', 't 5 2 6', 't 6 0 22', 't 0 4 3', 't 0 0 9', 't 1 3 8', 't 4 1 4', 't 7 4 23', 't 4 0 13', 't 8 0 23', 't 8 3 20', 't 3 0 21', 't 0 1 17', 't 0 3 12', 't 3 3 13', 't 2 4 13', 't 0 1 2', 't 1 3 17', 't 0 4 10', 't 8 1 1', 't 1 4 5', 't 3 4 6', 't 6 4 1', 't 2 0 5', 't 7 0 10', 't 2 4 17', 't 8 2 5', 't 7 4 18', 't 2 3 26', 't 7 4 15', 't 0 4 19', 't 7 3 20', 't 2 3 10', 't 6 0 24', 't 0 0 16', 't 0 0 7', 't 6 2 27', 't 5 0 17', 't 3 3 19', 't 0 4 8', 't 7 4 19', 't 2 0 27', 't 1 3 24', 't 2 4 4', 't 8 3 16', 't 7 3 18', 't 0 4 7', 't 7 4 7', 't 1 4 23', 't 1 0 0', 't 6 1 26', 't 1 2 10', 't 7 0 17', 't 7 2 9', 't 8 3 11', 't 6 1 18', 'c 0 0 1', 't 2 4 20', 't 5 3 19', 'c 1 4 3', 't 2 3 19', 't 2 0 20', 't 1 0 9', 't 1 0 6', 't 1 2 11', 't 7 4 6', 't 1 1 18', 't 1 2 21', 't 6 1 5', 't 5 2 7', 't 8 0 16', 't 1 1 3', 't 7 4 17', 't 6 2 1', 't 1 2 18', 't 5 0 6', 't 8 1 11', 't 1 4 22', 't 5 4 19', 't 0 0 15', 't 2 3 0', 't 1 3 1', 't 8 1 0', 't 1 0 13', 't 4 3 7', 't 6 3 0', 't 5 2 0', 't 3 4 22', 't 6 3 7', 't 6 0 6', 't 2 3 18', 't 8 2 6', 't 4 2 18', 't 4 3 16', 't 8 4 20', 't 7 0 20', 't 0 3 15', 't 7 2 10', 't 0 1 20', 't 8 4 25', 't 7 0 11', 't 3 2 5', 't 0 1 24', 't 7 0 21', 't 8 1 16', 't 7 0 23', 't 7 2 15', 't 0 0 3', 't 5 0 10', 't 8 1 13', 't 1 0 17', 't 8 3 17', 't 1 4 9', 't 1 3 20', 't 7 0 0', 't 0 2 23', 't 7 3 4', 't 4 0 6', 't 0 4 17', 't 3 2 21', 't 6 2 25', 't 3 2 6', 't 4 3 21', 't 8 0 14', 't 0 4 15', 't 4 2 4', 't 8 1 12', 't 2 3 1', 't 1 4 11', 't 1 4 21', 't 6 2 5', 't 1 3 3', 't 1 0 20', 't 3 1 17', 't 0 0 20', 'c 1 2 2', 't 0 4 6', 't 1 1 19', 't 0 3 8', 't 7 2 20', 't 8 1 20', 't 0 4 11', 't 4 2 0', 't 2 2 20', 't 6 1 0', 't 8 3 23', 't 2 1 20', 't 0 3 20', 't 0 3 19', 't 1 4 20', 't 8 0 20', 't 1 4 17', 't 0 4 20', 't 1 0 8', 't 1 2 20', 't 5 0 7', 't 1 2 19', 't 0 1 19', 't 0 2 20', 't 0 2 19', 't 3 4 11', 't 1 1 20', 't 1 4 19', 't 1 3 19']\n",
    "index_set = set(index_layer_list[:440])\n",
    "print(len(index_set))"
   ]
  },
  {
   "cell_type": "code",
   "execution_count": 30,
   "metadata": {},
   "outputs": [
    {
     "name": "stderr",
     "output_type": "stream",
     "text": [
      "  0%|                                                                                            | 0/9 [00:00<?, ?it/s]"
     ]
    },
    {
     "name": "stdout",
     "output_type": "stream",
     "text": [
      "X_I (198000, 5, 128)\n",
      "X_Q (198000, 5, 128)\n",
      "X_complex (198000, 5, 128)\n"
     ]
    },
    {
     "name": "stderr",
     "output_type": "stream",
     "text": [
      "100%|████████████████████████████████████████████████████████████████████████████████████| 9/9 [00:23<00:00,  2.63s/it]\n",
      "  0%|                                                                                            | 0/9 [00:00<?, ?it/s]"
     ]
    },
    {
     "name": "stdout",
     "output_type": "stream",
     "text": [
      "X_I (22000, 5, 128)\n",
      "X_Q (22000, 5, 128)\n",
      "X_complex (22000, 5, 128)\n"
     ]
    },
    {
     "name": "stderr",
     "output_type": "stream",
     "text": [
      "100%|████████████████████████████████████████████████████████████████████████████████████| 9/9 [00:02<00:00,  3.35it/s]"
     ]
    },
    {
     "name": "stdout",
     "output_type": "stream",
     "text": [
      "X_train_feature_time (198000, 132)\n",
      "X_test_feature_time (22000, 132)\n"
     ]
    },
    {
     "name": "stderr",
     "output_type": "stream",
     "text": [
      "\n"
     ]
    }
   ],
   "source": [
    "# get the time features with the filter index\n",
    "from tqdm import tqdm\n",
    "def form_features_time(X):\n",
    "    \n",
    "    #Form array of complex numbers; convert each (2,128) sample to a (128,) sample\n",
    "    \n",
    "    n_samples = X.shape[0]\n",
    "    rows = X.shape[1]\n",
    "    vec_len = X.shape[2]\n",
    "    input_group = []\n",
    "    for ran in [0]:\n",
    "        \n",
    "        X_I_0 = X[:,0+ran,:]\n",
    "        X_Q_0 = X[:,1+ran,:]\n",
    "        X_I_list = [X_I_0]\n",
    "        X_Q_list = [X_Q_0]\n",
    "        for i in [2,4,6,8]:\n",
    "            X_I_tmp = np.concatenate((X_I_0[:, i:], X_I_0[:, :i]), axis = 1)\n",
    "            X_I_list.append(X_I_tmp * X_I_0)\n",
    "            X_Q_tmp = np.concatenate((X_Q_0[:, i:], X_Q_0[:, :i]), axis = 1)\n",
    "            X_Q_list.append(X_Q_tmp * X_Q_0)\n",
    "\n",
    "        X_complex_0 = X_I_0 + 1j*X_Q_0 # 100*1024\n",
    "        X_complex_list = [X_complex_0]   \n",
    "        for i in [2,4,6,8]:\n",
    "            X_complex_tmp = np.concatenate((X_complex_0[:, i:], X_complex_0[:, :i]), axis = 1)\n",
    "            X_complex_list.append(X_complex_tmp*X_complex_0)\n",
    "            \n",
    "        \n",
    "        X_I = np.array(X_I_list).swapaxes(0, 1)\n",
    "        X_Q = np.array(X_Q_list).swapaxes(0, 1)\n",
    "        X_complex = np.array(X_complex_list).swapaxes(0, 1)   \n",
    "        del X_I_0, X_Q_0, X_complex_0, X_I_list, X_Q_list, X_complex_list\n",
    "        \n",
    "        X_IQ_mul = X_I * X_Q\n",
    "        X_complex_abs = np.abs(X_complex) # 100 6 1024\n",
    "        X_complex_abs2 = np.abs(X_I) + np.abs(X_Q) # 100 4 1024\n",
    "        X_complex_sqr = np.square(np.abs(X_complex))  # 100 4 1024\n",
    "        X_complex_sqr2 = np.abs(np.square(X_complex))  # 100 4 1024        \n",
    "        X_complex_angl = np.angle(X_complex) # 100 4 1024\n",
    "        X_complex_angl_abs = np.abs(X_complex_angl) # 100 4 1024\n",
    "        X_complex_angl_cir = np.concatenate((X_complex_angl[:, :, 1:], X_complex_angl[:, :, X_complex_angl.shape[2]-1:]), axis = 2)\n",
    "        X_complex_fre = (X_complex_angl_cir - X_complex_angl) / 6.28 # 100 4 1024\n",
    "        X_complex_fre_abs = np.abs(X_complex_fre)\n",
    "        print(\"X_I\", X_I.shape)\n",
    "        print(\"X_Q\", X_Q.shape)\n",
    "        print(\"X_complex\", X_complex.shape)\n",
    "        input_group.extend([X_I, X_Q, X_IQ_mul, X_complex_abs, X_complex_abs2, X_complex_sqr, X_complex_sqr2, X_complex_angl, X_complex_fre])\n",
    "        \n",
    "        del X_I, X_Q, X_complex, X_complex_sqr, X_complex_abs, X_complex_angl, X_complex_angl_abs, X_complex_angl_cir, X_complex_fre, X_complex_fre_abs\n",
    "        g_num = len(input_group)\n",
    "\n",
    "        \n",
    "    dict_features = {}\n",
    "    for i in tqdm(range(len(input_group))):\n",
    "        for j in range(input_group[0].shape[1]):\n",
    "            # 9 * 5 * 28 = 1260\n",
    "            index_list = []\n",
    "            for z in range(28):\n",
    "                index = 't' + ' ' + str(i) + ' ' + str(j) + ' ' + str(z)\n",
    "                if index in index_set:\n",
    "                    index_list.append(z)\n",
    "#                 index_list.append(z)\n",
    "            for k in index_list:\n",
    "#                 #part one feat_trad\n",
    "#                 if k==0:\n",
    "#                     dict_features['element_mean'+str(i)+str(j)] = element_mean(input_group[i][:, j:j+1, :])\n",
    "#                 elif k==1:\n",
    "#                     dict_features['element_abs_mean'+str(i)+str(j)] = element_abs_mean(input_group[i][:, j:j+1, :])\n",
    "#                 elif k==2:\n",
    "#                     dict_features['element_std'+str(i)+str(j)] = element_std(input_group[i][:, j:j+1, :])\n",
    "#                 elif k==3:\n",
    "#                     dict_features['element_std_abs'+str(i)+str(j)] = element_std_abs(input_group[i][:, j:j+1, :])\n",
    "#                 elif k==4:\n",
    "#                     dict_features['abs_max_mins_min'+str(i)+str(j)] = abs_max_mins_min(input_group[i][:, j:j+1, :])\n",
    "#                 elif k==5:\n",
    "#                     dict_features['max_mins_min_abs'+str(i)+str(j)] = max_mins_min_abs(input_group[i][:, j:j+1, :])\n",
    "#                 elif k==6:\n",
    "#                     dict_features['abs_mean_sqr'+str(i)+str(j)] = abs_mean_sqr(input_group[i][:, j:j+1, :])\n",
    "#                 elif k==7:\n",
    "#                     dict_features['mean_sqr_abs'+str(i)+str(j)] = mean_sqr_abs(input_group[i][:, j:j+1, :])\n",
    "#                 elif k==8:\n",
    "#                     dict_features['abs_sqrmean_mis_meansqr'+str(i)+str(j)] = abs_sqrmean_mis_meansqr(input_group[i][:, j:j+1, :])\n",
    "#                 elif k==9:\n",
    "#                     dict_features['sqrmean_mis_meansqr_abs'+str(i)+str(j)] = sqrmean_mis_meansqr_abs(input_group[i][:, j:j+1, :])\n",
    "#                 elif k==10:\n",
    "#                     dict_features['abs_fourmean_mis_meanfour'+str(i)+str(j)] = abs_fourmean_mis_meanfour(input_group[i][:, j:j+1, :])\n",
    "#                 elif k==11:\n",
    "#                     dict_features['fourmean_mis_meanfour_abs'+str(i)+str(j)] = fourmean_mis_meanfour_abs(input_group[i][:, j:j+1, :])\n",
    "                \n",
    "\n",
    "                # part two time\n",
    "                if k==12:\n",
    "                    dict_features['absolute_sum_of_changes'+str(i)+str(j)] = absolute_sum_of_changes(input_group[i][:, j:j+1, :])\n",
    "                elif k==13:\n",
    "                    dict_features['approximate_entropy'+str(i)+str(j)] = approximate_entropy(input_group[i][:, j:j+1, :])\n",
    "                elif k==14:\n",
    "                    dict_features['autocorrelation'+str(i)+str(j)] = autocorrelation(input_group[i][:, j:j+1, :])\n",
    "                elif k==15:\n",
    "                    dict_features['count_above_mean'+str(i)+str(j)] = count_above_mean(input_group[i][:, j:j+1, :])\n",
    "                elif k==16:\n",
    "                    dict_features['count_below_mean'+str(i)+str(j)] = count_below_mean(input_group[i][:, j:j+1, :])\n",
    "                elif k==17:\n",
    "                    dict_features['cwt_coefficients'+str(i)+str(j)] = cwt_coefficients(input_group[i][:, j:j+1, :])\n",
    "\n",
    "                elif k==18:\n",
    "                    dict_features['kurtosis'+str(i)+str(j)] = kurtosis(input_group[i][:, j:j+1, :])\n",
    "                elif k==19:\n",
    "                    dict_features['skewness'+str(i)+str(j)] = skewness(input_group[i][:, j:j+1, :])\n",
    "\n",
    "#                 # part three complex\n",
    "#                 if k==20:\n",
    "#                     dict_features['max_amp_density_abs'+str(i)+str(j)] = max_amp_density_abs(input_group[i][:, j:j+1, :])\n",
    "#                 elif k==21:\n",
    "#                     dict_features['std_phase_abs'+str(i)+str(j)] = std_phase_abs(input_group[i][:, j:j+1, :], \n",
    "#                                                                                  input_group[int(i/g_num)*g_num+2][:, j:j+1, :])\n",
    "#                 elif k==22:\n",
    "#                     dict_features['std_phase'+str(i)+str(j)] = std_phase(input_group[i][:, j:j+1, :], \n",
    "#                                                                          input_group[int(i/g_num)*g_num+2][:, j:j+1, :])\n",
    "#                 elif k==23:\n",
    "#                     dict_features['std_amp_abs'+str(i)+str(j)] = std_amp_abs(input_group[i][:, j:j+1, :])\n",
    "#                 elif k==24:\n",
    "#                     dict_features['std_fre_abs'+str(i)+str(j)] = std_fre_abs(input_group[i][:, j:j+1, :], \n",
    "#                                                                              input_group[int(i/g_num)*g_num+2][:, j:j+1, :])\n",
    "#                 elif k==25:\n",
    "#                     dict_features['std_amp'+str(i)+str(j)] = std_amp(input_group[i][:, j:j+1, :])\n",
    "#                 elif k==26:\n",
    "#                     dict_features['den_amp'+str(i)+str(j)] = den_amp(input_group[i][:, j:j+1, :])\n",
    "#                 elif k==27:\n",
    "#                     dict_features['den_fre'+str(i)+str(j)] = den_fre(input_group[i][:, j:j+1, :])\n",
    "#                 elif k==28:\n",
    "#                     dict_features['cum_feat'+str(i)+str(j)] = accumulat_features(input_group[i][:, j:j+1, :])\n",
    "\n",
    "            \n",
    "            \n",
    "    #Concatenate feature arrays\n",
    "    features = []\n",
    "    features += dict_features.values()\n",
    "    features = np.concatenate(np.array(features), axis = 2)\n",
    "   \n",
    "    return features.reshape(features.shape[0], -1)\n",
    "\n",
    "X_train_feature_time = form_features_time(X_train[:,:,:])\n",
    "X_test_feature_time = form_features_time(X_test[:,:,:])\n",
    "print(\"X_train_feature_time\", X_train_feature_time.shape)\n",
    "print(\"X_test_feature_time\", X_test_feature_time.shape)\n",
    "\n",
    "# X_train_feature_old = form_features_time(X_train[:,:,:])\n",
    "# X_test_feature_old = form_features_time(X_test[:,:,:])\n",
    "# print(\"X_train_feature_old\", X_train_feature_old.shape)\n",
    "# print(\"X_test_feature_old\", X_test_feature_old.shape)\n",
    "\n",
    "# X_train_feature_expert = form_features_time(X_train[:,:,:])\n",
    "# X_test_feature_expert = form_features_time(X_test[:,:,:])\n",
    "# print(\"X_train_feature_expert\", X_train_feature_expert.shape)\n",
    "# print(\"X_test_feature_expert\", X_test_feature_expert.shape)"
   ]
  },
  {
   "cell_type": "code",
   "execution_count": 31,
   "metadata": {},
   "outputs": [],
   "source": [
    "X_train_feature_time = pd.DataFrame(X_train_feature_time)\n",
    "X_train_feature_time.to_csv('X_train_feature_time.csv')\n",
    "X_test_feature_time = pd.DataFrame(X_test_feature_time)\n",
    "X_test_feature_time.to_csv('X_test_feature_time.csv')"
   ]
  },
  {
   "cell_type": "code",
   "execution_count": 24,
   "metadata": {},
   "outputs": [],
   "source": [
    "# X_train_feature_old = pd.DataFrame(X_train_feature_old)\n",
    "# X_train_feature_old.to_csv('X_train_feature_old.csv')\n",
    "# X_test_feature_old = pd.DataFrame(X_test_feature_old)\n",
    "# X_test_feature_old.to_csv('X_test_feature_old.csv')"
   ]
  },
  {
   "cell_type": "code",
   "execution_count": 22,
   "metadata": {},
   "outputs": [],
   "source": [
    "# X_train_feature_expert = pd.DataFrame(X_train_feature_expert)\n",
    "# X_train_feature_expert.to_csv('X_train_feature_expert.csv')\n",
    "# X_test_feature_expert = pd.DataFrame(X_test_feature_expert)\n",
    "# X_test_feature_expert.to_csv('X_test_feature_expert.csv')"
   ]
  },
  {
   "cell_type": "code",
   "execution_count": 24,
   "metadata": {},
   "outputs": [],
   "source": [
    "# # get the complex features with the filter index \n",
    "\n",
    "# from tqdm import tqdm\n",
    "# def form_features_complex(X):\n",
    "    \n",
    "#     #Form array of complex numbers; convert each (2,128) sample to a (128,) sample\n",
    "    \n",
    "#     n_samples = X.shape[0]\n",
    "#     rows = X.shape[1]\n",
    "#     vec_len = X.shape[2]\n",
    "        \n",
    "#     X_complex_0_1 = X[:,0,:] + 1j*X[:,1,:] # 100*1024\n",
    "#     #X_complex_0_2 = X[:,2,:] + 1j*X[:,3,:] # 100*1024\n",
    "\n",
    "#     phase_list = [X_complex_0_1, X_complex_0_1]\n",
    "#     #del X_complex_0_1, X_complex_0_2\n",
    "    \n",
    "#     input_group = []\n",
    "#     for j in range(len(phase_list)):\n",
    "#         X_complex_list = [phase_list[j]]\n",
    "#         for i in [2,4,6,8]:\n",
    "#             X_complex_tmp = np.concatenate((phase_list[j][:, i:], phase_list[j][:, :i]), axis = 1)\n",
    "#             X_complex_list.append(X_complex_tmp*phase_list[j])\n",
    "#         X_complex_arr = np.array(X_complex_list).swapaxes(0, 1)\n",
    "#         input_group.append(X_complex_arr)\n",
    "\n",
    "#     print(\"input_group_len\", len(input_group))\n",
    "#     print(\"input_group[0]_shape\", input_group[0].shape)        \n",
    "#     dict_features = {}\n",
    "    \n",
    "#     for i in tqdm(range(len(input_group))):\n",
    "#         for j in range(input_group[0].shape[1]):\n",
    "#             # 2 * 5 * 6 = 60\n",
    "#             index_list = []\n",
    "#             for z in range(6):\n",
    "#                 index = 'c' + ' ' + str(i) + ' ' + str(j) + ' ' + str(z)\n",
    "#                 if index in index_set:\n",
    "#                     index_list.append(z)\n",
    "# #                 index_list.append(z)\n",
    "#             for k in index_list:\n",
    "#                 if k == 0:\n",
    "#                     dict_features['element_abs_mean'+str(i)+str(j)] = element_abs_mean(input_group[i][:, j:j+1, :])\n",
    "#                 elif k == 1:   \n",
    "#                     dict_features['abs_max_mins_min'+str(i)+str(j)] = abs_max_mins_min(input_group[i][:, j:j+1, :])\n",
    "#                 elif k == 2:    \n",
    "#                     dict_features['abs_mean_sqr'+str(i)+str(j)] = abs_mean_sqr(input_group[i][:, j:j+1, :])\n",
    "#                 elif k == 3:     \n",
    "#                     dict_features['abs_sqrmean_mis_meansqr'+str(i)+str(j)] = abs_sqrmean_mis_meansqr(input_group[i][:, j:j+1, :])\n",
    "#                 elif k == 4:     \n",
    "#                     dict_features['abs_fourmean_mis_meanfour'+str(i)+str(j)] = abs_fourmean_mis_meanfour(input_group[i][:, j:j+1, :])\n",
    "#                 elif k == 5:     \n",
    "#                     dict_features['absolute_sum_of_changes'+str(i)+str(j)] = absolute_sum_of_changes(input_group[i][:, j:j+1, :])\n",
    "\n",
    "        \n",
    "#     #Concatenate feature arrays\n",
    "#     features = []\n",
    "#     features += dict_features.values()\n",
    "#     features = np.concatenate(np.array(features), axis = 2)\n",
    "#     return features.reshape(features.shape[0], -1)\n",
    "\n",
    "# X_train_feature_complex = form_features_complex(X_train)\n",
    "# X_test_feature_complex = form_features_complex(X_test)\n",
    "# print(X_train_feature_complex.shape)\n",
    "# print(X_test_feature_complex.shape)"
   ]
  },
  {
   "cell_type": "code",
   "execution_count": 25,
   "metadata": {},
   "outputs": [],
   "source": [
    "# X_train_feature_complex = pd.DataFrame(X_train_feature_complex)\n",
    "# X_test_feature_complex = pd.DataFrame(X_test_feature_complex)"
   ]
  },
  {
   "cell_type": "code",
   "execution_count": 26,
   "metadata": {},
   "outputs": [],
   "source": [
    "# X_train_feature_complex.to_csv('X_train_feature_complex.csv')\n",
    "# X_test_feature_complex.to_csv('X_test_feature_complex.csv')"
   ]
  },
  {
   "cell_type": "code",
   "execution_count": 27,
   "metadata": {},
   "outputs": [],
   "source": [
    "# # concate time feature and complex feature together\n",
    "# X_train_feature = np.concatenate((X_train_feature_time, X_train_feature_complex), axis = 1)\n",
    "# X_test_feature = np.concatenate((X_test_feature_time, X_test_feature_complex), axis = 1)\n",
    "\n",
    "# print(X_train_feature.shape)\n",
    "# print(X_test_feature.shape)"
   ]
  },
  {
   "cell_type": "code",
   "execution_count": 28,
   "metadata": {},
   "outputs": [
    {
     "name": "stdout",
     "output_type": "stream",
     "text": [
      "(220000, 152)\n",
      "X_train_std_all, (176000, 152)\n",
      "X_test_std, (44000, 152)\n"
     ]
    }
   ],
   "source": [
    "# standardize the features\n",
    "X_train_feature = X_train_feature_old\n",
    "X_test_feature = X_test_feature_old\n",
    "\n",
    "from sklearn.feature_selection import VarianceThreshold\n",
    "X_all = np.concatenate((X_train_feature, X_test_feature), axis = 0)\n",
    "\n",
    "s0 = X_train_feature.shape[0]\n",
    "s1 = X_train_feature.shape[1]\n",
    "\n",
    "k = 1\n",
    "interval = int(s1/k)\n",
    "X_train_std_all_list = []\n",
    "X_test_std_list = []\n",
    "sc_train = []\n",
    "for i in range(k):\n",
    "    X_all_filter = VarianceThreshold(threshold=(0)).fit_transform(X_all[:,interval*i: interval*(i+1)])\n",
    "    sc_train.append(StandardScaler())\n",
    "    print(X_all_filter.shape)\n",
    "    sc_train[i].fit(X_all_filter)\n",
    "    X_train_std_all_list.append(sc_train[i].transform(X_all_filter[:s0,:])) \n",
    "    X_test_std_list.append(sc_train[i].transform(X_all_filter[s0:,:]))\n",
    "X_train_std_all = np.concatenate((X_train_std_all_list), axis = 1)\n",
    "X_test_std = np.concatenate((X_test_std_list), axis = 1)\n",
    "\n",
    "print(\"X_train_std_all,\", X_train_std_all.shape)\n",
    "print(\"X_test_std,\", X_test_std.shape)"
   ]
  },
  {
   "cell_type": "code",
   "execution_count": 29,
   "metadata": {},
   "outputs": [
    {
     "name": "stdout",
     "output_type": "stream",
     "text": [
      "X_train_std, (132000, 152)\n",
      "X_val_std, (44000, 152)\n",
      "X_test_std, (44000, 152)\n"
     ]
    }
   ],
   "source": [
    "# devide train and val data\n",
    "from sklearn.model_selection import train_test_split\n",
    "X_train_std, X_val_std, y_train, y_val = train_test_split(X_train_std_all, Y_train, test_size=1/4, random_state=42)\n",
    "print(\"X_train_std,\", X_train_std.shape)\n",
    "print(\"X_val_std,\", X_val_std.shape)\n",
    "print(\"X_test_std,\", X_test_std.shape)"
   ]
  },
  {
   "cell_type": "code",
   "execution_count": 30,
   "metadata": {},
   "outputs": [],
   "source": [
    "# inf,nan数据填充\n",
    "X_train_std = pd.DataFrame(X_train_std)\n",
    "X_train_std = (X_train_std.replace([np.inf, -np.inf], np.nan)).fillna(value = 0) "
   ]
  },
  {
   "cell_type": "code",
   "execution_count": 31,
   "metadata": {},
   "outputs": [],
   "source": [
    "X_val_std = pd.DataFrame(X_val_std)\n",
    "X_val_std = (X_val_std.replace([np.inf, -np.inf], np.nan)).fillna(value = 0) "
   ]
  },
  {
   "cell_type": "code",
   "execution_count": 32,
   "metadata": {},
   "outputs": [
    {
     "data": {
      "text/plain": [
       "(44000, 152)"
      ]
     },
     "execution_count": 32,
     "metadata": {},
     "output_type": "execute_result"
    }
   ],
   "source": [
    "X_val_std.shape"
   ]
  },
  {
   "cell_type": "markdown",
   "metadata": {},
   "source": [
    "# CART,GBDT,XGBoost"
   ]
  },
  {
   "cell_type": "code",
   "execution_count": 33,
   "metadata": {},
   "outputs": [],
   "source": [
    "label_train = pd.DataFrame(y_train).apply(lambda x: x.argmax(), axis=1).values\n",
    "label_test = pd.DataFrame(y_val).apply(lambda x: x.argmax(), axis=1).values"
   ]
  },
  {
   "cell_type": "code",
   "execution_count": null,
   "metadata": {},
   "outputs": [],
   "source": [
    "# # train basic model: GradientBoosting model\n",
    "# from sklearn.datasets import make_classification\n",
    "# from sklearn.ensemble import GradientBoostingClassifier\n",
    "\n",
    "# clf = GradientBoostingClassifier(random_state=0)\n",
    "# clf.fit(X_train_std, label_train)\n",
    "# score = clf.score(X_val_std, label_test)\n",
    "# print(score)"
   ]
  },
  {
   "cell_type": "code",
   "execution_count": 34,
   "metadata": {},
   "outputs": [
    {
     "name": "stdout",
     "output_type": "stream",
     "text": [
      "0.45486363636363636\n"
     ]
    }
   ],
   "source": [
    "from sklearn import datasets,model_selection,metrics,tree,preprocessing\n",
    "#x=preprocessing.StandardScaler().fit_transform(x)\n",
    "# 划分训练集、测试集\n",
    "#x_train,x_test,y_train,y_test=model_selection.train_test_split(X_train_std,y_train,test_size=0.3)\n",
    "# 导入决策树\n",
    "model=tree.DecisionTreeClassifier(max_depth=35)\n",
    "# 模型训练\n",
    "model.fit(X_train_std,y_train)\n",
    "# 模型预测\n",
    "y_pred=model.predict(X_val_std)\n",
    "# 模型性能评价\n",
    "print(metrics.accuracy_score(y_pred,y_val))"
   ]
  },
  {
   "cell_type": "code",
   "execution_count": null,
   "metadata": {},
   "outputs": [],
   "source": [
    "def plot_confusion_matrix(cm, title='FFT-based Confusion matrix', cmap=plt.cm.Blues, labels=[]):\n",
    "    plt.imshow(cm, interpolation='nearest', cmap=cmap)\n",
    "    plt.title(title)\n",
    "    plt.colorbar()\n",
    "    tick_marks = np.arange(len(labels))\n",
    "    plt.xticks(tick_marks, labels, rotation=45)\n",
    "    plt.yticks(tick_marks, labels)\n",
    "    plt.tight_layout()\n",
    "    plt.ylabel('True label')\n",
    "    plt.xlabel('Predicted label')"
   ]
  },
  {
   "cell_type": "code",
   "execution_count": null,
   "metadata": {},
   "outputs": [],
   "source": [
    "# Plot confusion matrix\n",
    "batch_size = 64\n",
    "classes = mods\n",
    "test_Y_hat = model.predict(X_val_std)\n",
    "conf = np.zeros([len(classes),len(classes)])\n",
    "confnorm = np.zeros([len(classes),len(classes)])\n",
    "for i in range(0,X_test.shape[0]):\n",
    "    j = list(Y_test[i,:]).index(1)\n",
    "    k = int(test_Y_hat[i,:])\n",
    "    conf[j,k] = conf[j,k] + 1\n",
    "for i in range(0,len(classes)):\n",
    "    confnorm[i,:] = conf[i,:] / np.sum(conf[i,:])\n",
    "plot_confusion_matrix(confnorm, labels=classes)\n",
    "plt.savefig('pic\\Confusion_Matrix\\Feat_CM_CART.jpg',dpi = 300)"
   ]
  },
  {
   "cell_type": "code",
   "execution_count": null,
   "metadata": {},
   "outputs": [],
   "source": [
    "# model0:原模型测试\n",
    "classes = mods\n",
    "acc = {}\n",
    "for snr in snrs:\n",
    "\n",
    "    # extract classes @ SNR\n",
    "    test_SNRs = list(map(lambda x: lbl[x][1], test_idx))\n",
    "    test_X_i = X_test_FFT[np.where(np.array(test_SNRs)==snr)]\n",
    "    test_Y_i = Y_test[np.where(np.array(test_SNRs)==snr)]   \n",
    "    #print(test_X_i)\n",
    "    test_Y_i_hat = model.predict(test_X_i)\n",
    "    # estimate classes\n",
    "    test_Y_i_hat = model.predict(test_X_i)\n",
    "    conf = np.zeros([len(classes),len(classes)])\n",
    "    confnorm = np.zeros([len(classes),len(classes)])\n",
    "    for i in range(0,test_X_i.shape[0]):\n",
    "        j = list(test_Y_i[i,:]).index(1)\n",
    "        k = int(np.argmax(test_Y_i_hat[i,:]))\n",
    "        conf[j,k] = conf[j,k] + 1\n",
    "    for i in range(0,len(classes)):\n",
    "        confnorm[i,:] = conf[i,:] / np.sum(conf[i,:])\n",
    "    #plt.figure()\n",
    "    #plot_confusion_matrix(confnorm, labels=classes, title=\"ConvNet Confusion Matrix (SNR=%d)\"%(snr))\n",
    "    \n",
    "    cor = np.sum(np.diag(conf))\n",
    "    ncor = np.sum(conf) - cor\n",
    "    print(\"Overall Accuracy: \", cor / (cor+ncor))\n",
    "    acc[snr] = 1.0*cor/(cor+ncor)"
   ]
  },
  {
   "cell_type": "markdown",
   "metadata": {},
   "source": [
    "# XGBoost"
   ]
  },
  {
   "cell_type": "code",
   "execution_count": 40,
   "metadata": {},
   "outputs": [],
   "source": [
    "import pandas as pd\n",
    "import numpy as np\n",
    "import xgboost as xgb\n",
    "from sklearn.model_selection import train_test_split\n",
    "import sklearn\n",
    "import warnings\n",
    "from numpy import loadtxt\n",
    "from xgboost import XGBClassifier\n",
    "from xgboost import plot_importance\n",
    "from matplotlib import  pyplot\n",
    "from sklearn.metrics import roc_curve, auc\n",
    "import matplotlib as mpl  \n",
    "import matplotlib.pyplot as plt"
   ]
  },
  {
   "cell_type": "code",
   "execution_count": 44,
   "metadata": {},
   "outputs": [
    {
     "name": "stdout",
     "output_type": "stream",
     "text": [
      "[10:19:33] WARNING: C:\\Users\\Administrator\\workspace\\xgboost-win64_release_1.1.0\\src\\learner.cc:480: \n",
      "Parameters: { scale_pos_weight, silent } might not be used.\n",
      "\n",
      "  This may not be accurate due to some parameters are only used in language bindings but\n",
      "  passed down to XGBoost core.  Or some parameters are not used but slip through this\n",
      "  verification. Please open an issue if you find above cases.\n",
      "\n",
      "\n"
     ]
    },
    {
     "data": {
      "text/plain": [
       "XGBClassifier(base_score=0.5, booster='gbtree', colsample_bylevel=1,\n",
       "              colsample_bynode=1, colsample_bytree=0.8, gamma=0.0, gpu_id=-1,\n",
       "              importance_type='gain', interaction_constraints='',\n",
       "              learning_rate=0.05, max_delta_step=0, max_depth=6,\n",
       "              min_child_weight=1, missing=nan, monotone_constraints='()',\n",
       "              n_estimators=2000, n_jobs=0, num_class=11, num_parallel_tree=1,\n",
       "              objective='multi:softprob', random_state=0, reg_alpha=0,\n",
       "              reg_lambda=1, scale_pos_weight=1, silent=1, subsample=1,\n",
       "              tree_method='exact', validate_parameters=1, verbosity=None)"
      ]
     },
     "execution_count": 44,
     "metadata": {},
     "output_type": "execute_result"
    }
   ],
   "source": [
    "clf1 = xgb.XGBClassifier(max_depth=6,\n",
    "                         num_class=11,\n",
    "                        learning_rate=0.05,\n",
    "                        n_estimators=2000,\n",
    "                        objective='multi:softmax',\n",
    "                        gamma=0.0,\n",
    "                        min_child_weight=1,\n",
    "                        max_delta_step=0,\n",
    "                       subsample=1,\n",
    "                        colsample_bytree=0.8,\n",
    "                        colsample_bylevel=1,\n",
    "                        reg_alpha=0,\n",
    "                        reg_lambda=1,\n",
    "                        scale_pos_weight=1,\n",
    "                        silent=1\n",
    "                        )\n",
    "clf1.fit(X_train_std, label_train, eval_set=[(X_train_std, label_train), (X_val_std, label_test)], eval_metric='mlogloss',verbose = False)\n",
    "##########################################################################################################################################"
   ]
  },
  {
   "cell_type": "code",
   "execution_count": 70,
   "metadata": {},
   "outputs": [],
   "source": [
    "y_pred = clf1.predict(X_val_std)\n",
    "#y_pred = clf1.predict(X_val_std)[:, 1]"
   ]
  },
  {
   "cell_type": "code",
   "execution_count": 80,
   "metadata": {},
   "outputs": [
    {
     "data": {
      "text/plain": [
       "array([7, 0, 6, ..., 8, 2, 8], dtype=int64)"
      ]
     },
     "execution_count": 80,
     "metadata": {},
     "output_type": "execute_result"
    }
   ],
   "source": [
    "y_pred"
   ]
  },
  {
   "cell_type": "code",
   "execution_count": 83,
   "metadata": {},
   "outputs": [
    {
     "data": {
      "text/plain": [
       "array([[0., 0., 0., ..., 0., 0., 0.],\n",
       "       [0., 0., 0., ..., 0., 0., 0.],\n",
       "       [0., 0., 0., ..., 0., 0., 0.],\n",
       "       ...,\n",
       "       [0., 0., 0., ..., 0., 0., 0.],\n",
       "       [0., 0., 0., ..., 0., 1., 0.],\n",
       "       [0., 0., 0., ..., 1., 0., 0.]])"
      ]
     },
     "execution_count": 83,
     "metadata": {},
     "output_type": "execute_result"
    }
   ],
   "source": [
    "y_test"
   ]
  },
  {
   "cell_type": "code",
   "execution_count": 85,
   "metadata": {},
   "outputs": [],
   "source": [
    "y_test = pd.DataFrame(y_test).apply(lambda x: x.argmax(), axis=1).values"
   ]
  },
  {
   "cell_type": "code",
   "execution_count": 86,
   "metadata": {},
   "outputs": [
    {
     "ename": "ValueError",
     "evalue": "Classification metrics can't handle a mix of multilabel-indicator and multiclass targets",
     "output_type": "error",
     "traceback": [
      "\u001b[1;31m---------------------------------------------------------------------------\u001b[0m",
      "\u001b[1;31mValueError\u001b[0m                                Traceback (most recent call last)",
      "\u001b[1;32m<ipython-input-86-8394b3a628c1>\u001b[0m in \u001b[0;36m<module>\u001b[1;34m\u001b[0m\n\u001b[0;32m      3\u001b[0m \u001b[1;32mfrom\u001b[0m \u001b[0msklearn\u001b[0m\u001b[1;33m.\u001b[0m\u001b[0mmetrics\u001b[0m \u001b[1;32mimport\u001b[0m \u001b[0maccuracy_score\u001b[0m\u001b[1;33m\u001b[0m\u001b[1;33m\u001b[0m\u001b[0m\n\u001b[0;32m      4\u001b[0m \u001b[1;32mfrom\u001b[0m \u001b[0msklearn\u001b[0m \u001b[1;32mimport\u001b[0m \u001b[0mdatasets\u001b[0m\u001b[1;33m,\u001b[0m\u001b[0mmodel_selection\u001b[0m\u001b[1;33m,\u001b[0m\u001b[0mmetrics\u001b[0m\u001b[1;33m,\u001b[0m\u001b[0mtree\u001b[0m\u001b[1;33m,\u001b[0m\u001b[0mpreprocessing\u001b[0m\u001b[1;33m\u001b[0m\u001b[1;33m\u001b[0m\u001b[0m\n\u001b[1;32m----> 5\u001b[1;33m \u001b[0macc\u001b[0m \u001b[1;33m=\u001b[0m \u001b[0maccuracy_score\u001b[0m\u001b[1;33m(\u001b[0m\u001b[0my_test\u001b[0m\u001b[1;33m,\u001b[0m\u001b[0my_pred\u001b[0m\u001b[1;33m)\u001b[0m\u001b[1;33m\u001b[0m\u001b[1;33m\u001b[0m\u001b[0m\n\u001b[0m\u001b[0;32m      6\u001b[0m \u001b[1;33m\u001b[0m\u001b[0m\n\u001b[0;32m      7\u001b[0m \u001b[1;32mfrom\u001b[0m \u001b[0msklearn\u001b[0m\u001b[1;33m.\u001b[0m\u001b[0mmetrics\u001b[0m \u001b[1;32mimport\u001b[0m \u001b[0mprecision_score\u001b[0m\u001b[1;33m\u001b[0m\u001b[1;33m\u001b[0m\u001b[0m\n",
      "\u001b[1;32mD:\\Anaconda3\\envs\\AMC\\lib\\site-packages\\sklearn\\metrics\\_classification.py\u001b[0m in \u001b[0;36maccuracy_score\u001b[1;34m(y_true, y_pred, normalize, sample_weight)\u001b[0m\n\u001b[0;32m    209\u001b[0m \u001b[1;33m\u001b[0m\u001b[0m\n\u001b[0;32m    210\u001b[0m     \u001b[1;31m# Compute accuracy for each possible representation\u001b[0m\u001b[1;33m\u001b[0m\u001b[1;33m\u001b[0m\u001b[1;33m\u001b[0m\u001b[0m\n\u001b[1;32m--> 211\u001b[1;33m     \u001b[0my_type\u001b[0m\u001b[1;33m,\u001b[0m \u001b[0my_true\u001b[0m\u001b[1;33m,\u001b[0m \u001b[0my_pred\u001b[0m \u001b[1;33m=\u001b[0m \u001b[0m_check_targets\u001b[0m\u001b[1;33m(\u001b[0m\u001b[0my_true\u001b[0m\u001b[1;33m,\u001b[0m \u001b[0my_pred\u001b[0m\u001b[1;33m)\u001b[0m\u001b[1;33m\u001b[0m\u001b[1;33m\u001b[0m\u001b[0m\n\u001b[0m\u001b[0;32m    212\u001b[0m     \u001b[0mcheck_consistent_length\u001b[0m\u001b[1;33m(\u001b[0m\u001b[0my_true\u001b[0m\u001b[1;33m,\u001b[0m \u001b[0my_pred\u001b[0m\u001b[1;33m,\u001b[0m \u001b[0msample_weight\u001b[0m\u001b[1;33m)\u001b[0m\u001b[1;33m\u001b[0m\u001b[1;33m\u001b[0m\u001b[0m\n\u001b[0;32m    213\u001b[0m     \u001b[1;32mif\u001b[0m \u001b[0my_type\u001b[0m\u001b[1;33m.\u001b[0m\u001b[0mstartswith\u001b[0m\u001b[1;33m(\u001b[0m\u001b[1;34m\"multilabel\"\u001b[0m\u001b[1;33m)\u001b[0m\u001b[1;33m:\u001b[0m\u001b[1;33m\u001b[0m\u001b[1;33m\u001b[0m\u001b[0m\n",
      "\u001b[1;32mD:\\Anaconda3\\envs\\AMC\\lib\\site-packages\\sklearn\\metrics\\_classification.py\u001b[0m in \u001b[0;36m_check_targets\u001b[1;34m(y_true, y_pred)\u001b[0m\n\u001b[0;32m     93\u001b[0m         raise ValueError(\n\u001b[0;32m     94\u001b[0m             \"Classification metrics can't handle a mix of {0} and {1} targets\".format(\n\u001b[1;32m---> 95\u001b[1;33m                 \u001b[0mtype_true\u001b[0m\u001b[1;33m,\u001b[0m \u001b[0mtype_pred\u001b[0m\u001b[1;33m\u001b[0m\u001b[1;33m\u001b[0m\u001b[0m\n\u001b[0m\u001b[0;32m     96\u001b[0m             )\n\u001b[0;32m     97\u001b[0m         )\n",
      "\u001b[1;31mValueError\u001b[0m: Classification metrics can't handle a mix of multilabel-indicator and multiclass targets"
     ]
    }
   ],
   "source": [
    "# Calculate metrics\n",
    "y_test = y_val\n",
    "from sklearn.metrics import accuracy_score\n",
    "from sklearn import datasets,model_selection,metrics,tree,preprocessing\n",
    "acc = accuracy_score(y_test,y_pred)\n",
    "\n",
    "from sklearn.metrics import precision_score\n",
    "precision = precision_score(y_test,y_pred,average='binary')\n",
    "\n",
    "recall = metrics.recall_score(y_test,y_pred, average='macro')\n",
    "\n",
    "fscore = metrics.f1_score(y_test,y_pred, average='weighted')"
   ]
  },
  {
   "cell_type": "code",
   "execution_count": 74,
   "metadata": {},
   "outputs": [
    {
     "data": {
      "image/png": "[encoded data removed]",
      "text/plain": [
       "<Figure size 720x720 with 1 Axes>"
      ]
     },
     "metadata": {
      "needs_background": "light"
     },
     "output_type": "display_data"
    }
   ],
   "source": [
    "from xgboost import XGBClassifier\n",
    "from xgboost import plot_importance\n",
    "#mpl.rcParams['font.sans-serif'] = ['KaiTi']\n",
    "plt.rcParams['font.sans-serif']=['SimHei'] #图中文字体设置为黑体\n",
    "mpl.rcParams['font.serif'] = ['KaiTi']\n",
    "mpl.rcParams['axes.unicode_minus'] = False # 解决保存图像是负号'-'显示为方块的问题,或者转换负号为字符串\n",
    "\n",
    "fig, ax = plt.subplots(figsize=(10,10))\n",
    "\n",
    "plt.xticks(fontsize=15)\n",
    "plt.yticks(fontsize=15)\n",
    "\n",
    "# 设置图例字体大小\n",
    "#ax.legend(..., fontsize=20)\n",
    "xgb.plot_importance(clf1, height=0.6, ax=ax)\n",
    "ax.set_title('特征重要性排序',fontsize= 20) \n",
    "ax.set_xlabel('F score', fontsize=20)\n",
    "ax.set_ylabel('特征', fontsize=20)\n",
    "plt.savefig('feature_importance.jpg',dpi=300)\n",
    "plt.show()"
   ]
  },
  {
   "cell_type": "code",
   "execution_count": 34,
   "metadata": {},
   "outputs": [],
   "source": [
    "label_train = pd.DataFrame(y_train).apply(lambda x: x.argmax(), axis=1).values\n",
    "label_test = pd.DataFrame(y_val).apply(lambda x: x.argmax(), axis=1).values"
   ]
  },
  {
   "cell_type": "code",
   "execution_count": 29,
   "metadata": {},
   "outputs": [
    {
     "data": {
      "text/plain": [
       "array([ 7, 10,  8, ...,  7,  0,  0], dtype=int64)"
      ]
     },
     "execution_count": 29,
     "metadata": {},
     "output_type": "execute_result"
    }
   ],
   "source": [
    "label_train"
   ]
  },
  {
   "cell_type": "code",
   "execution_count": 30,
   "metadata": {},
   "outputs": [
    {
     "data": {
      "text/plain": [
       "array([5, 7, 6, ..., 5, 9, 8], dtype=int64)"
      ]
     },
     "execution_count": 30,
     "metadata": {},
     "output_type": "execute_result"
    }
   ],
   "source": [
    "label_test"
   ]
  },
  {
   "cell_type": "code",
   "execution_count": null,
   "metadata": {},
   "outputs": [],
   "source": []
  }
 ],
 "metadata": {
  "kernelspec": {
   "display_name": "Python [conda env:AMC] *",
   "language": "python",
   "name": "conda-env-AMC-py"
  },
  "language_info": {
   "codemirror_mode": {
    "name": "ipython",
    "version": 3
   },
   "file_extension": ".py",
   "mimetype": "text/x-python",
   "name": "python",
   "nbconvert_exporter": "python",
   "pygments_lexer": "ipython3",
   "version": "3.7.6"
  }
 },
 "nbformat": 4,
 "nbformat_minor": 4
}
