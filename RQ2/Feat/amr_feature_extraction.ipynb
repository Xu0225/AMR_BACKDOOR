{
 "cells": [
  {
   "cell_type": "markdown",
   "id": "d6744682",
   "metadata": {},
   "source": [
    "# Import packages"
   ]
  },
  {
   "cell_type": "code",
   "execution_count": 2,
   "id": "35751ce7",
   "metadata": {},
   "outputs": [],
   "source": [
    "# -*- coding:utf-8 -*-\n",
    "import argparse\n",
    "import warnings\n",
    "\n",
    "warnings.filterwarnings('ignore')\n",
    "\n",
    "import pickle, random, sys\n",
    "\n",
    "sys.path.append('D:\\\\zhaixu\\\\Thesis_Code')\n",
    "\n",
    "import os, pickle, random, sys\n",
    "\n",
    "import numpy as np\n",
    "import copy\n",
    "import tensorflow.keras.backend as K\n",
    "\n",
    "from tensorflow import keras\n",
    "from tensorflow.keras.models import load_model\n",
    "from tensorflow.keras.callbacks import LearningRateScheduler\n",
    "from tensorflow.keras.regularizers import *\n",
    "from tensorflow.keras.optimizers import Adam\n",
    "from tensorflow.keras.models import model_from_json\n",
    "\n",
    "from sklearn.model_selection import train_test_split\n",
    "\n",
    "from mltools import build_model\n",
    "from mltools import get_seq_data\n",
    "\n",
    "# from rmlmodel.Sequence.CLDNN import CLDNNLikeModel\n",
    "# from rmlmodel.Sequence.ResNet import ResNetLikeModel\n",
    "# from rmlmodel.Sequence.VGG import VGGLikeModel\n",
    "\n",
    "from rmlmodel.Sequence.vtcnn2 import VTCNN2\n",
    "from rmlmodel.Sequence.CNN2 import CNN2\n",
    "from rmlmodel.Sequence.CNN2Model import CNN2Model\n",
    "\n",
    "from rmlmodel.Sequence.CLDNNLikeModel import CLDNNLikeModel\n",
    "from rmlmodel.Sequence.CLDNNLikeModel1 import CLDNNLikeModel1\n",
    "from rmlmodel.Sequence.CLDNNLikeModel2 import CLDNNLikeModel2\n",
    "\n",
    "from rmlmodel.Sequence.CGDNN import CGDNN\n",
    "from rmlmodel.Sequence.CuDNNLSTMModel import LSTMModel\n",
    "from rmlmodel.Sequence.DAE import DAE\n",
    "from rmlmodel.Sequence.DCNNPF import DCNNPF\n",
    "from rmlmodel.Sequence.DenseNet import DenseNet\n",
    "from rmlmodel.Sequence.GRUModel import GRUModel\n",
    "from rmlmodel.Sequence.ICAMC import ICAMC\n",
    "from rmlmodel.Sequence.MCLDNN import MCLDNN\n",
    "from rmlmodel.Sequence.MCNET import MCNET\n",
    "from rmlmodel.Sequence.PETCGDNN import PETCGDNN\n",
    "from rmlmodel.Sequence.ResNet import ResNet\n",
    "\n",
    "from trigger_config import load_data\n",
    "from trigger_config import set_trigger_config\n",
    "\n",
    "from plot_tools import plot_signal\n",
    "from plot_tools import plot_constellation"
   ]
  },
  {
   "cell_type": "code",
   "execution_count": 3,
   "id": "e61e5f78",
   "metadata": {},
   "outputs": [
    {
     "name": "stdout",
     "output_type": "stream",
     "text": [
      "筛选后的数据集总数： 110000\n",
      "信噪比范围: 0 到 18\n",
      "调制方式 11 种: ['8PSK', 'AM-DSB', 'AM-SSB', 'BPSK', 'CPFSK', 'GFSK', 'PAM4', 'QAM16', 'QAM64', 'QPSK', 'WBFM']\n"
     ]
    }
   ],
   "source": [
    "X_train,X_test,Y_train,Y_test,mods,lbl,snrs,train_idx,test_idx = load_data()"
   ]
  },
  {
   "cell_type": "markdown",
   "id": "2d1a6b37",
   "metadata": {},
   "source": [
    "# Poison with trigger"
   ]
  },
  {
   "cell_type": "code",
   "execution_count": 4,
   "id": "80e8d3b1",
   "metadata": {},
   "outputs": [
    {
     "name": "stdout",
     "output_type": "stream",
     "text": [
      "Poisoned training data.\n"
     ]
    }
   ],
   "source": [
    "X_train_modified, Y_train_modified = set_trigger_config(X_train.copy(), Y_train.copy(), pos_rate=0.1,\n",
    "                                                        trigger_type='badnet', data_type='train')\n",
    "\n",
    "# REP = IQ/AP/FFT\n",
    "X_train_modified = get_seq_data(X_train_modified, seq_dtype ='IQ')"
   ]
  },
  {
   "cell_type": "code",
   "execution_count": 5,
   "id": "79fae0fb",
   "metadata": {},
   "outputs": [
    {
     "name": "stdout",
     "output_type": "stream",
     "text": [
      "Evaluate ASR on poisoned test data.\n"
     ]
    }
   ],
   "source": [
    "X_test_modified, Y_test_modified = set_trigger_config(X_test.copy(), Y_test.copy(), pos_rate=0.1,\n",
    "                                                        trigger_type='badnet', data_type='test')\n",
    "\n",
    "# REP = IQ/AP/FFT\n",
    "X_test_modified = get_seq_data(X_test_modified, seq_dtype ='IQ')"
   ]
  },
  {
   "cell_type": "code",
   "execution_count": 6,
   "id": "5d4c69eb",
   "metadata": {},
   "outputs": [],
   "source": [
    "X_test_benign = X_test.copy()"
   ]
  },
  {
   "cell_type": "markdown",
   "id": "37ae332a",
   "metadata": {},
   "source": [
    "# Feature Extraction - Basic Features"
   ]
  },
  {
   "cell_type": "code",
   "execution_count": 7,
   "id": "ee639f59",
   "metadata": {},
   "outputs": [],
   "source": [
    "# part one: basic feature \n",
    "\n",
    "def element_mean(x):\n",
    "    return np.mean(x, axis=2, keepdims=True)\n",
    "\n",
    "def element_abs_mean(x):\n",
    "    return np.abs(np.mean(x, axis=2, keepdims=True))\n",
    "\n",
    "def element_std(x):\n",
    "    return np.std(x,axis=2,keepdims=True)\n",
    "\n",
    "def element_std_abs(x):\n",
    "    return np.std(np.abs(x),axis=2,keepdims=True)  \n",
    "\n",
    "def abs_max_mins_min(x):\n",
    "    return np.abs(np.max(x, axis=2, keepdims=True) - np.min(x, axis=2, keepdims=True))\n",
    "\n",
    "def max_mins_min_abs(x):\n",
    "    return np.max(np.abs(x), axis=2, keepdims=True) - np.min(np.abs(x), axis=2, keepdims=True)\n",
    "\n",
    "def abs_mean_sqr(x):\n",
    "    return np.abs(np.mean(np.square(x), axis = 2, keepdims=True))\n",
    "\n",
    "def mean_sqr_abs(x):\n",
    "    return np.mean(np.square(np.abs(x)), axis = 2, keepdims=True)\n",
    "\n",
    "def abs_sqrmean_mis_meansqr(x):\n",
    "    return np.abs(np.mean(np.square(x), axis=2, keepdims=True) - \n",
    "                  np.square(np.mean(x, axis=2, keepdims=True)))\n",
    "\n",
    "def sqrmean_mis_meansqr_abs(x):\n",
    "    return np.mean(np.square(np.abs(x)), axis=2, keepdims=True) - \\\n",
    "           np.square(np.mean(np.abs(x), axis=2, keepdims=True))\n",
    "\n",
    "\n",
    "def abs_fourmean_mis_meanfour(x):\n",
    "    return np.abs(np.mean(np.power(x,4),axis=2,keepdims=True)-\\\n",
    "            np.mean(np.square(x),axis=2,keepdims=True)**2) \n",
    "\n",
    "def fourmean_mis_meanfour_abs(x):\n",
    "    return np.mean(np.power(np.abs(x),4),axis=2,keepdims=True)-\\\n",
    "            np.mean(np.square(np.abs(x)),axis=2,keepdims=True)**2"
   ]
  },
  {
   "cell_type": "markdown",
   "id": "7194c377",
   "metadata": {},
   "source": [
    "# Feature Extraction - Time Series Features"
   ]
  },
  {
   "cell_type": "code",
   "execution_count": 8,
   "id": "88e9d9c5",
   "metadata": {},
   "outputs": [],
   "source": [
    "# part two: time sequence feature\n",
    "\n",
    "def absolute_sum_of_changes(x):\n",
    "    return np.sum(np.abs(np.diff(x,1)), axis=2, keepdims=True)\n",
    "\n",
    "def agg_autocorrelation(x, l=1):    ##\n",
    "    x_var = np.var(x, axis=2, keepdims=True)\n",
    "    x_diff_sum = np.sum(np.diff(x-np.mean(x, axis=2, keepdims=True),l), axis=2, keepdims=True)\n",
    "    return x_diff_sum / x_var\n",
    "\n",
    "def approximate_entropy(x):\n",
    "    return np.sum(-x*np.log(np.abs(x+0.0000001)), axis=2, keepdims=True)\n",
    "\n",
    "def autocorrelation(x, k=1):\n",
    "    n = x.shape[2]\n",
    "    variance = np.var(x, axis=2, keepdims=True)+0.0000001\n",
    "    x = x-np.mean(x, axis=2, keepdims=True)\n",
    "    result = np.sum(x[:,:,k:]*x[:,:,:n-k], axis=2, keepdims=True) / (variance*(n-k))\n",
    "    return result\n",
    "\n",
    "def cwt_coefficients(x):\n",
    "    ricker = (1-x**2/4)*np.exp(-x**2/8)\n",
    "    result = np.mean(ricker, axis=2, keepdims=True)\n",
    "    return result\n",
    "\n",
    "def count_above_mean(x):\n",
    "    mask = (x - np.mean(x, axis=2, keepdims=True))>0\n",
    "    result = np.sum(mask, axis=2, keepdims=True)\n",
    "    return result\n",
    "\n",
    "def count_below_mean(x):\n",
    "    mask = (x - np.mean(x, axis=2, keepdims=True))<0\n",
    "    result = np.sum(mask, axis=2, keepdims=True)\n",
    "    return result\n",
    "\n",
    "def first_location_of_maximum(x): ##\n",
    "    result = np.argmax(x, axis=2)\n",
    "    return result.reshape(result.shape[0], result.shape[1], 1)\n",
    "\n",
    "def first_location_of_minimum(x): ##\n",
    "    result = np.argmin(x, axis=2)\n",
    "    return result.reshape(result.shape[0], result.shape[1], 1)\n",
    "\n",
    "def kurtosis(x):\n",
    "    x = x - np.mean(x, axis=2, keepdims=True)\n",
    "    e4 = np.mean(pow(x, 4), axis=2, keepdims=True)\n",
    "    e2 = pow(np.mean(pow(x, 2), axis=2, keepdims=True),2)\n",
    "    result = e4/e2\n",
    "    return result\n",
    "\n",
    "def skewness(x):\n",
    "    variance = np.var(x, axis=2, keepdims=True)+0.0000001\n",
    "    x = x - np.mean(x, axis=2, keepdims=True)\n",
    "    result = np.mean(pow(x/variance, 3), axis=2, keepdims=True)\n",
    "    return result"
   ]
  },
  {
   "cell_type": "markdown",
   "id": "30dbd160",
   "metadata": {},
   "source": [
    "# Feature Extraction - Modulation Features"
   ]
  },
  {
   "cell_type": "code",
   "execution_count": 9,
   "id": "406e31cc",
   "metadata": {},
   "outputs": [],
   "source": [
    "# accumulation feature\n",
    "def accumulat_features(x): # accumulation feature and the input is complex\n",
    "    \n",
    "    x_r = np.conjugate(x)\n",
    "\n",
    "    M20 = np.mean(np.power(x, 2), axis = 2, keepdims = True)\n",
    "    M21 = np.mean(np.power(np.abs(x), 2), axis = 2, keepdims = True)\n",
    "    M22 = np.mean(np.power(x_r, 2), axis = 2, keepdims = True)\n",
    "    M40 = np.mean(np.power(x, 4), axis = 2, keepdims = True)\n",
    "    M41 = np.mean(np.power(np.abs(x), 2)*np.power(x, 2), axis = 2, keepdims = True)\n",
    "    M42 = np.mean(np.power(np.abs(x), 4), axis = 2, keepdims = True)\n",
    "    M43 = np.mean(np.power(np.abs(x), 2)*np.power(x_r, 2), axis = 2, keepdims = True)\n",
    "    M60 = np.mean(np.power(x, 6), axis = 2, keepdims = True)\n",
    "    M63 = np.mean(np.power(np.abs(x), 6), axis = 2, keepdims = True)\n",
    "    M80 = np.mean(np.power(x, 8), axis = 2, keepdims = True)\n",
    "\n",
    "    C20 = M20\n",
    "    C21 = M21\n",
    "    C40 = M40 - 3*np.power(M20, 2)\n",
    "    C41 = M41 - 3*M20*M21\n",
    "    C42 = M42 - np.power(np.abs(M20), 2) - 2*np.power(M21, 2)\n",
    "    C60 = M60 - 15*M20*M40 + 30*np.power(M20, 3)\n",
    "    C63 = M63 - 6*M41*M20 - 9*M42*M21 + 18*M20*M20*M21 + 12*np.power(M21, 3)\n",
    "    C80 = M80 - 28*M20*M60 - 35*M40*M40 + 420*M20*M20*M40 - 630*np.power(M20, 4)\n",
    "\n",
    "    T1 = np.abs(C80) / np.power(np.abs(C42), 2)\n",
    "    T2 = np.abs(C80) / np.power(np.abs(C40), 2) # 利用差分（x(k+1) - x(k)）可区分QPSK/OQPSK\n",
    "    M1 = np.abs(C40) / np.abs(C42)\n",
    "    M2 = np.power(np.abs(C63), 2) / np.power(np.abs(C42), 3)\n",
    "\n",
    "    C20_norm = np.abs(C20/C21)\n",
    "    C40_norm = np.abs(C40/np.power(C21, 2))\n",
    "    C41_norm = np.abs(C41/np.power(C21, 2))\n",
    "    C42_norm = np.abs(C42/np.power(C21, 2))\n",
    "    C60_norm = np.abs(C60/np.power(C21, 3))\n",
    "    C63_norm = np.abs(C63/np.power(C21, 3))\n",
    "    C80_norm = np.abs(C80/np.power(C21, 4))\n",
    "\n",
    "    return [T1, T2, M1, M2, C20_norm, C40_norm, C41_norm, C42_norm, C60_norm, C63_norm, C80_norm]    "
   ]
  },
  {
   "cell_type": "code",
   "execution_count": 10,
   "id": "a324435c",
   "metadata": {},
   "outputs": [],
   "source": [
    "# part three: modulation feature\n",
    "\n",
    "def max_amp_density_abs(X_complex_abs):\n",
    "    \n",
    "    # The maximum value of the normalized spectral density of the amplitude with Zero Center\n",
    "    Acn = X_complex_abs / np.mean(X_complex_abs, axis=2, keepdims = True) - 1\n",
    "    Acn_complex_max = np.max(np.abs(np.fft.fft(Acn,axis=2))**2, axis = 2, keepdims = True) / X_complex_abs.shape[2]\n",
    "    return Acn_complex_max\n",
    "    \n",
    "def std_phase_abs(X_complex_angl, X_complex_abs):\n",
    "    # Standard deviation of absolute value of instantaneous phase nonlinear component at zero Center\n",
    "    Acn = X_complex_abs / np.mean(X_complex_abs, axis=2, keepdims = True) - 1\n",
    "    sqr_mask = Acn > 0.05\n",
    "    sqr_mask[:,:,0] = True\n",
    "    sqr_mask_sum = np.sum(sqr_mask,axis=2,keepdims=True)\n",
    "    angl_mins_mean = X_complex_angl - np.mean(X_complex_angl,axis=2,keepdims=True)\n",
    "    angl_mins_mean_after_mask = angl_mins_mean * sqr_mask\n",
    "    result = np.sqrt(np.sum(np.square(angl_mins_mean_after_mask),axis=2,keepdims=True)/sqr_mask_sum -\n",
    "                                     (np.sum(np.abs(angl_mins_mean_after_mask),axis=2,keepdims=True)/sqr_mask_sum)**2)\n",
    "    return result\n",
    "\n",
    "def std_phase(X_complex_angl, X_complex_abs):\n",
    "    Acn = X_complex_abs / np.mean(X_complex_abs, axis=2, keepdims = True) - 1\n",
    "    sqr_mask = Acn > 0.05\n",
    "    sqr_mask[:,:,0] = True\n",
    "    sqr_mask_sum = np.sum(sqr_mask,axis=2,keepdims=True)\n",
    "    angl_mins_mean = X_complex_angl - np.mean(X_complex_angl,axis=2,keepdims=True)\n",
    "    angl_mins_mean_after_mask = angl_mins_mean * sqr_mask\n",
    "    result = np.sqrt(np.sum(np.square(angl_mins_mean_after_mask),axis=2,keepdims=True)/sqr_mask_sum - \n",
    "                                     (np.sum(angl_mins_mean_after_mask,axis=2,keepdims=True)/sqr_mask_sum)**2) \n",
    "    return result\n",
    "\n",
    "def std_amp_abs(X_complex_abs):\n",
    "    \n",
    "    # Standard deviation of instantaneous amplitude absolute value of Zero Center normalized non weak signal\n",
    "    Acn = X_complex_abs / np.mean(X_complex_abs, axis=2, keepdims = True) - 1\n",
    "    result = np.sqrt(np.mean(np.square(Acn),axis=2,keepdims=True) - \n",
    "                                     np.mean(np.abs(Acn),axis=2,keepdims=True)**2) \n",
    "    return result\n",
    "\n",
    "def std_fre_abs(X_complex_fre, X_complex_abs):\n",
    "    # Standard deviation of instantaneous frequency absolute value of Zero Center normalized non weak signal\n",
    "    Acn = X_complex_abs / np.mean(X_complex_abs, axis=2, keepdims = True) - 1\n",
    "    sqr_mask = Acn > 0.05\n",
    "    sqr_mask[:,:,0] = True\n",
    "    sqr_mask_sum = np.sum(sqr_mask,axis=2,keepdims=True)\n",
    "    fn = X_complex_fre - np.mean(X_complex_fre,axis=2,keepdims=True)\n",
    "    fn_after_mask = fn * sqr_mask\n",
    "    result = np.sqrt(np.sum(np.square(fn_after_mask),axis=2,keepdims=True)/sqr_mask_sum - \n",
    "                                     (np.sum(np.abs(fn_after_mask),axis=2,keepdims=True)/sqr_mask_sum)**2) \n",
    "    return result\n",
    "\n",
    "def std_amp(X_complex_abs):\n",
    "    # Standard deviation of instantaneous amplitude of Zero Center normalized non weak signal\n",
    "    Acn = X_complex_abs / np.mean(X_complex_abs, axis=2, keepdims = True) - 1\n",
    "    sqr_mask = Acn > 0.05\n",
    "    sqr_mask[:,:,0] = True\n",
    "    sqr_mask_sum = np.sum(sqr_mask,axis=2,keepdims=True)\n",
    "    Acn_after_mask = Acn * sqr_mask\n",
    "    result = np.sqrt(np.sum(np.square(Acn_after_mask),axis=2,keepdims=True)/sqr_mask_sum - \n",
    "                                     (np.sum(Acn_after_mask,axis=2,keepdims=True)/sqr_mask_sum)**2) \n",
    "    return result    \n",
    "\n",
    "def den_amp(X_complex_abs):\n",
    "    # Compactness of Zero Center normalized instantaneous amplitude\n",
    "    Acn = X_complex_abs / np.mean(X_complex_abs, axis=2, keepdims = True) - 1\n",
    "    result = np.mean(np.power(Acn, 4),axis=2,keepdims=True) / np.mean(np.square(Acn),axis=2,keepdims=True)**2 \n",
    "    return result \n",
    "\n",
    "def den_fre(X_complex_fre):\n",
    "    # Compactness of Zero Center normalized instantaneous frequency\n",
    "    fn = X_complex_fre - np.mean(X_complex_fre,axis=2,keepdims=True)\n",
    "    result = np.mean(np.power(fn, 4),axis=2,keepdims=True) / np.mean(np.square(fn),axis=2,keepdims=True)**2 \n",
    "    return result "
   ]
  },
  {
   "cell_type": "markdown",
   "id": "d3063311",
   "metadata": {},
   "source": [
    "# 数据挖掘并提取"
   ]
  },
  {
   "cell_type": "code",
   "execution_count": 11,
   "id": "3f37b813",
   "metadata": {},
   "outputs": [
    {
     "name": "stdout",
     "output_type": "stream",
     "text": [
      "440\n"
     ]
    }
   ],
   "source": [
    "# feature filter with the index got from random forest\n",
    "index_layer_list = ['c 0 0 3', 't 5 0 20', 't 5 1 20', 'c 0 0 4', 't 3 0 8', 't 3 1 2', 't 6 1 20', 'c 0 3 0', 't 3 0 20', 't 3 3 3', 't 5 1 13', 'c 0 2 3', 't 5 3 8', 'c 1 0 1', 't 4 1 2', 'c 1 1 5', 'c 1 2 5', 't 6 1 19', 't 3 2 9', 't 3 0 2', 'c 0 1 3', 'c 0 1 2', 't 3 1 9', 't 5 3 25', 't 3 3 25', 'c 1 3 5', 't 6 2 19', 't 6 0 20', 'c 0 1 0', 't 4 1 11', 'c 0 0 2', 't 4 0 20', 't 3 2 20', 't 2 0 23', 't 4 1 3', 't 3 4 20', 't 4 4 13', 't 2 1 6', 't 3 4 0', 't 7 1 18', 't 5 4 17', 't 3 1 20', 'c 0 2 2', 't 3 3 9', 't 0 4 23', 't 2 3 23', 't 7 1 26', 't 3 2 2', 't 5 1 6', 't 7 1 27', 't 6 2 2', 't 3 3 20', 't 4 4 7', 't 6 3 23', 't 5 0 9', 't 2 0 25', 't 3 4 8', 't 3 4 2', 't 6 3 10', 't 0 0 24', 't 6 2 3', 't 4 2 2', 't 4 0 22', 't 3 2 8', 'c 1 2 4', 't 0 4 21', 't 7 0 25', 't 0 4 24', 't 3 4 9', 't 5 4 22', 't 5 4 9', 't 5 3 3', 't 8 0 24', 't 6 3 21', 't 4 1 15', 't 5 3 5', 't 3 4 24', 't 5 2 21', 't 3 3 5', 't 5 3 11', 't 6 4 23', 't 6 3 9', 't 5 4 25', 't 4 3 4', 't 3 0 18', 't 3 4 23', 't 6 4 16', 't 4 1 9', 't 6 3 3', 't 6 2 10', 't 3 0 16', 't 3 0 26', 't 3 0 3', 't 5 1 15', 't 4 0 2', 't 6 1 16', 't 6 1 15', 't 5 3 24', 't 4 1 8', 't 4 0 15', 't 5 3 21', 't 6 2 14', 't 5 0 15', 't 5 2 14', 'c 1 0 4', 't 3 0 15', 'c 0 3 3', 't 0 1 14', 'c 0 2 0', 't 5 0 16', 't 4 1 6', 't 3 1 8', 't 3 3 10', 't 3 3 4', 'c 0 3 2', 't 2 1 17', 't 3 1 19', 't 6 3 26', 't 3 1 7', 't 5 3 27', 't 3 1 16', 't 3 2 3', 't 6 3 27', 't 1 2 14', 'c 1 4 5', 't 5 3 4', 't 6 1 1', 't 4 1 16', 't 6 0 15', 't 5 0 14', 't 7 1 21', 't 2 3 14', 't 4 2 9', 't 3 3 8', 't 6 3 11', 't 5 1 1', 't 4 1 14', 't 3 0 27', 't 6 2 0', 't 3 4 14', 'c 0 2 5', 't 3 0 9', 't 6 3 5', 't 4 4 23', 't 4 0 8', 't 2 2 24', 't 3 4 21', 't 4 0 9', 't 3 3 14', 't 5 1 9', 't 5 3 10', 't 6 3 25', 't 2 1 3', 't 3 4 27', 't 4 0 18', 't 2 2 9', 't 5 4 14', 't 6 0 16', 't 3 3 2', 't 6 4 14', 't 5 4 23', 't 4 2 14', 't 3 1 3', 't 5 1 16', 't 4 0 3', 't 4 1 23', 'c 0 4 2', 't 5 3 14', 't 3 0 14', 't 8 4 26', 't 2 2 22', 't 0 2 15', 't 6 4 15', 't 2 2 8', 't 4 3 14', 't 7 1 8', 't 6 0 14', 't 4 1 19', 't 4 0 14', 't 3 1 14', 't 2 3 11', 't 4 3 5', 't 8 1 10', 't 2 2 16', 't 0 3 14', 't 5 4 18', 't 1 0 12', 't 7 1 9', 't 3 4 1', 't 3 3 18', 't 2 2 14', 't 6 4 20', 't 6 3 4', 't 7 1 10', 't 2 3 7', 't 3 4 25', 't 3 2 10', 't 4 0 16', 'c 0 1 4', 't 4 0 21', 't 7 1 23', 't 2 2 10', 't 5 4 15', 't 3 3 11', 't 2 0 8', 't 6 3 14', 't 6 1 14', 't 5 4 21', 't 2 0 3', 't 2 1 0', 't 1 1 6', 't 7 3 14', 't 4 0 26', 't 8 0 26', 't 6 4 18', 't 3 1 23', 't 2 1 11', 't 4 2 11', 't 3 4 26', 't 3 0 10', 't 3 0 0', 't 6 1 2', 't 7 1 22', 't 8 1 26', 't 5 4 12', 't 2 2 1', 't 7 1 24', 't 7 4 12', 't 2 1 9', 't 4 2 27', 't 5 2 8', 't 3 1 15', 't 2 1 2', 't 2 2 3', 't 0 3 4', 't 5 3 26', 't 4 2 24', 't 2 1 14', 'c 0 0 5', 'c 1 0 5', 't 5 1 14', 't 5 4 27', 't 4 1 7', 't 5 0 12', 't 3 2 27', 't 6 4 21', 't 6 1 7', 't 6 3 18', 't 2 0 1', 't 6 0 23', 't 4 2 7', 't 5 0 3', 't 0 4 16', 't 2 0 6', 't 2 0 11', 't 2 3 9', 't 4 1 21', 't 2 1 16', 't 5 3 20', 't 5 1 19', 't 8 3 27', 't 0 0 17', 't 2 2 7', 't 4 4 16', 't 2 2 2', 't 5 1 7', 't 7 1 14', 't 3 3 0', 't 1 2 8', 't 3 4 10', 't 0 2 8', 't 0 1 13', 't 4 2 19', 't 1 1 13', 't 1 1 15', 't 4 4 12', 't 3 0 25', 't 0 4 25', 't 4 0 27', 't 7 0 12', 't 2 4 23', 't 6 1 22', 't 8 2 18', 't 5 2 19', 't 3 0 24', 't 7 1 1', 't 5 0 18', 't 5 1 17', 't 6 1 13', 't 2 1 24', 't 6 3 19', 'c 0 3 1', 't 3 1 22', 't 3 3 27', 't 4 4 14', 't 1 4 14', 't 0 4 12', 't 2 1 1', 't 3 2 16', 't 5 1 21', 't 1 0 18', 't 4 0 24', 't 8 2 27', 'c 0 4 5', 't 4 0 12', 't 8 4 27', 't 2 0 10', 't 2 3 17', 't 2 0 9', 'c 0 1 5', 't 4 1 10', 't 5 2 25', 't 4 3 11', 't 5 3 17', 't 6 1 8', 't 4 2 12', 'c 1 0 2', 't 4 2 8', 't 7 2 21', 't 5 3 23', 't 6 4 11', 't 4 3 27', 't 3 2 14', 't 5 2 13', 't 4 0 23', 't 2 1 13', 't 3 4 3', 't 5 4 20', 't 1 1 14', 't 5 0 2', 't 2 1 23', 'c 1 4 4', 't 2 4 14', 't 3 3 12', 't 2 2 5', 't 4 0 0', 't 3 1 24', 't 1 1 23', 't 0 4 14', 't 7 1 2', 't 2 2 13', 't 3 3 26', 't 6 4 12', 't 4 1 17', 't 5 3 18', 't 6 2 20', 't 5 1 23', 't 1 2 13', 't 0 4 5', 't 0 0 8', 't 6 1 3', 't 3 3 23', 't 6 4 5', 't 4 1 24', 't 1 3 10', 't 4 0 19', 't 7 2 16', 't 1 3 23', 't 1 4 12', 't 1 2 12', 't 4 0 10', 't 0 1 27', 't 1 4 13', 't 8 0 27', 't 3 2 22', 't 0 1 22', 't 1 2 24', 't 2 2 21', 't 8 2 21', 't 5 4 16', 't 5 2 26', 't 4 4 25', 't 7 1 17', 't 3 0 17', 't 0 2 17', 't 4 2 22', 'c 1 0 3', 't 6 4 9', 't 8 1 18', 't 4 3 19', 't 8 1 8', 'c 1 1 3', 'c 1 3 4', 't 5 2 9', 't 1 3 4', 't 6 0 10', 't 4 3 25', 't 1 2 0', 't 6 2 16', 't 0 1 15', 't 1 3 27', 't 8 4 18', 't 4 3 26', 't 1 0 24', 't 5 0 1', 't 6 0 12', 'c 1 2 1', 't 2 3 2', 't 2 0 12', 't 6 0 5', 't 5 1 3', 't 0 1 16', 't 2 2 11', 't 2 4 24', 't 6 2 15', 't 2 0 0', 't 1 0 22', 't 8 0 12', 't 6 0 0', 't 6 2 9', 't 2 4 9', 't 6 4 10', 't 8 0 7', 't 3 4 15', 't 8 0 17', 't 6 0 19', 't 6 2 26', 't 2 1 8', 't 4 4 27', 't 4 1 22', 't 7 2 24', 't 1 4 16', 'c 0 2 4', 't 0 2 14', 't 6 4 24', 't 7 3 25', 't 6 0 1', 't 1 4 0', 't 4 4 8', 't 2 0 14', 't 1 0 2', 't 4 2 16', 't 1 4 1', 't 1 2 17', 'c 1 4 1', 't 4 4 4', 't 5 1 10', 't 6 3 1', 't 5 3 13', 't 8 0 6', 't 3 4 18', 't 6 4 8', 't 0 3 25', 't 1 0 10', 't 2 4 12', 't 0 0 27', 't 4 2 6', 't 0 2 11', 't 3 2 25', 't 5 2 22', 't 1 3 18', 't 4 2 1', 't 1 4 26', 't 6 3 2', 't 6 0 3', 't 8 2 2', 't 6 0 21', 't 0 2 26', 't 1 2 16', 't 4 1 12', 't 4 4 6', 't 5 3 7', 't 6 1 27', 't 6 2 13', 't 1 0 7', 't 6 0 9', 't 0 1 0', 't 3 1 21', 't 0 3 5', 't 0 0 12', 't 0 3 27', 't 2 1 7', 't 8 4 19', 't 7 1 12', 'c 0 4 4', 't 4 3 24', 't 0 3 18', 't 3 1 18', 't 6 2 6', 't 2 2 25', 't 2 1 19', 't 3 0 23', 't 3 1 25', 't 5 0 21', 'c 0 3 4', 't 2 3 22', 't 5 3 15', 't 2 1 12', 't 5 2 3', 't 3 2 15', 't 6 4 22', 't 3 2 11', 't 8 2 12', 't 6 3 22', 't 8 4 21', 't 6 1 11', 't 0 1 8', 't 4 4 5', 't 2 1 25', 't 0 0 26', 'c 0 4 0', 't 6 0 8', 't 3 4 12', 't 2 4 6', 't 2 0 17', 't 2 2 6', 't 6 4 4', 't 4 1 18', 't 3 2 4', 't 7 2 11', 't 0 2 5', 'c 1 1 4', 't 6 1 23', 't 0 0 5', 't 4 0 1', 't 2 0 24', 't 7 4 5', 't 5 4 4', 't 7 4 16', 'c 1 0 0', 't 4 2 5', 't 5 3 1', 't 4 4 26', 't 0 1 5', 't 0 0 14', 't 8 3 21', 't 1 3 16', 't 4 3 22', 't 8 0 8', 't 1 1 10', 't 0 2 24', 't 4 3 0', 't 2 3 5', 't 5 3 9', 't 6 4 26', 't 1 0 21', 't 6 4 25', 't 1 2 15', 't 5 4 26', 't 4 2 21', 't 3 1 5', 't 3 1 10', 't 6 2 24', 't 7 1 16', 't 8 1 21', 't 0 0 18', 't 8 4 9', 't 1 0 14', 't 7 0 14', 't 6 3 12', 't 8 4 3', 't 3 0 7', 't 2 3 3', 't 1 4 15', 't 5 4 10', 't 6 2 22', 't 6 4 27', 't 8 4 14', 't 7 4 0', 't 3 2 19', 't 5 2 23', 't 8 4 2', 't 0 1 25', 't 5 4 0', 't 0 4 4', 't 7 0 2', 't 3 1 11', 'c 1 3 1', 't 1 2 1', 't 7 4 25', 't 8 4 24', 't 7 0 15', 't 4 4 15', 't 5 4 11', 't 1 1 0', 't 3 2 12', 't 8 3 18', 't 8 1 23', 't 3 0 11', 't 0 4 9', 't 1 4 2', 't 5 0 25', 't 7 1 25', 't 7 4 14', 'c 1 4 2', 't 4 3 10', 't 4 3 3', 't 1 4 4', 't 0 4 0', 't 2 4 22', 't 4 3 20', 't 3 2 24', 't 4 1 25', 't 5 1 0', 'c 1 1 2', 't 8 1 5', 't 3 4 5', 't 1 3 0', 't 6 3 8', 't 5 1 8', 't 8 3 24', 't 5 4 5', 't 5 3 12', 't 2 4 8', 't 8 1 4', 't 7 2 23', 't 7 3 1', 'c 0 3 5', 't 3 2 17', 't 0 2 0', 't 8 0 0', 't 0 4 2', 't 3 4 19', 't 6 1 6', 't 3 3 21', 't 8 4 11', 't 2 0 19', 't 8 2 14', 't 4 3 23', 't 5 2 16', 't 5 2 15', 't 0 0 22', 't 8 2 23', 't 2 3 8', 't 7 3 15', 't 0 3 10', 't 7 2 19', 't 7 3 5', 't 2 4 21', 't 2 0 18', 't 3 2 18', 't 1 2 26', 't 8 2 19', 't 0 4 27', 't 5 2 2', 't 6 3 20', 't 4 1 0', 't 4 2 3', 't 1 2 22', 't 0 3 22', 't 0 0 1', 'c 0 0 0', 't 0 4 26', 't 0 3 2', 't 5 4 24', 't 5 2 11', 't 7 3 23', 't 6 2 18', 't 8 2 7', 't 7 3 24', 't 0 2 18', 'c 1 2 0', 't 1 2 2', 't 5 3 2', 't 4 1 13', 't 0 0 10', 't 5 4 1', 't 2 2 17', 't 0 2 13', 't 7 4 11', 't 8 4 17', 't 6 0 27', 't 6 1 12', 't 7 4 13', 't 8 2 10', 't 0 2 25', 't 2 3 27', 't 4 2 25', 't 3 3 24', 't 4 0 25', 't 3 1 27', 't 0 0 4', 't 3 4 17', 't 4 0 5', 't 1 4 3', 't 1 4 25', 't 3 1 12', 't 5 2 17', 't 2 3 12', 't 8 3 0', 't 0 3 0', 't 2 4 18', 't 7 1 5', 't 7 0 4', 't 7 1 19', 't 8 0 11', 't 3 3 16', 't 0 0 25', 't 2 2 27', 't 8 1 22', 't 0 1 23', 't 2 0 22', 't 4 0 11', 't 7 1 7', 't 4 2 20', 't 0 0 21', 't 1 2 4', 't 7 0 19', 't 8 0 5', 't 1 1 1', 't 5 0 4', 't 8 4 10', 't 1 0 19', 't 8 4 22', 't 1 4 18', 't 0 4 13', 't 6 4 7', 't 0 2 2', 't 6 2 11', 't 7 2 2', 't 7 2 5', 't 2 4 11', 't 2 3 16', 't 1 1 2', 't 1 0 15', 't 1 1 25', 't 5 1 5', 't 1 3 22', 't 0 3 13', 't 7 3 17', 't 2 1 27', 'c 1 1 1', 't 7 3 21', 'c 1 2 3', 'c 1 4 0', 't 7 0 1', 't 0 2 9', 't 1 3 13', 't 8 3 19', 't 7 2 27', 't 8 0 25', 't 7 1 13', 't 1 1 5', 't 6 1 21', 't 1 2 23', 't 0 0 0', 't 4 1 27', 't 3 2 23', 't 2 2 19', 't 1 2 27', 't 6 4 17', 't 4 2 23', 't 5 0 27', 't 5 2 10', 't 5 2 12', 't 8 0 21', 't 3 1 13', 't 1 1 11', 't 0 0 11', 't 7 3 9', 't 3 3 15', 't 8 3 6', 't 0 3 3', 't 7 1 3', 't 7 3 7', 't 2 0 21', 't 7 2 12', 't 2 4 3', 't 7 0 26', 't 0 1 18', 't 7 2 6', 't 4 3 18', 't 1 3 25', 't 3 0 1', 't 3 2 0', 't 6 0 2', 'c 1 3 0', 't 5 1 2', 't 2 3 6', 't 8 2 11', 't 0 3 1', 't 0 2 1', 't 8 0 13', 't 0 3 6', 't 7 3 22', 't 2 3 13', 't 2 3 24', 't 6 0 4', 't 5 2 4', 't 1 2 7', 't 8 1 9', 't 8 3 3', 't 5 2 5', 't 8 2 15', 't 6 1 25', 't 6 2 4', 't 4 2 15', 't 7 3 12', 't 2 4 1', 't 7 4 9', 't 2 2 0', 't 1 3 5', 't 4 3 1', 't 8 1 19', 't 8 3 26', 't 4 1 26', 't 0 3 16', 't 8 3 1', 't 7 0 27', 't 6 3 6', 't 2 0 7', 't 8 3 7', 't 6 2 21', 't 7 2 25', 't 8 0 19', 't 0 1 1', 't 1 4 6', 't 1 0 5', 't 8 2 3', 'c 0 4 1', 't 8 4 4', 't 0 4 22', 't 3 3 1', 't 3 0 5', 't 2 0 15', 't 2 1 18', 't 7 4 1', 't 1 1 17', 't 7 2 22', 't 6 0 17', 't 5 1 25', 't 8 0 4', 't 7 2 26', 't 6 3 15', 't 3 1 1', 't 3 3 6', 't 7 4 4', 't 3 0 13', 't 7 0 13', 't 2 4 5', 't 4 4 17', 't 0 1 4', 't 2 4 2', 't 2 3 21', 't 5 1 11', 't 6 0 13', 't 1 1 21', 't 3 0 22', 't 7 2 4', 't 3 3 22', 't 8 3 12', 't 5 4 13', 't 6 4 0', 'c 1 1 0', 't 3 0 6', 't 1 0 3', 't 8 1 25', 't 1 1 24', 't 1 1 7', 't 7 2 17', 't 5 2 20', 't 4 3 9', 't 5 3 6', 't 7 2 8', 't 2 4 16', 't 6 1 9', 't 0 0 23', 't 7 1 11', 't 6 3 17', 't 7 3 10', 't 2 1 21', 't 4 0 7', 't 4 3 13', 't 1 1 16', 't 3 0 4', 't 8 0 3', 't 6 2 8', 't 5 1 22', 't 8 1 2', 't 5 4 8', 't 0 0 2', 't 7 2 7', 't 8 2 4', 't 5 0 5', 't 2 2 18', 't 8 4 16', 't 8 0 15', 't 7 2 13', 't 3 2 26', 't 2 4 0', 't 2 0 2', 't 0 2 21', 't 8 4 5', 't 0 1 11', 't 5 1 27', 't 3 1 6', 'c 0 2 1', 't 7 0 16', 't 8 2 8', 't 1 0 4', 't 0 3 23', 't 2 4 26', 't 1 2 9', 't 4 3 8', 't 5 1 4', 't 8 2 0', 't 1 0 11', 't 0 2 22', 't 1 1 4', 't 7 3 13', 't 2 0 16', 't 4 4 20', 't 5 0 0', 't 7 0 5', 't 7 2 1', 't 7 4 27', 't 1 0 1', 't 8 0 9', 't 0 2 16', 't 7 0 9', 't 0 1 21', 't 4 2 10', 't 8 2 26', 't 4 4 11', 't 6 1 10', 't 8 1 15', 't 2 4 27', 't 8 4 0', 't 2 1 22', 't 3 0 19', 't 1 3 2', 't 8 2 24', 't 2 3 4', 't 6 2 12', 't 1 2 5', 't 7 4 3', 't 6 0 18', 't 0 3 7', 't 2 0 4', 't 2 1 26', 't 5 2 18', 't 8 3 9', 't 8 4 7', 't 4 3 15', 't 7 2 14', 't 5 0 19', 't 7 1 0', 't 8 0 1', 't 2 0 26', 't 8 0 22', 't 3 1 0', 't 1 2 3', 't 6 4 13', 't 3 0 12', 't 4 4 21', 't 0 0 6', 't 7 4 2', 't 4 1 1', 't 4 2 17', 't 6 3 24', 't 3 3 17', 't 1 1 26', 't 0 3 17', 't 5 3 16', 't 0 1 12', 't 3 2 1', 't 2 1 15', 't 5 4 7', 't 2 1 5', 't 7 3 8', 't 2 3 25', 't 6 4 6', 't 1 3 11', 't 0 4 18', 't 5 0 23', 't 4 1 5', 't 2 4 25', 't 1 4 27', 't 4 0 17', 't 1 1 12', 't 2 2 15', 't 8 1 6', 't 5 3 0', 't 1 1 22', 't 1 4 7', 't 0 2 27', 't 0 0 13', 't 0 3 26', 't 5 4 6', 't 7 1 15', 't 7 3 19', 't 1 3 12', 't 7 4 10', 't 2 4 7', 't 2 0 13', 't 0 1 7', 't 8 1 24', 'c 0 4 3', 't 8 3 5', 't 2 4 15', 't 8 3 25', 't 8 3 13', 't 5 3 22', 't 1 1 8', 't 1 0 25', 't 4 1 20', 't 7 3 6', 't 0 1 10', 't 0 1 26', 't 6 4 2', 't 0 2 7', 't 5 2 27', 't 5 1 26', 't 1 3 9', 't 7 0 24', 't 7 0 7', 't 2 3 15', 't 1 3 7', 't 7 3 27', 't 3 3 7', 't 3 4 7', 't 7 3 2', 't 8 3 15', 't 8 4 8', 't 8 1 27', 't 5 0 13', 't 1 0 26', 't 8 4 6', 't 7 2 0', 't 8 2 25', 't 7 4 8', 't 4 2 26', 't 7 3 3', 't 0 0 19', 't 5 1 24', 't 4 4 2', 't 8 4 12', 't 6 1 24', 't 6 1 17', 't 8 3 14', 't 8 2 22', 't 0 2 4', 't 6 4 3', 't 8 3 8', 't 4 4 18', 't 2 2 26', 't 0 2 12', 't 3 1 26', 'c 1 3 3', 't 7 0 8', 't 8 1 14', 't 8 2 17', 't 6 0 11', 't 1 3 14', 't 5 0 11', 't 4 3 2', 't 5 0 26', 't 7 4 21', 't 0 2 10', 't 2 2 23', 't 8 3 2', 't 8 2 1', 't 5 4 3', 't 0 3 24', 't 5 2 24', 't 5 2 1', 't 5 0 8', 't 4 2 13', 't 6 2 23', 't 8 0 18', 't 2 3 20', 't 3 4 4', 't 2 2 4', 't 5 0 24', 't 7 0 3', 't 4 3 12', 't 1 4 10', 't 8 1 7', 't 2 1 4', 't 4 4 22', 't 0 4 1', 't 1 1 9', 't 2 2 12', 't 3 4 13', 't 7 4 26', 't 6 3 13', 't 7 1 4', 't 1 4 24', 't 0 3 9', 't 0 1 6', 't 6 2 17', 't 3 1 4', 't 7 3 11', 't 8 2 16', 't 8 4 13', 't 8 4 23', 't 6 4 19', 't 4 4 10', 't 2 1 10', 't 8 4 15', 't 7 0 18', 't 6 0 26', 't 6 2 7', 't 8 2 9', 't 1 0 16', 't 4 4 0', 't 7 2 18', 't 8 3 4', 't 4 0 4', 't 7 4 20', 't 7 4 24', 't 8 3 10', 't 8 2 13', 't 2 4 19', 'c 0 1 1', 't 3 2 13', 't 3 4 16', 't 1 2 25', 't 8 4 1', 't 1 4 8', 't 7 1 20', 't 4 3 17', 't 1 0 27', 't 8 0 10', 't 7 3 0', 't 7 1 6', 't 8 1 3', 't 8 3 22', 't 6 3 16', 't 0 2 3', 't 6 0 7', 't 0 1 9', 't 1 3 26', 't 4 4 19', 't 7 0 6', 't 4 3 6', 't 1 3 15', 't 2 4 10', 't 8 2 20', 't 0 2 6', 't 5 1 18', 't 1 3 6', 't 1 1 27', 't 4 4 1', 't 7 0 22', 't 0 3 21', 't 8 1 17', 't 5 4 2', 't 0 1 3', 't 8 0 2', 't 5 1 12', 't 6 0 25', 't 4 4 3', 't 1 3 21', 't 1 2 6', 't 7 2 3', 't 7 3 26', 't 5 0 22', 't 3 2 7', 't 0 3 11', 't 7 3 16', 't 1 0 23', 'c 1 3 2', 't 4 4 9', 't 4 4 24', 't 6 1 4', 't 7 4 22', 't 5 2 6', 't 6 0 22', 't 0 4 3', 't 0 0 9', 't 1 3 8', 't 4 1 4', 't 7 4 23', 't 4 0 13', 't 8 0 23', 't 8 3 20', 't 3 0 21', 't 0 1 17', 't 0 3 12', 't 3 3 13', 't 2 4 13', 't 0 1 2', 't 1 3 17', 't 0 4 10', 't 8 1 1', 't 1 4 5', 't 3 4 6', 't 6 4 1', 't 2 0 5', 't 7 0 10', 't 2 4 17', 't 8 2 5', 't 7 4 18', 't 2 3 26', 't 7 4 15', 't 0 4 19', 't 7 3 20', 't 2 3 10', 't 6 0 24', 't 0 0 16', 't 0 0 7', 't 6 2 27', 't 5 0 17', 't 3 3 19', 't 0 4 8', 't 7 4 19', 't 2 0 27', 't 1 3 24', 't 2 4 4', 't 8 3 16', 't 7 3 18', 't 0 4 7', 't 7 4 7', 't 1 4 23', 't 1 0 0', 't 6 1 26', 't 1 2 10', 't 7 0 17', 't 7 2 9', 't 8 3 11', 't 6 1 18', 'c 0 0 1', 't 2 4 20', 't 5 3 19', 'c 1 4 3', 't 2 3 19', 't 2 0 20', 't 1 0 9', 't 1 0 6', 't 1 2 11', 't 7 4 6', 't 1 1 18', 't 1 2 21', 't 6 1 5', 't 5 2 7', 't 8 0 16', 't 1 1 3', 't 7 4 17', 't 6 2 1', 't 1 2 18', 't 5 0 6', 't 8 1 11', 't 1 4 22', 't 5 4 19', 't 0 0 15', 't 2 3 0', 't 1 3 1', 't 8 1 0', 't 1 0 13', 't 4 3 7', 't 6 3 0', 't 5 2 0', 't 3 4 22', 't 6 3 7', 't 6 0 6', 't 2 3 18', 't 8 2 6', 't 4 2 18', 't 4 3 16', 't 8 4 20', 't 7 0 20', 't 0 3 15', 't 7 2 10', 't 0 1 20', 't 8 4 25', 't 7 0 11', 't 3 2 5', 't 0 1 24', 't 7 0 21', 't 8 1 16', 't 7 0 23', 't 7 2 15', 't 0 0 3', 't 5 0 10', 't 8 1 13', 't 1 0 17', 't 8 3 17', 't 1 4 9', 't 1 3 20', 't 7 0 0', 't 0 2 23', 't 7 3 4', 't 4 0 6', 't 0 4 17', 't 3 2 21', 't 6 2 25', 't 3 2 6', 't 4 3 21', 't 8 0 14', 't 0 4 15', 't 4 2 4', 't 8 1 12', 't 2 3 1', 't 1 4 11', 't 1 4 21', 't 6 2 5', 't 1 3 3', 't 1 0 20', 't 3 1 17', 't 0 0 20', 'c 1 2 2', 't 0 4 6', 't 1 1 19', 't 0 3 8', 't 7 2 20', 't 8 1 20', 't 0 4 11', 't 4 2 0', 't 2 2 20', 't 6 1 0', 't 8 3 23', 't 2 1 20', 't 0 3 20', 't 0 3 19', 't 1 4 20', 't 8 0 20', 't 1 4 17', 't 0 4 20', 't 1 0 8', 't 1 2 20', 't 5 0 7', 't 1 2 19', 't 0 1 19', 't 0 2 20', 't 0 2 19', 't 3 4 11', 't 1 1 20', 't 1 4 19', 't 1 3 19']\n",
    "index_set = set(index_layer_list[:440])\n",
    "print(len(index_set))"
   ]
  },
  {
   "cell_type": "code",
   "execution_count": 12,
   "id": "ac67c45f",
   "metadata": {},
   "outputs": [],
   "source": [
    "# for i, tree_indices in enumerate(index_layer_list):\n",
    "#     num_indices = len(tree_indices)\n",
    "#     print(f\"决策树 {i+1} 中的节点索引数量:\", num_indices)"
   ]
  },
  {
   "cell_type": "code",
   "execution_count": 13,
   "id": "a06917fc",
   "metadata": {},
   "outputs": [
    {
     "name": "stdout",
     "output_type": "stream",
     "text": [
      "X_I (99000, 5, 128)\n",
      "X_Q (99000, 5, 128)\n",
      "X_complex (99000, 5, 128)\n"
     ]
    },
    {
     "name": "stderr",
     "output_type": "stream",
     "text": [
      "100%|████████████████████████████████████████████████████████████████████████████████████| 9/9 [00:37<00:00,  4.13s/it]\n"
     ]
    },
    {
     "name": "stdout",
     "output_type": "stream",
     "text": [
      "X_I (11000, 5, 128)\n",
      "X_Q (11000, 5, 128)\n",
      "X_complex (11000, 5, 128)\n"
     ]
    },
    {
     "name": "stderr",
     "output_type": "stream",
     "text": [
      "100%|████████████████████████████████████████████████████████████████████████████████████| 9/9 [00:04<00:00,  2.10it/s]\n"
     ]
    },
    {
     "name": "stdout",
     "output_type": "stream",
     "text": [
      "X_I (11000, 5, 128)\n",
      "X_Q (11000, 5, 128)\n",
      "X_complex (11000, 5, 128)\n"
     ]
    },
    {
     "name": "stderr",
     "output_type": "stream",
     "text": [
      "100%|████████████████████████████████████████████████████████████████████████████████████| 9/9 [00:04<00:00,  2.08it/s]"
     ]
    },
    {
     "name": "stdout",
     "output_type": "stream",
     "text": [
      "X_train_feature_modified (99000, 405)\n",
      "X_test_feature_modified (11000, 405)\n",
      "X_test_feature_benign (11000, 405)\n"
     ]
    },
    {
     "name": "stderr",
     "output_type": "stream",
     "text": [
      "\n"
     ]
    }
   ],
   "source": [
    "# get the time features with the filter index\n",
    "from tqdm import tqdm\n",
    "def form_features_time(X):\n",
    "    \n",
    "    #Form array of complex numbers; convert each (2,128) sample to a (128,) sample\n",
    "    \n",
    "    n_samples = X.shape[0]\n",
    "    rows = X.shape[1]\n",
    "    vec_len = X.shape[2]\n",
    "    input_group = []\n",
    "    for ran in [0]:\n",
    "        \n",
    "        X_I_0 = X[:,0+ran,:]\n",
    "        X_Q_0 = X[:,1+ran,:]\n",
    "        X_I_list = [X_I_0]\n",
    "        X_Q_list = [X_Q_0]\n",
    "        for i in [2,4,6,8]:\n",
    "            X_I_tmp = np.concatenate((X_I_0[:, i:], X_I_0[:, :i]), axis = 1)\n",
    "            X_I_list.append(X_I_tmp * X_I_0)\n",
    "            X_Q_tmp = np.concatenate((X_Q_0[:, i:], X_Q_0[:, :i]), axis = 1)\n",
    "            X_Q_list.append(X_Q_tmp * X_Q_0)\n",
    "\n",
    "        X_complex_0 = X_I_0 + 1j*X_Q_0 # 100*1024\n",
    "        X_complex_list = [X_complex_0]   \n",
    "        for i in [2,4,6,8]:\n",
    "            X_complex_tmp = np.concatenate((X_complex_0[:, i:], X_complex_0[:, :i]), axis = 1)\n",
    "            X_complex_list.append(X_complex_tmp*X_complex_0)\n",
    "            \n",
    "        \n",
    "        X_I = np.array(X_I_list).swapaxes(0, 1)\n",
    "        X_Q = np.array(X_Q_list).swapaxes(0, 1)\n",
    "        X_complex = np.array(X_complex_list).swapaxes(0, 1)   \n",
    "        del X_I_0, X_Q_0, X_complex_0, X_I_list, X_Q_list, X_complex_list\n",
    "        \n",
    "        X_IQ_mul = X_I * X_Q\n",
    "        X_complex_abs = np.abs(X_complex) # 100 6 1024\n",
    "        X_complex_abs2 = np.abs(X_I) + np.abs(X_Q) # 100 4 1024\n",
    "        X_complex_sqr = np.square(np.abs(X_complex))  # 100 4 1024\n",
    "        X_complex_sqr2 = np.abs(np.square(X_complex))  # 100 4 1024        \n",
    "        X_complex_angl = np.angle(X_complex) # 100 4 1024\n",
    "        X_complex_angl_abs = np.abs(X_complex_angl) # 100 4 1024\n",
    "        X_complex_angl_cir = np.concatenate((X_complex_angl[:, :, 1:], X_complex_angl[:, :, X_complex_angl.shape[2]-1:]), axis = 2)\n",
    "        X_complex_fre = (X_complex_angl_cir - X_complex_angl) / 6.28 # 100 4 1024\n",
    "        X_complex_fre_abs = np.abs(X_complex_fre)\n",
    "        print(\"X_I\", X_I.shape)\n",
    "        print(\"X_Q\", X_Q.shape)\n",
    "        print(\"X_complex\", X_complex.shape)\n",
    "        input_group.extend([X_I, X_Q, X_IQ_mul, X_complex_abs, X_complex_abs2, X_complex_sqr, X_complex_sqr2, X_complex_angl, X_complex_fre])\n",
    "        \n",
    "        del X_I, X_Q, X_complex, X_complex_sqr, X_complex_abs, X_complex_angl, X_complex_angl_abs, X_complex_angl_cir, X_complex_fre, X_complex_fre_abs\n",
    "        g_num = len(input_group)\n",
    "\n",
    "        \n",
    "    dict_features = {}\n",
    "    for i in tqdm(range(len(input_group))):\n",
    "        for j in range(input_group[0].shape[1]):\n",
    "            # 9 * 5 * 28 = 1260\n",
    "            index_list = []\n",
    "            for z in range(28):\n",
    "                index = 't' + ' ' + str(i) + ' ' + str(j) + ' ' + str(z)\n",
    "                if index in index_set:\n",
    "                    index_list.append(z)\n",
    "#                 index_list.append(z)\n",
    "            for k in index_list:\n",
    "                #part one feat_trad\n",
    "                if k==0:\n",
    "                    dict_features['element_mean'+str(i)+str(j)] = element_mean(input_group[i][:, j:j+1, :])\n",
    "                elif k==1:\n",
    "                    dict_features['element_abs_mean'+str(i)+str(j)] = element_abs_mean(input_group[i][:, j:j+1, :])\n",
    "                elif k==2:\n",
    "                    dict_features['element_std'+str(i)+str(j)] = element_std(input_group[i][:, j:j+1, :])\n",
    "                elif k==3:\n",
    "                    dict_features['element_std_abs'+str(i)+str(j)] = element_std_abs(input_group[i][:, j:j+1, :])\n",
    "                elif k==4:\n",
    "                    dict_features['abs_max_mins_min'+str(i)+str(j)] = abs_max_mins_min(input_group[i][:, j:j+1, :])\n",
    "                elif k==5:\n",
    "                    dict_features['max_mins_min_abs'+str(i)+str(j)] = max_mins_min_abs(input_group[i][:, j:j+1, :])\n",
    "                elif k==6:\n",
    "                    dict_features['abs_mean_sqr'+str(i)+str(j)] = abs_mean_sqr(input_group[i][:, j:j+1, :])\n",
    "                elif k==7:\n",
    "                    dict_features['mean_sqr_abs'+str(i)+str(j)] = mean_sqr_abs(input_group[i][:, j:j+1, :])\n",
    "                elif k==8:\n",
    "                    dict_features['abs_sqrmean_mis_meansqr'+str(i)+str(j)] = abs_sqrmean_mis_meansqr(input_group[i][:, j:j+1, :])\n",
    "                elif k==9:\n",
    "                    dict_features['sqrmean_mis_meansqr_abs'+str(i)+str(j)] = sqrmean_mis_meansqr_abs(input_group[i][:, j:j+1, :])\n",
    "                elif k==10:\n",
    "                    dict_features['abs_fourmean_mis_meanfour'+str(i)+str(j)] = abs_fourmean_mis_meanfour(input_group[i][:, j:j+1, :])\n",
    "                elif k==11:\n",
    "                    dict_features['fourmean_mis_meanfour_abs'+str(i)+str(j)] = fourmean_mis_meanfour_abs(input_group[i][:, j:j+1, :])\n",
    "                \n",
    "\n",
    "                # part two time\n",
    "                if k==12:\n",
    "                    dict_features['absolute_sum_of_changes'+str(i)+str(j)] = absolute_sum_of_changes(input_group[i][:, j:j+1, :])\n",
    "                elif k==13:\n",
    "                    dict_features['approximate_entropy'+str(i)+str(j)] = approximate_entropy(input_group[i][:, j:j+1, :])\n",
    "                elif k==14:\n",
    "                    dict_features['autocorrelation'+str(i)+str(j)] = autocorrelation(input_group[i][:, j:j+1, :])\n",
    "                elif k==15:\n",
    "                    dict_features['count_above_mean'+str(i)+str(j)] = count_above_mean(input_group[i][:, j:j+1, :])\n",
    "                elif k==16:\n",
    "                    dict_features['count_below_mean'+str(i)+str(j)] = count_below_mean(input_group[i][:, j:j+1, :])\n",
    "                elif k==17:\n",
    "                    dict_features['cwt_coefficients'+str(i)+str(j)] = cwt_coefficients(input_group[i][:, j:j+1, :])\n",
    "                elif k==18:\n",
    "                    dict_features['kurtosis'+str(i)+str(j)] = kurtosis(input_group[i][:, j:j+1, :])\n",
    "                elif k==19:\n",
    "                    dict_features['skewness'+str(i)+str(j)] = skewness(input_group[i][:, j:j+1, :])\n",
    "\n",
    "                # part three complex\n",
    "                if k==20:\n",
    "                    dict_features['max_amp_density_abs'+str(i)+str(j)] = max_amp_density_abs(input_group[i][:, j:j+1, :])\n",
    "                elif k==21:\n",
    "                    dict_features['std_phase_abs'+str(i)+str(j)] = std_phase_abs(input_group[i][:, j:j+1, :], \n",
    "                                                                                 input_group[int(i/g_num)*g_num+2][:, j:j+1, :])\n",
    "                elif k==22:\n",
    "                    dict_features['std_phase'+str(i)+str(j)] = std_phase(input_group[i][:, j:j+1, :], \n",
    "                                                                         input_group[int(i/g_num)*g_num+2][:, j:j+1, :])\n",
    "                elif k==23:\n",
    "                    dict_features['std_amp_abs'+str(i)+str(j)] = std_amp_abs(input_group[i][:, j:j+1, :])\n",
    "                elif k==24:\n",
    "                    dict_features['std_fre_abs'+str(i)+str(j)] = std_fre_abs(input_group[i][:, j:j+1, :], \n",
    "                                                                             input_group[int(i/g_num)*g_num+2][:, j:j+1, :])\n",
    "                elif k==25:\n",
    "                    dict_features['std_amp'+str(i)+str(j)] = std_amp(input_group[i][:, j:j+1, :])\n",
    "                elif k==26:\n",
    "                    dict_features['den_amp'+str(i)+str(j)] = den_amp(input_group[i][:, j:j+1, :])\n",
    "                elif k==27:\n",
    "                    dict_features['den_fre'+str(i)+str(j)] = den_fre(input_group[i][:, j:j+1, :])\n",
    "                elif k==28:\n",
    "                    dict_features['cum_feat'+str(i)+str(j)] = accumulat_features(input_group[i][:, j:j+1, :])\n",
    "\n",
    "            \n",
    "            \n",
    "    #Concatenate feature arrays\n",
    "    features = []\n",
    "    features += dict_features.values()\n",
    "    features = np.concatenate(np.array(features), axis = 2)\n",
    "   \n",
    "    return features.reshape(features.shape[0], -1)\n",
    "\n",
    "X_train_feature_modified = form_features_time(X_train_modified[:,:,:])\n",
    "X_test_feature_modified = form_features_time(X_test_modified[:,:,:])\n",
    "X_test_feature_benign = form_features_time(X_test_benign[:,:,:])\n",
    "print(\"X_train_feature_modified\", X_train_feature_modified.shape)\n",
    "print(\"X_test_feature_modified\", X_test_feature_modified.shape)\n",
    "print(\"X_test_feature_benign\", X_test_feature_benign.shape)"
   ]
  },
  {
   "cell_type": "code",
   "execution_count": null,
   "id": "ed9d3bf4",
   "metadata": {},
   "outputs": [],
   "source": [
    "# X_train_feature_time = pd.DataFrame(X_train_feature_time)\n",
    "# X_train_feature_time.to_ csv('X_train_feature_time.csv')\n",
    "# X_test_feature_time = pd.DataFrame(X_test_feature_time)\n",
    "# X_test_feature_time.to_csv('X_test_feature_time.csv')"
   ]
  },
  {
   "cell_type": "markdown",
   "id": "81454b04",
   "metadata": {},
   "source": [
    "# Train model"
   ]
  },
  {
   "cell_type": "code",
   "execution_count": 14,
   "id": "0e81a2b2",
   "metadata": {},
   "outputs": [],
   "source": [
    "# standardize the features\n",
    "from sklearn.preprocessing import StandardScaler\n",
    "from sklearn.feature_selection import VarianceThreshold\n",
    "def standardize_features(X_train_feature_modified,X_test_feature_modified):\n",
    "    X_all = np.concatenate((X_train_feature_modified, X_test_feature_modified), axis = 0)\n",
    "\n",
    "    s0 = X_train_feature_modified.shape[0]\n",
    "    s1 = X_train_feature_modified.shape[1]\n",
    "\n",
    "    k = 1\n",
    "    interval = int(s1/k)\n",
    "    X_train_std_all_list = []\n",
    "    X_test_std_list = []\n",
    "    sc_train = []\n",
    "    for i in range(k):\n",
    "        X_all_filter = VarianceThreshold(threshold=(0)).fit_transform(X_all[:,interval*i: interval*(i+1)])\n",
    "        sc_train.append(StandardScaler())\n",
    "        print(X_all_filter.shape)\n",
    "        sc_train[i].fit(X_all_filter)\n",
    "        X_train_std_all_list.append(sc_train[i].transform(X_all_filter[:s0,:])) \n",
    "        X_test_std_list.append(sc_train[i].transform(X_all_filter[s0:,:]))\n",
    "    X_train_std_all = np.concatenate((X_train_std_all_list), axis = 1)\n",
    "    X_test_std = np.concatenate((X_test_std_list), axis = 1)\n",
    "\n",
    "    print(\"X_train_std_all,\", X_train_std_all.shape)\n",
    "    print(\"X_test_std,\", X_test_std.shape)\n",
    "    \n",
    "    return X_train_std_all, X_test_std"
   ]
  },
  {
   "cell_type": "code",
   "execution_count": 15,
   "id": "ba55d0ac",
   "metadata": {},
   "outputs": [
    {
     "name": "stdout",
     "output_type": "stream",
     "text": [
      "(110000, 400)\n",
      "X_train_std_all, (99000, 400)\n",
      "X_test_std, (11000, 400)\n",
      "(110000, 400)\n",
      "X_train_std_all, (99000, 400)\n",
      "X_test_std, (11000, 400)\n"
     ]
    }
   ],
   "source": [
    "X_train_modified, X_test_modified = standardize_features(X_train_feature_modified,X_test_feature_modified)\n",
    "X_train_modified, X_test_benign = standardize_features(X_train_feature_modified,X_test_feature_benign)"
   ]
  },
  {
   "cell_type": "code",
   "execution_count": 16,
   "id": "4e40966e",
   "metadata": {},
   "outputs": [
    {
     "name": "stdout",
     "output_type": "stream",
     "text": [
      "X_train_std, (88011, 400)\n",
      "X_val_std, (10989, 400)\n",
      "X_test_modified, (11000, 400)\n"
     ]
    }
   ],
   "source": [
    "# devide train and val data\n",
    "from sklearn.model_selection import train_test_split\n",
    "X_train_std, X_val_std, y_train, y_val = train_test_split(X_train_modified, Y_train, test_size=0.111, random_state=42)\n",
    "print(\"X_train_std,\", X_train_std.shape)\n",
    "print(\"X_val_std,\", X_val_std.shape)\n",
    "print(\"X_test_modified,\", X_test_modified.shape)"
   ]
  },
  {
   "cell_type": "code",
   "execution_count": 18,
   "id": "c3dddfce",
   "metadata": {},
   "outputs": [],
   "source": [
    "import pandas as pd\n",
    "X_train_std = pd.DataFrame(X_train_std)\n",
    "X_val_std = pd.DataFrame(X_val_std)\n",
    "X_test_modified = pd.DataFrame(X_test_modified)\n",
    "X_test_benign = pd.DataFrame(X_test_benign)"
   ]
  },
  {
   "cell_type": "code",
   "execution_count": 19,
   "id": "ecd2a04b",
   "metadata": {},
   "outputs": [],
   "source": [
    "# inf,nan数据填充\n",
    "X_train_std = (X_train_std.replace([np.inf, -np.inf], np.nan)).fillna(value = 0) \n",
    "X_val_std = (X_val_std.replace([np.inf, -np.inf], np.nan)).fillna(value = 0) \n",
    "X_test_modified = (X_test_modified.replace([np.inf, -np.inf], np.nan)).fillna(value = 0) \n",
    "X_test_benign = (X_test_benign.replace([np.inf, -np.inf], np.nan)).fillna(value = 0) "
   ]
  },
  {
   "cell_type": "code",
   "execution_count": 20,
   "id": "ef681122",
   "metadata": {},
   "outputs": [
    {
     "name": "stdout",
     "output_type": "stream",
     "text": [
      "0.843934843934844\n"
     ]
    }
   ],
   "source": [
    "from sklearn import datasets,model_selection,metrics,tree,preprocessing\n",
    "#x=preprocessing.StandardScaler().fit_transform(x)\n",
    "# 划分训练集、测试集\n",
    "#x_train,x_test,y_train,y_test=model_selection.train_test_split(X_train_std,y_train,test_size=0.3)\n",
    "# 导入决策树\n",
    "model=tree.DecisionTreeClassifier(\n",
    "#    max_depth=35\n",
    ")\n",
    "# 模型训练\n",
    "model.fit(X_train_std.values,y_train)\n",
    "# 模型预测\n",
    "y_pred=model.predict(X_val_std.values)\n",
    "# 模型性能评价\n",
    "print(metrics.accuracy_score(y_pred,y_val))"
   ]
  },
  {
   "cell_type": "code",
   "execution_count": 24,
   "id": "3c985191",
   "metadata": {},
   "outputs": [
    {
     "name": "stdout",
     "output_type": "stream",
     "text": [
      "0.7092469018112488\n",
      "0.7855805243445693\n",
      "0.8308370044052863\n",
      "0.8604224058769513\n",
      "0.8683982683982684\n",
      "0.8747731397459165\n",
      "0.8863841298467088\n",
      "0.8719121683440073\n",
      "0.9002770083102493\n",
      "0.8818263205013429\n"
     ]
    }
   ],
   "source": [
    "# model0:原模型测试\n",
    "classes = mods\n",
    "acc = {}\n",
    "for snr in snrs:\n",
    "\n",
    "    # extract classes @ SNR\n",
    "    test_SNRs = list(map(lambda x: lbl[x][1], test_idx))\n",
    "    test_X_i = X_test_benign.values[np.where(np.array(test_SNRs)==snr)]\n",
    "    test_Y_i = Y_test[np.where(np.array(test_SNRs)==snr)]   \n",
    "\n",
    "    test_Y_i_hat = model.predict(test_X_i)\n",
    "    # estimate classes\n",
    "    test_Y_i_hat = model.predict(test_X_i)\n",
    "    conf = np.zeros([len(classes),len(classes)])\n",
    "    confnorm = np.zeros([len(classes),len(classes)])\n",
    "    for i in range(0,test_X_i.shape[0]):\n",
    "        j = list(test_Y_i[i,:]).index(1)\n",
    "        k = int(np.argmax(test_Y_i_hat[i,:]))\n",
    "        conf[j,k] = conf[j,k] + 1\n",
    "    for i in range(0,len(classes)):\n",
    "        confnorm[i,:] = conf[i,:] / np.sum(conf[i,:])\n",
    "    #plt.figure()\n",
    "    #plot_confusion_matrix(confnorm, labels=classes, title=\"ConvNet Confusion Matrix (SNR=%d)\"%(snr))\n",
    "    \n",
    "    cor = np.sum(np.diag(conf))\n",
    "    ncor = np.sum(conf) - cor\n",
    "    #print(\"Overall Accuracy: \", cor / (cor+ncor))\n",
    "    print(cor / (cor+ncor))\n",
    "    acc[snr] = 1.0*cor/(cor+ncor)"
   ]
  },
  {
   "cell_type": "code",
   "execution_count": 76,
   "id": "05a43aa2",
   "metadata": {},
   "outputs": [
    {
     "name": "stdout",
     "output_type": "stream",
     "text": [
      "0.823004823004823\n"
     ]
    },
    {
     "ename": "ValueError",
     "evalue": "y should be a 1d array, got an array of shape (88011, 11) instead.",
     "output_type": "error",
     "traceback": [
      "\u001b[1;31m---------------------------------------------------------------------------\u001b[0m",
      "\u001b[1;31mValueError\u001b[0m                                Traceback (most recent call last)",
      "\u001b[1;32m<ipython-input-76-b85dab3a152d>\u001b[0m in \u001b[0;36m<module>\u001b[1;34m\u001b[0m\n\u001b[0;32m     27\u001b[0m \u001b[0mprint\u001b[0m\u001b[1;33m(\u001b[0m\u001b[0mmetrics\u001b[0m\u001b[1;33m.\u001b[0m\u001b[0maccuracy_score\u001b[0m\u001b[1;33m(\u001b[0m\u001b[0my_pred\u001b[0m\u001b[1;33m,\u001b[0m\u001b[0my_val\u001b[0m\u001b[1;33m)\u001b[0m\u001b[1;33m)\u001b[0m\u001b[1;33m\u001b[0m\u001b[1;33m\u001b[0m\u001b[0m\n\u001b[0;32m     28\u001b[0m \u001b[1;33m\u001b[0m\u001b[0m\n\u001b[1;32m---> 29\u001b[1;33m \u001b[0mmodel_xgb\u001b[0m\u001b[1;33m.\u001b[0m\u001b[0mfit\u001b[0m\u001b[1;33m(\u001b[0m\u001b[0mX_train_std\u001b[0m\u001b[1;33m.\u001b[0m\u001b[0mvalues\u001b[0m\u001b[1;33m,\u001b[0m\u001b[0my_train\u001b[0m\u001b[1;33m)\u001b[0m\u001b[1;33m\u001b[0m\u001b[1;33m\u001b[0m\u001b[0m\n\u001b[0m",
      "\u001b[1;32mD:\\Anaconda3\\envs\\AMC\\lib\\site-packages\\xgboost\\sklearn.py\u001b[0m in \u001b[0;36mfit\u001b[1;34m(self, X, y, sample_weight, base_margin, eval_set, eval_metric, early_stopping_rounds, verbose, xgb_model, sample_weight_eval_set, callbacks)\u001b[0m\n\u001b[0;32m    785\u001b[0m                 \u001b[0mxgb_options\u001b[0m\u001b[1;33m.\u001b[0m\u001b[0mupdate\u001b[0m\u001b[1;33m(\u001b[0m\u001b[1;33m{\u001b[0m\u001b[1;34m\"eval_metric\"\u001b[0m\u001b[1;33m:\u001b[0m \u001b[0meval_metric\u001b[0m\u001b[1;33m}\u001b[0m\u001b[1;33m)\u001b[0m\u001b[1;33m\u001b[0m\u001b[1;33m\u001b[0m\u001b[0m\n\u001b[0;32m    786\u001b[0m \u001b[1;33m\u001b[0m\u001b[0m\n\u001b[1;32m--> 787\u001b[1;33m         \u001b[0mself\u001b[0m\u001b[1;33m.\u001b[0m\u001b[0m_le\u001b[0m \u001b[1;33m=\u001b[0m \u001b[0mXGBoostLabelEncoder\u001b[0m\u001b[1;33m(\u001b[0m\u001b[1;33m)\u001b[0m\u001b[1;33m.\u001b[0m\u001b[0mfit\u001b[0m\u001b[1;33m(\u001b[0m\u001b[0my\u001b[0m\u001b[1;33m)\u001b[0m\u001b[1;33m\u001b[0m\u001b[1;33m\u001b[0m\u001b[0m\n\u001b[0m\u001b[0;32m    788\u001b[0m         \u001b[0mtraining_labels\u001b[0m \u001b[1;33m=\u001b[0m \u001b[0mself\u001b[0m\u001b[1;33m.\u001b[0m\u001b[0m_le\u001b[0m\u001b[1;33m.\u001b[0m\u001b[0mtransform\u001b[0m\u001b[1;33m(\u001b[0m\u001b[0my\u001b[0m\u001b[1;33m)\u001b[0m\u001b[1;33m\u001b[0m\u001b[1;33m\u001b[0m\u001b[0m\n\u001b[0;32m    789\u001b[0m \u001b[1;33m\u001b[0m\u001b[0m\n",
      "\u001b[1;32m~\\AppData\\Roaming\\Python\\Python37\\site-packages\\sklearn\\preprocessing\\_label.py\u001b[0m in \u001b[0;36mfit\u001b[1;34m(self, y)\u001b[0m\n\u001b[0;32m     96\u001b[0m             \u001b[0mFitted\u001b[0m \u001b[0mlabel\u001b[0m \u001b[0mencoder\u001b[0m\u001b[1;33m.\u001b[0m\u001b[1;33m\u001b[0m\u001b[1;33m\u001b[0m\u001b[0m\n\u001b[0;32m     97\u001b[0m         \"\"\"\n\u001b[1;32m---> 98\u001b[1;33m         \u001b[0my\u001b[0m \u001b[1;33m=\u001b[0m \u001b[0mcolumn_or_1d\u001b[0m\u001b[1;33m(\u001b[0m\u001b[0my\u001b[0m\u001b[1;33m,\u001b[0m \u001b[0mwarn\u001b[0m\u001b[1;33m=\u001b[0m\u001b[1;32mTrue\u001b[0m\u001b[1;33m)\u001b[0m\u001b[1;33m\u001b[0m\u001b[1;33m\u001b[0m\u001b[0m\n\u001b[0m\u001b[0;32m     99\u001b[0m         \u001b[0mself\u001b[0m\u001b[1;33m.\u001b[0m\u001b[0mclasses_\u001b[0m \u001b[1;33m=\u001b[0m \u001b[0m_unique\u001b[0m\u001b[1;33m(\u001b[0m\u001b[0my\u001b[0m\u001b[1;33m)\u001b[0m\u001b[1;33m\u001b[0m\u001b[1;33m\u001b[0m\u001b[0m\n\u001b[0;32m    100\u001b[0m         \u001b[1;32mreturn\u001b[0m \u001b[0mself\u001b[0m\u001b[1;33m\u001b[0m\u001b[1;33m\u001b[0m\u001b[0m\n",
      "\u001b[1;32m~\\AppData\\Roaming\\Python\\Python37\\site-packages\\sklearn\\utils\\validation.py\u001b[0m in \u001b[0;36mcolumn_or_1d\u001b[1;34m(y, warn)\u001b[0m\n\u001b[0;32m   1037\u001b[0m \u001b[1;33m\u001b[0m\u001b[0m\n\u001b[0;32m   1038\u001b[0m     raise ValueError(\n\u001b[1;32m-> 1039\u001b[1;33m         \u001b[1;34m\"y should be a 1d array, got an array of shape {} instead.\"\u001b[0m\u001b[1;33m.\u001b[0m\u001b[0mformat\u001b[0m\u001b[1;33m(\u001b[0m\u001b[0mshape\u001b[0m\u001b[1;33m)\u001b[0m\u001b[1;33m\u001b[0m\u001b[1;33m\u001b[0m\u001b[0m\n\u001b[0m\u001b[0;32m   1040\u001b[0m     )\n\u001b[0;32m   1041\u001b[0m \u001b[1;33m\u001b[0m\u001b[0m\n",
      "\u001b[1;31mValueError\u001b[0m: y should be a 1d array, got an array of shape (88011, 11) instead."
     ]
    }
   ],
   "source": [
    "from xgboost import XGBClassifier\n",
    "from sklearn.multiclass import OneVsRestClassifier\n",
    "import numpy as np\n",
    "import pandas as pd\n",
    "import numpy as np\n",
    "import xgboost as xgb\n",
    "from sklearn.model_selection import train_test_split\n",
    "import sklearn\n",
    "import warnings\n",
    "from numpy import loadtxt\n",
    "from xgboost import XGBClassifier\n",
    "from xgboost import plot_importance\n",
    "from matplotlib import  pyplot\n",
    "from sklearn.metrics import roc_curve, auc\n",
    "import matplotlib as mpl  \n",
    "import matplotlib.pyplot as plt\n",
    "\n",
    "\n",
    "model_xgb = xgb.XGBClassifier(max_depth=20,tree_method='gpu_hist', gpu_id=0)\n",
    "\n",
    "clf_multilabel = OneVsRestClassifier(model_xgb)\n",
    "\n",
    "clf_multilabel.fit(X_train_std.values,y_train)\n",
    "\n",
    "y_pred=clf_multilabel.predict(X_val_std.values)\n",
    "# 模型性能评价\n",
    "print(metrics.accuracy_score(y_pred,y_val))\n",
    "\n",
    "model_xgb.fit(X_train_std.values,y_train)"
   ]
  },
  {
   "cell_type": "code",
   "execution_count": null,
   "id": "6444097b",
   "metadata": {},
   "outputs": [],
   "source": []
  }
 ],
 "metadata": {
  "kernelspec": {
   "display_name": "Python [conda env:AMC] *",
   "language": "python",
   "name": "conda-env-AMC-py"
  },
  "language_info": {
   "codemirror_mode": {
    "name": "ipython",
    "version": 3
   },
   "file_extension": ".py",
   "mimetype": "text/x-python",
   "name": "python",
   "nbconvert_exporter": "python",
   "pygments_lexer": "ipython3",
   "version": "3.7.6"
  }
 },
 "nbformat": 4,
 "nbformat_minor": 5
}
