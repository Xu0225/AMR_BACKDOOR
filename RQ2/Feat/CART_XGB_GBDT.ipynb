{
 "cells": [
  {
   "cell_type": "code",
   "execution_count": 34,
   "metadata": {},
   "outputs": [],
   "source": [
    "# Import all the things we need ---\n",
    "#   by setting env variables before Keras import you can set up which backend and which GPU it uses\n",
    "import os,random\n",
    "import keras\n",
    "#os.environ[\"KERAS_BACKEND\"] = \"theano\"\n",
    "\n",
    "os.environ[\"KERAS_BACKEND\"] = \"tensorflow\"\n",
    "os.environ[\"CUDA_VISIBLE_DEVICE\"]  = '0'\n",
    "#os.environ[\"THEANO_FLAGS\"]  = \"floatX=float32\"\n",
    "#os.environ[\"THEANO_FLAGS\"]  = \"device=cuda%d\"%(1)"
   ]
  },
  {
   "cell_type": "code",
   "execution_count": 35,
   "metadata": {},
   "outputs": [],
   "source": [
    "import numpy as np\n",
    "import seaborn as sns\n",
    "import pickle, random, sys"
   ]
  },
  {
   "cell_type": "code",
   "execution_count": 36,
   "metadata": {},
   "outputs": [],
   "source": [
    "from keras.utils import np_utils\n",
    "import keras.models as models\n",
    "from keras.layers.core import Reshape,Dense,Dropout,Activation,Flatten\n",
    "from keras.layers.noise import GaussianNoise\n",
    "from keras.layers.convolutional import Convolution2D, MaxPooling2D, ZeroPadding2D\n",
    "from keras.regularizers import *\n",
    "#from keras.optimizers import adam\n",
    "from tensorflow.keras.optimizers import Adam\n",
    "#import theano as th\n",
    "#import theano.tensor as T\n",
    "import os\n",
    "WEIGHTS_PATH = ('resnet_like_weights_tf_dim_ordering_tf_kernels.h5')\n",
    "from keras.models import Model\n",
    "from keras.layers import Input,Dense,Conv1D,MaxPool1D,ReLU,Dropout,Softmax\n",
    "from keras.layers import LSTM\n",
    "import keras\n",
    "from keras.callbacks import LearningRateScheduler\n",
    "import keras.backend as K\n",
    "from keras.callbacks import LearningRateScheduler\n",
    "from keras.regularizers import *\n",
    "from tensorflow.keras.optimizers import Adam\n",
    "from keras.models import model_from_json\n",
    "import tensorflow as tf\n",
    "import importlib,sys\n",
    "\n",
    "importlib.reload(sys)\n",
    "\n",
    "from mpl_toolkits.mplot3d import Axes3D\n",
    "\n",
    "from sklearn.preprocessing import StandardScaler\n",
    "\n",
    "import matplotlib.pyplot as plt # plotting\n",
    "import numpy as np # linear algebra\n",
    "import os # accessing directory structure\n",
    "import pandas as pd # data processing, CSV file I/O (e.g. pd.read_csv)\n",
    "\n",
    "# Load the dataset ...\n",
    "#  You will need to seperately download or generate this file\n",
    "dbfile = open('RML2016.10a_dict.dat', 'rb')      \n",
    "Xd = pickle.load(dbfile,encoding='latin1') \n",
    "snrs,mods = map(lambda j: sorted(list(set(map(lambda x: x[j], Xd.keys())))), [1,0])\n",
    "X = []  \n",
    "lbl = []\n",
    "for mod in mods:\n",
    "    for snr in snrs:\n",
    "        X.append(Xd[(mod,snr)])\n",
    "        for i in range(Xd[(mod,snr)].shape[0]):  lbl.append((mod,snr))\n",
    "X = np.vstack(X)"
   ]
  },
  {
   "cell_type": "code",
   "execution_count": 37,
   "metadata": {},
   "outputs": [],
   "source": [
    "# Partition the data\n",
    "#  into training and test sets of the form we can train/test on \n",
    "#  while keeping SNR and Mod labels handy for each\n",
    "np.random.seed(2016)\n",
    "n_examples = X.shape[0]\n",
    "n_train = int(n_examples * 0.9)\n",
    "train_idx = np.random.choice(range(0,n_examples), size=n_train, replace=False)\n",
    "test_idx = list(set(range(0,n_examples))-set(train_idx))\n",
    "X_train = X[train_idx]\n",
    "X_test =  X[test_idx]\n",
    "def to_onehot(yy):\n",
    "    yy1 = np.zeros([len(yy), max(yy)+1])\n",
    "    yy1[np.arange(len(yy)),yy] = 1\n",
    "    return yy1\n",
    "Y_train = to_onehot(list(map(lambda x: mods.index(lbl[x][0]), train_idx)))\n",
    "Y_test = to_onehot(list(map(lambda x: mods.index(lbl[x][0]), test_idx)))"
   ]
  },
  {
   "cell_type": "code",
   "execution_count": 38,
   "metadata": {},
   "outputs": [
    {
     "name": "stdout",
     "output_type": "stream",
     "text": [
      "数据集总数： 220000\n",
      "调制方式 11 种: ['8PSK', 'AM-DSB', 'AM-SSB', 'BPSK', 'CPFSK', 'GFSK', 'PAM4', 'QAM16', 'QAM64', 'QPSK', 'WBFM']\n",
      "信噪比: [-20, -18, -16, -14, -12, -10, -8, -6, -4, -2, 0, 2, 4, 6, 8, 10, 12, 14, 16, 18]\n"
     ]
    }
   ],
   "source": [
    "print('数据集总数：',n_examples)\n",
    "print('调制方式' , len(mods),'种:' ,mods)\n",
    "print('信噪比:',snrs)"
   ]
  },
  {
   "cell_type": "code",
   "execution_count": 39,
   "metadata": {},
   "outputs": [],
   "source": [
    "# Y_train = np.argmax(Y_train, axis=-1)\n",
    "# Y_test = np.argmax(Y_test, axis=-1)"
   ]
  },
  {
   "cell_type": "code",
   "execution_count": 40,
   "metadata": {},
   "outputs": [
    {
     "data": {
      "text/plain": [
       "(array([[0., 0., 0., ..., 0., 0., 0.],\n",
       "        [0., 0., 1., ..., 0., 0., 0.],\n",
       "        [0., 0., 0., ..., 0., 0., 0.],\n",
       "        ...,\n",
       "        [0., 0., 0., ..., 0., 0., 0.],\n",
       "        [0., 0., 0., ..., 1., 0., 0.],\n",
       "        [1., 0., 0., ..., 0., 0., 0.]]),\n",
       " array([[0., 0., 0., ..., 0., 0., 0.],\n",
       "        [1., 0., 0., ..., 0., 0., 0.],\n",
       "        [0., 0., 0., ..., 0., 0., 0.],\n",
       "        ...,\n",
       "        [0., 0., 0., ..., 0., 0., 0.],\n",
       "        [0., 0., 0., ..., 0., 0., 0.],\n",
       "        [0., 0., 0., ..., 0., 0., 0.]]))"
      ]
     },
     "execution_count": 40,
     "metadata": {},
     "output_type": "execute_result"
    }
   ],
   "source": [
    "Y_train,Y_test"
   ]
  },
  {
   "cell_type": "markdown",
   "metadata": {},
   "source": [
    "# load data"
   ]
  },
  {
   "cell_type": "code",
   "execution_count": 41,
   "metadata": {},
   "outputs": [],
   "source": [
    "X_train_feature_expert = pd.read_csv('X_train_feature_expert.csv',header=None).drop(columns=[0],index=[0])\n",
    "X_test_feature_expert = pd.read_csv('X_test_feature_expert.csv',header=None).drop(columns=[0],index=[0])\n",
    "\n",
    "X_train_feature_time = pd.read_csv('X_train_feature_time.csv',header=None).drop(columns=[0],index=[0])\n",
    "X_test_feature_time = pd.read_csv('X_test_feature_time.csv',header=None).drop(columns=[0],index=[0])\n",
    "\n",
    "X_train_feature_old = pd.read_csv('X_train_feature_old.csv',header=None).drop(columns=[0],index=[0])\n",
    "X_test_feature_old = pd.read_csv('X_test_feature_old.csv',header=None).drop(columns=[0],index=[0])"
   ]
  },
  {
   "cell_type": "code",
   "execution_count": 75,
   "metadata": {},
   "outputs": [
    {
     "name": "stdout",
     "output_type": "stream",
     "text": [
      "(198000, 132)\n",
      "(22000, 132)\n"
     ]
    }
   ],
   "source": [
    "# concate time feature and complex feature together\n",
    "# X_train_feature = np.concatenate((X_train_feature_time, X_train_feature_complex), axis = 1)\n",
    "# X_test_feature = np.concatenate((X_test_feature_time, X_test_feature_complex), axis = 1)\n",
    "#choose1\n",
    "# X_train_feature = X_train_feature_complex\n",
    "# X_test_feature = X_test_feature_complex\n",
    "#choose1\n",
    "X_train_feature = X_train_feature_time\n",
    "X_test_feature = X_test_feature_time\n",
    "\n",
    "print(X_train_feature.shape)\n",
    "print(X_test_feature.shape)"
   ]
  },
  {
   "cell_type": "code",
   "execution_count": 76,
   "metadata": {},
   "outputs": [
    {
     "data": {
      "text/plain": [
       "198000"
      ]
     },
     "execution_count": 76,
     "metadata": {},
     "output_type": "execute_result"
    }
   ],
   "source": [
    "X_train_feature.shape[0]"
   ]
  },
  {
   "cell_type": "code",
   "execution_count": 77,
   "metadata": {},
   "outputs": [
    {
     "name": "stdout",
     "output_type": "stream",
     "text": [
      "(220000, 127)\n",
      "X_train_std_all, (198000, 127)\n",
      "X_test_std, (22000, 127)\n"
     ]
    }
   ],
   "source": [
    "# standardize the features\n",
    "\n",
    "from sklearn.feature_selection import VarianceThreshold\n",
    "X_all = np.concatenate((X_train_feature, X_test_feature), axis = 0)\n",
    "\n",
    "s0 = X_train_feature.shape[0]\n",
    "s1 = X_train_feature.shape[1]\n",
    "\n",
    "k = 1\n",
    "interval = int(s1/k)\n",
    "X_train_std_all_list = []\n",
    "X_test_std_list = []\n",
    "sc_train = []\n",
    "for i in range(k):\n",
    "    X_all_filter = VarianceThreshold(threshold=(0)).fit_transform(X_all[:,interval*i: interval*(i+1)])\n",
    "    sc_train.append(StandardScaler())\n",
    "    print(X_all_filter.shape)\n",
    "    sc_train[i].fit(X_all_filter)\n",
    "    X_train_std_all_list.append(sc_train[i].transform(X_all_filter[:s0,:])) \n",
    "    X_test_std_list.append(sc_train[i].transform(X_all_filter[s0:,:]))\n",
    "X_train_std_all = np.concatenate((X_train_std_all_list), axis = 1)\n",
    "X_test_std = np.concatenate((X_test_std_list), axis = 1)\n",
    "\n",
    "print(\"X_train_std_all,\", X_train_std_all.shape)\n",
    "print(\"X_test_std,\", X_test_std.shape)"
   ]
  },
  {
   "cell_type": "code",
   "execution_count": 78,
   "metadata": {},
   "outputs": [
    {
     "name": "stdout",
     "output_type": "stream",
     "text": [
      "X_train_std, (176022, 127)\n",
      "X_val_std, (21978, 127)\n",
      "X_test_std, (22000, 127)\n"
     ]
    }
   ],
   "source": [
    "# devide train and val data\n",
    "from sklearn.model_selection import train_test_split\n",
    "X_train_std, X_val_std, y_train, y_val = train_test_split(X_train_std_all, Y_train, test_size=0.111, random_state=42)\n",
    "print(\"X_train_std,\", X_train_std.shape)\n",
    "print(\"X_val_std,\", X_val_std.shape)\n",
    "print(\"X_test_std,\", X_test_std.shape)"
   ]
  },
  {
   "cell_type": "code",
   "execution_count": 79,
   "metadata": {},
   "outputs": [],
   "source": [
    "X_train_std = pd.DataFrame(X_train_std)\n",
    "X_val_std = pd.DataFrame(X_val_std)\n",
    "X_test_std = pd.DataFrame(X_test_std)"
   ]
  },
  {
   "cell_type": "code",
   "execution_count": 80,
   "metadata": {},
   "outputs": [],
   "source": [
    "# inf,nan数据填充\n",
    "X_train_std = (X_train_std.replace([np.inf, -np.inf], np.nan)).fillna(value = 0) \n",
    "X_val_std = (X_val_std.replace([np.inf, -np.inf], np.nan)).fillna(value = 0) \n",
    "X_test_std = (X_test_std.replace([np.inf, -np.inf], np.nan)).fillna(value = 0) "
   ]
  },
  {
   "cell_type": "code",
   "execution_count": 81,
   "metadata": {},
   "outputs": [
    {
     "data": {
      "text/plain": [
       "((176022, 127), (22000, 127))"
      ]
     },
     "execution_count": 81,
     "metadata": {},
     "output_type": "execute_result"
    }
   ],
   "source": [
    "X_train_std.shape,X_test_std.shape"
   ]
  },
  {
   "cell_type": "code",
   "execution_count": 82,
   "metadata": {},
   "outputs": [
    {
     "data": {
      "text/plain": [
       "array([[0., 0., 1., ..., 0., 0., 0.],\n",
       "       [0., 0., 0., ..., 0., 0., 0.],\n",
       "       [0., 0., 0., ..., 0., 0., 1.],\n",
       "       ...,\n",
       "       [0., 0., 0., ..., 0., 0., 0.],\n",
       "       [0., 0., 0., ..., 0., 0., 0.],\n",
       "       [0., 0., 0., ..., 0., 0., 0.]])"
      ]
     },
     "execution_count": 82,
     "metadata": {},
     "output_type": "execute_result"
    }
   ],
   "source": [
    "y_train"
   ]
  },
  {
   "cell_type": "markdown",
   "metadata": {},
   "source": [
    "# CART"
   ]
  },
  {
   "cell_type": "code",
   "execution_count": 83,
   "metadata": {},
   "outputs": [
    {
     "name": "stdout",
     "output_type": "stream",
     "text": [
      "0.4932204932204932\n"
     ]
    }
   ],
   "source": [
    "from sklearn import datasets,model_selection,metrics,tree,preprocessing\n",
    "#x=preprocessing.StandardScaler().fit_transform(x)\n",
    "# 划分训练集、测试集\n",
    "#x_train,x_test,y_train,y_test=model_selection.train_test_split(X_train_std,y_train,test_size=0.3)\n",
    "# 导入决策树\n",
    "model=tree.DecisionTreeClassifier(max_depth=35)\n",
    "# 模型训练\n",
    "model.fit(X_train_std.values,y_train)\n",
    "# 模型预测\n",
    "y_pred=model.predict(X_val_std.values)\n",
    "# 模型性能评价\n",
    "print(metrics.accuracy_score(y_pred,y_val))"
   ]
  },
  {
   "cell_type": "code",
   "execution_count": 84,
   "metadata": {},
   "outputs": [
    {
     "name": "stdout",
     "output_type": "stream",
     "text": [
      "0.1424682395644283\n",
      "0.16466234967622573\n",
      "0.1636197440585009\n",
      "0.16385767790262173\n",
      "0.1687170474516696\n",
      "0.16756272401433692\n",
      "0.17853658536585365\n",
      "0.23145665773011617\n",
      "0.3553639846743295\n",
      "0.491585473870682\n",
      "0.6570915619389587\n",
      "0.7208672086720868\n",
      "0.7695067264573991\n",
      "0.7768090671316478\n",
      "0.8223624887285843\n",
      "0.8311444652908068\n",
      "0.8315696649029982\n",
      "0.845724907063197\n",
      "0.8053016453382084\n",
      "0.8333333333333334\n"
     ]
    }
   ],
   "source": [
    "# model0:原模型测试\n",
    "classes = mods\n",
    "acc = {}\n",
    "for snr in snrs:\n",
    "\n",
    "    # extract classes @ SNR\n",
    "    test_SNRs = list(map(lambda x: lbl[x][1], test_idx))\n",
    "    test_X_i = X_test_std.values[np.where(np.array(test_SNRs)==snr)]\n",
    "    test_Y_i = Y_test[np.where(np.array(test_SNRs)==snr)]   \n",
    "\n",
    "    test_Y_i_hat = model.predict(test_X_i)\n",
    "    # estimate classes\n",
    "    test_Y_i_hat = model.predict(test_X_i)\n",
    "    conf = np.zeros([len(classes),len(classes)])\n",
    "    confnorm = np.zeros([len(classes),len(classes)])\n",
    "    for i in range(0,test_X_i.shape[0]):\n",
    "        j = list(test_Y_i[i,:]).index(1)\n",
    "        k = int(np.argmax(test_Y_i_hat[i,:]))\n",
    "        conf[j,k] = conf[j,k] + 1\n",
    "    for i in range(0,len(classes)):\n",
    "        confnorm[i,:] = conf[i,:] / np.sum(conf[i,:])\n",
    "    #plt.figure()\n",
    "    #plot_confusion_matrix(confnorm, labels=classes, title=\"ConvNet Confusion Matrix (SNR=%d)\"%(snr))\n",
    "    \n",
    "    cor = np.sum(np.diag(conf))\n",
    "    ncor = np.sum(conf) - cor\n",
    "    #print(\"Overall Accuracy: \", cor / (cor+ncor))\n",
    "    print(cor / (cor+ncor))\n",
    "    acc[snr] = 1.0*cor/(cor+ncor)"
   ]
  },
  {
   "cell_type": "code",
   "execution_count": 85,
   "metadata": {},
   "outputs": [],
   "source": [
    "import joblib\n",
    "joblib.dump(model,'model_saved\\Feat_based\\CART_FEAT_time.pkl')\n",
    "model = joblib.load('model_saved\\Feat_based\\CART_FEAT_time.pkl')"
   ]
  },
  {
   "cell_type": "code",
   "execution_count": 18,
   "metadata": {},
   "outputs": [],
   "source": [
    "# def plot_confusion_matrix(cm, title='Feature-based Confusion matrix', cmap=plt.cm.Blues, labels=[]):\n",
    "#     plt.imshow(cm, interpolation='nearest', cmap=cmap)\n",
    "#     plt.title(title)\n",
    "#     plt.colorbar()\n",
    "#     tick_marks = np.arange(len(labels))\n",
    "#     plt.xticks(tick_marks, labels, rotation=45)\n",
    "#     plt.yticks(tick_marks, labels)\n",
    "#     plt.tight_layout()\n",
    "#     plt.ylabel('True label')\n",
    "#     plt.xlabel('Predicted label')"
   ]
  },
  {
   "cell_type": "code",
   "execution_count": 19,
   "metadata": {},
   "outputs": [],
   "source": [
    "# # Plot confusion matrix\n",
    "# classes = mods\n",
    "# model = model\n",
    "# test_Y_hat = model.predict(X_val_std)\n",
    "# conf = np.zeros([len(classes),len(classes)])\n",
    "# confnorm = np.zeros([len(classes),len(classes)])\n",
    "# for i in range(0,X_val_std.shape[0]):\n",
    "#     j = list(Y_test[i,:]).index(1)\n",
    "#     k = int(np.argmax(test_Y_hat[i,:]))\n",
    "#     conf[j,k] = conf[j,k] + 1\n",
    "# for i in range(0,len(classes)):\n",
    "#     confnorm[i,:] = conf[i,:] / np.sum(conf[i,:])\n",
    "# plot_confusion_matrix(confnorm, labels=classes)\n",
    "# plt.savefig('pic\\Confusion_Matrix\\Feat_CM_CART.jpg',dpi = 300)"
   ]
  },
  {
   "cell_type": "code",
   "execution_count": 37,
   "metadata": {},
   "outputs": [],
   "source": [
    "# 对抗样本生成\n",
    "from art.estimators.classification import SklearnClassifier\n",
    "from art.attacks.evasion import ZooAttack\n",
    "from sklearn.metrics import accuracy_score\n",
    "from art.attacks.evasion import ProjectedGradientDescent,FastGradientMethod\n",
    "\n",
    "from art.attacks.evasion import CarliniL2Method\n",
    "def get_adversarial_examples(model, x_test, y_test, EPS, attack = 'PGD'):\n",
    "    \n",
    "    # Create ART classifier for scikit-learn DecisionTreeClassifier\n",
    "    art_classifier = SklearnClassifier(model=model)\n",
    "    \n",
    "    # Create ART attack\n",
    "    if attack == 'FGM':\n",
    "        attacker = FastGradientMethod(estimator=art_classifier, eps=EPS)\n",
    "        \n",
    "    if attack == 'PGD':\n",
    "        attacker = ProjectedGradientDescent(estimator=art_classifier, norm=1, eps=EPS, eps_step=0.1,\n",
    "                                            max_iter=10, targeted=False, num_random_init=0, batch_size=1,\n",
    "                                            verbose=False)\n",
    "    elif attack == 'CW':\n",
    "        attacker = CarliniL2Method(classifier=art_classifier, max_iter=20, verbose=False)\n",
    "    \n",
    "    elif attack == 'ZOO':\n",
    "        attacker = ZooAttack(classifier=art_classifier, confidence=0.0, targeted=False, learning_rate=1e-1, max_iter=20,\n",
    "                    binary_search_steps=10, initial_const=1e-3, abort_early=True, use_resize=False, \n",
    "                    use_importance=False, nb_parallel=2, batch_size=1, variable_h=0.2)\n",
    "\n",
    "    # Generate adversarial samples with ART Zeroth Order Optimization attack\n",
    "    x_train_adv = attacker.generate(x_test)\n",
    "\n",
    "    return x_train_adv"
   ]
  },
  {
   "cell_type": "code",
   "execution_count": 38,
   "metadata": {},
   "outputs": [],
   "source": [
    "def cal_acc(X_test_std,Y_test,model):\n",
    "    snr = 10\n",
    "    test_SNRs = list(map(lambda x: lbl[x][1], test_idx))\n",
    "    test_X_i = X_test_std[np.where(np.array(test_SNRs)==snr)]\n",
    "    test_Y_i = Y_test[np.where(np.array(test_SNRs)==snr)]   \n",
    "    test_Y_i_hat = model.predict(test_X_i)\n",
    "    acc = accuracy_score(test_Y_i, test_Y_i_hat)\n",
    "    return acc"
   ]
  },
  {
   "cell_type": "code",
   "execution_count": 58,
   "metadata": {},
   "outputs": [],
   "source": [
    "import joblib\n",
    "joblib.dump(model,'model_saved\\Feat_based\\CART_FEAT_basic.pkl')\n",
    "model = joblib.load('model_saved\\Feat_based\\CART_FEAT_basic.pkl')"
   ]
  },
  {
   "cell_type": "markdown",
   "metadata": {},
   "source": [
    "# XGB"
   ]
  },
  {
   "cell_type": "code",
   "execution_count": 52,
   "metadata": {},
   "outputs": [
    {
     "data": {
      "text/plain": [
       "XGBClassifier(base_score=0.5, booster='gbtree', colsample_bylevel=1,\n",
       "              colsample_bynode=1, colsample_bytree=1, gamma=0, gpu_id=0,\n",
       "              importance_type='gain', interaction_constraints='',\n",
       "              learning_rate=0.300000012, max_delta_step=0, max_depth=20,\n",
       "              min_child_weight=1, missing=nan,\n",
       "              monotone_constraints='(0,0,0,0,0,0,0,0,0,0,0,0,0,0,0,0,0,0,0,0,0,0,0,0,0,0,0,0,0,0,0,0,0,0,0...,0,0,0,0,0,0,0,0,0,0,0,0,0,0,0,0,0,0,0,0,0,0,0,0,0,0,0,0,0,0,0,0,0,0,0,0,0,0,0,0,0,0,0,0,0,0,0,0,0,0,0,0,0,0,0,0,0,0,0,0,0,0,0,0,0,0,0,0,0,0)',\n",
       "              n_estimators=100, n_jobs=0, num_parallel_tree=1,\n",
       "              objective='multi:softprob', random_state=0, reg_alpha=0,\n",
       "              reg_lambda=1, scale_pos_weight=None, subsample=1,\n",
       "              tree_method='gpu_hist', validate_parameters=1, verbosity=None)"
      ]
     },
     "execution_count": 52,
     "metadata": {},
     "output_type": "execute_result"
    }
   ],
   "source": [
    "from xgboost import XGBClassifier\n",
    "from sklearn.multiclass import OneVsRestClassifier\n",
    "import numpy as np\n",
    "import pandas as pd\n",
    "import numpy as np\n",
    "import xgboost as xgb\n",
    "from sklearn.model_selection import train_test_split\n",
    "import sklearn\n",
    "import warnings\n",
    "from numpy import loadtxt\n",
    "from xgboost import XGBClassifier\n",
    "from xgboost import plot_importance\n",
    "from matplotlib import  pyplot\n",
    "from sklearn.metrics import roc_curve, auc\n",
    "import matplotlib as mpl  \n",
    "import matplotlib.pyplot as plt\n",
    "\n",
    "\n",
    "model_xgb = xgb.XGBClassifier(max_depth=20,tree_method='gpu_hist', gpu_id=0)\n",
    "\n",
    "clf_multilabel = OneVsRestClassifier(model_xgb)\n",
    "\n",
    "clf_multilabel.fit(X_train_std.values,y_train)\n",
    "\n",
    "y_pred=clf_multilabel.predict(X_val_std.values)\n",
    "# 模型性能评价\n",
    "print(metrics.accuracy_score(y_pred,y_val))\n",
    "\n",
    "model_xgb.fit(X_train_std.values,y_train)"
   ]
  },
  {
   "cell_type": "code",
   "execution_count": 60,
   "metadata": {},
   "outputs": [
    {
     "ename": "TypeError",
     "evalue": "train() got an unexpected keyword argument 'tree_method'",
     "output_type": "error",
     "traceback": [
      "\u001b[1;31m---------------------------------------------------------------------------\u001b[0m",
      "\u001b[1;31mTypeError\u001b[0m                                 Traceback (most recent call last)",
      "\u001b[1;32m<ipython-input-60-5d083641d9e0>\u001b[0m in \u001b[0;36m<module>\u001b[1;34m\u001b[0m\n\u001b[0;32m      3\u001b[0m \u001b[0mtrain_data\u001b[0m \u001b[1;33m=\u001b[0m \u001b[0mxgb\u001b[0m\u001b[1;33m.\u001b[0m\u001b[0mDMatrix\u001b[0m\u001b[1;33m(\u001b[0m\u001b[0mX_train_std\u001b[0m\u001b[1;33m.\u001b[0m\u001b[0mvalues\u001b[0m\u001b[1;33m,\u001b[0m \u001b[0mlabel\u001b[0m\u001b[1;33m=\u001b[0m\u001b[0my_train\u001b[0m\u001b[1;33m)\u001b[0m\u001b[1;33m\u001b[0m\u001b[1;33m\u001b[0m\u001b[0m\n\u001b[0;32m      4\u001b[0m \u001b[0mevallist\u001b[0m \u001b[1;33m=\u001b[0m \u001b[1;33m[\u001b[0m\u001b[1;33m(\u001b[0m\u001b[0mtrain_data\u001b[0m\u001b[1;33m,\u001b[0m \u001b[1;34m'eval'\u001b[0m\u001b[1;33m)\u001b[0m\u001b[1;33m,\u001b[0m \u001b[1;33m(\u001b[0m\u001b[0mtrain_data\u001b[0m\u001b[1;33m,\u001b[0m \u001b[1;34m'train'\u001b[0m\u001b[1;33m)\u001b[0m\u001b[1;33m]\u001b[0m\u001b[1;33m\u001b[0m\u001b[1;33m\u001b[0m\u001b[0m\n\u001b[1;32m----> 5\u001b[1;33m \u001b[0mmodel\u001b[0m \u001b[1;33m=\u001b[0m \u001b[0mxgb\u001b[0m\u001b[1;33m.\u001b[0m\u001b[0mtrain\u001b[0m\u001b[1;33m(\u001b[0m\u001b[0mparam\u001b[0m\u001b[1;33m,\u001b[0m \u001b[0mtrain_data\u001b[0m\u001b[1;33m,\u001b[0m \u001b[0mnum_round\u001b[0m\u001b[1;33m,\u001b[0m \u001b[0mevallist\u001b[0m\u001b[1;33m,\u001b[0m\u001b[0mtree_method\u001b[0m\u001b[1;33m=\u001b[0m\u001b[1;34m'gpu_hist'\u001b[0m\u001b[1;33m,\u001b[0m \u001b[0mgpu_id\u001b[0m\u001b[1;33m=\u001b[0m\u001b[1;36m0\u001b[0m\u001b[1;33m)\u001b[0m\u001b[1;33m\u001b[0m\u001b[1;33m\u001b[0m\u001b[0m\n\u001b[0m",
      "\u001b[1;31mTypeError\u001b[0m: train() got an unexpected keyword argument 'tree_method'"
     ]
    }
   ],
   "source": [
    "num_round = 10\n",
    "param = {'objective': 'multi:softprob', 'metric': 'multi_logloss', 'num_class': 11}\n",
    "train_data = xgb.DMatrix(X_train_std.values, label=y_train)\n",
    "evallist = [(train_data, 'eval'), (train_data, 'train')]\n",
    "model = xgb.train(param, train_data, num_round, evallist)"
   ]
  },
  {
   "cell_type": "code",
   "execution_count": null,
   "metadata": {},
   "outputs": [
    {
     "data": {
      "application/vnd.jupyter.widget-view+json": {
       "model_id": "abba967345914f3b84978a54fc4c4cb7",
       "version_major": 2,
       "version_minor": 0
      },
      "text/plain": [
       "ZOO:   0%|          | 0/22000 [00:00<?, ?it/s]"
      ]
     },
     "metadata": {},
     "output_type": "display_data"
    }
   ],
   "source": [
    "# Create ART classifier for XGBoost\n",
    "art_classifier = XGBoostClassifier(model=model, nb_features=X_train_std.shape[1], nb_classes=11)\n",
    "# Create ART Zeroth Order Optimization attack\n",
    "zoo = ZooAttack(classifier=art_classifier, confidence=0.0, targeted=False, learning_rate=1e-1, max_iter=20,\n",
    "                    binary_search_steps=10, initial_const=1e-3, abort_early=True, use_resize=False, \n",
    "                    use_importance=False, nb_parallel=1, batch_size=1, variable_h=0.2)\n",
    "    \n",
    "# Generate adversarial samples with ART Zeroth Order Optimization attack\n",
    "x_train_adv = zoo.generate(X_test_std.values)"
   ]
  },
  {
   "cell_type": "code",
   "execution_count": null,
   "metadata": {},
   "outputs": [],
   "source": [
    "attacker = FastGradientMethod(estimator=art_classifier, eps=0.01)\n",
    "x_train_adv = attacker.generate(X_test_std.values)"
   ]
  },
  {
   "cell_type": "code",
   "execution_count": 55,
   "metadata": {},
   "outputs": [
    {
     "ename": "TypeError",
     "evalue": "Model must be of type xgboost.Booster or xgboost.XGBClassifier.",
     "output_type": "error",
     "traceback": [
      "\u001b[1;31m---------------------------------------------------------------------------\u001b[0m",
      "\u001b[1;31mTypeError\u001b[0m                                 Traceback (most recent call last)",
      "\u001b[1;32m<ipython-input-55-675f142d81d1>\u001b[0m in \u001b[0;36m<module>\u001b[1;34m\u001b[0m\n\u001b[0;32m      1\u001b[0m \u001b[1;32mfrom\u001b[0m \u001b[0mart\u001b[0m\u001b[1;33m.\u001b[0m\u001b[0mestimators\u001b[0m\u001b[1;33m.\u001b[0m\u001b[0mclassification\u001b[0m \u001b[1;32mimport\u001b[0m \u001b[0mXGBoostClassifier\u001b[0m\u001b[1;33m\u001b[0m\u001b[1;33m\u001b[0m\u001b[0m\n\u001b[0;32m      2\u001b[0m \u001b[1;31m# Create ART classifier for XGBoost\u001b[0m\u001b[1;33m\u001b[0m\u001b[1;33m\u001b[0m\u001b[1;33m\u001b[0m\u001b[0m\n\u001b[1;32m----> 3\u001b[1;33m \u001b[0mart_classifier\u001b[0m \u001b[1;33m=\u001b[0m \u001b[0mXGBoostClassifier\u001b[0m\u001b[1;33m(\u001b[0m\u001b[0mmodel\u001b[0m\u001b[1;33m=\u001b[0m\u001b[0mmodel\u001b[0m\u001b[1;33m,\u001b[0m \u001b[0mnb_features\u001b[0m\u001b[1;33m=\u001b[0m\u001b[0mX_train_std\u001b[0m\u001b[1;33m.\u001b[0m\u001b[0mvalues\u001b[0m\u001b[1;33m.\u001b[0m\u001b[0mshape\u001b[0m\u001b[1;33m[\u001b[0m\u001b[1;36m1\u001b[0m\u001b[1;33m]\u001b[0m\u001b[1;33m,\u001b[0m \u001b[0mnb_classes\u001b[0m\u001b[1;33m=\u001b[0m\u001b[1;36m11\u001b[0m\u001b[1;33m)\u001b[0m\u001b[1;33m\u001b[0m\u001b[1;33m\u001b[0m\u001b[0m\n\u001b[0m",
      "\u001b[1;32m~\\AMC_Feature_Representation\\art\\estimators\\classification\\xgboost.py\u001b[0m in \u001b[0;36m__init__\u001b[1;34m(self, model, clip_values, preprocessing_defences, postprocessing_defences, preprocessing, nb_features, nb_classes)\u001b[0m\n\u001b[0;32m     83\u001b[0m \u001b[1;33m\u001b[0m\u001b[0m\n\u001b[0;32m     84\u001b[0m         \u001b[1;32mif\u001b[0m \u001b[1;32mnot\u001b[0m \u001b[0misinstance\u001b[0m\u001b[1;33m(\u001b[0m\u001b[0mmodel\u001b[0m\u001b[1;33m,\u001b[0m \u001b[0mBooster\u001b[0m\u001b[1;33m)\u001b[0m \u001b[1;32mand\u001b[0m \u001b[1;32mnot\u001b[0m \u001b[0misinstance\u001b[0m\u001b[1;33m(\u001b[0m\u001b[0mmodel\u001b[0m\u001b[1;33m,\u001b[0m \u001b[0mXGBClassifier\u001b[0m\u001b[1;33m)\u001b[0m\u001b[1;33m:\u001b[0m\u001b[1;33m\u001b[0m\u001b[1;33m\u001b[0m\u001b[0m\n\u001b[1;32m---> 85\u001b[1;33m             \u001b[1;32mraise\u001b[0m \u001b[0mTypeError\u001b[0m\u001b[1;33m(\u001b[0m\u001b[1;34m\"Model must be of type xgboost.Booster or xgboost.XGBClassifier.\"\u001b[0m\u001b[1;33m)\u001b[0m\u001b[1;33m\u001b[0m\u001b[1;33m\u001b[0m\u001b[0m\n\u001b[0m\u001b[0;32m     86\u001b[0m \u001b[1;33m\u001b[0m\u001b[0m\n\u001b[0;32m     87\u001b[0m         super().__init__(\n",
      "\u001b[1;31mTypeError\u001b[0m: Model must be of type xgboost.Booster or xgboost.XGBClassifier."
     ]
    }
   ],
   "source": [
    "from art.estimators.classification import XGBoostClassifier\n",
    "import xgboost as xgb\n",
    "\n",
    "def get_adversarial_examples(x_train, y_train, num_classes):\n",
    "\n",
    "    # Create and fit XGBoost model\n",
    "    num_round = 10\n",
    "    param = {'objective': 'multi:softprob', 'metric': 'multi_logloss', 'num_class': num_classes}\n",
    "    train_data = xgb.DMatrix(X_train_std.values, label=y_train)\n",
    "    evallist = [(train_data, 'eval'), (train_data, 'train')]\n",
    "    model = xgb.train(param, train_data, num_round, evallist)\n",
    "\n",
    "    # Create ART classifier for XGBoost\n",
    "    art_classifier = XGBoostClassifier(model=model, nb_features=x_train.shape[1], nb_classes=10)\n",
    "\n",
    "    # Create ART Zeroth Order Optimization attack\n",
    "    zoo = ZooAttack(classifier=art_classifier, confidence=0.0, targeted=False, learning_rate=1e-1, max_iter=20,\n",
    "                    binary_search_steps=10, initial_const=1e-3, abort_early=True, use_resize=False, \n",
    "                    use_importance=False, nb_parallel=1, batch_size=1, variable_h=0.2)\n",
    "    \n",
    "    # Generate adversarial samples with ART Zeroth Order Optimization attack\n",
    "    x_train_adv = zoo.generate(x_train)\n",
    "\n",
    "    return x_train_adv, model"
   ]
  },
  {
   "cell_type": "code",
   "execution_count": 17,
   "metadata": {},
   "outputs": [
    {
     "data": {
      "image/png": "[encoded data removed]",
      "text/plain": [
       "<Figure size 432x288 with 2 Axes>"
      ]
     },
     "metadata": {
      "needs_background": "light"
     },
     "output_type": "display_data"
    }
   ],
   "source": [
    "# Plot confusion matrix\n",
    "classes = mods\n",
    "model = clf_multilabel\n",
    "test_Y_hat = model.predict(X_val_std.values)\n",
    "conf = np.zeros([len(classes),len(classes)])\n",
    "confnorm = np.zeros([len(classes),len(classes)])\n",
    "for i in range(0,X_val_std.shape[0]):\n",
    "    j = list(Y_test[i,:]).index(1)\n",
    "    k = int(np.argmax(test_Y_hat[i,:]))\n",
    "    conf[j,k] = conf[j,k] + 1\n",
    "for i in range(0,len(classes)):\n",
    "    confnorm[i,:] = conf[i,:] / np.sum(conf[i,:])\n",
    "plot_confusion_matrix(confnorm, labels=classes)\n",
    "plt.savefig('pic\\Confusion_Matrix\\Feat_CM_CART.jpg',dpi = 300)"
   ]
  },
  {
   "cell_type": "code",
   "execution_count": 18,
   "metadata": {},
   "outputs": [
    {
     "name": "stdout",
     "output_type": "stream",
     "text": [
      "0.1206896551724138\n",
      "0.1572617946345976\n",
      "0.1663619744058501\n",
      "0.1451310861423221\n",
      "0.1634446397188049\n",
      "0.1478494623655914\n",
      "0.18439024390243902\n",
      "0.22698838248436104\n",
      "0.33524904214559387\n",
      "0.48892825509300264\n",
      "0.6840215439856373\n",
      "0.7660343270099368\n",
      "0.8062780269058296\n",
      "0.8142981691368788\n",
      "0.8394950405770965\n",
      "0.8555347091932458\n",
      "0.8465608465608465\n",
      "0.845724907063197\n",
      "0.8263254113345521\n",
      "0.8449197860962567\n"
     ]
    }
   ],
   "source": [
    "# model0:原模型测试\n",
    "classes = mods\n",
    "acc = {}\n",
    "for snr in snrs:\n",
    "\n",
    "    # extract classes @ SNR\n",
    "    test_SNRs = list(map(lambda x: lbl[x][1], test_idx))\n",
    "    test_X_i = X_test_std.values[np.where(np.array(test_SNRs)==snr)]\n",
    "    test_Y_i = Y_test[np.where(np.array(test_SNRs)==snr)]   \n",
    "\n",
    "    test_Y_i_hat = model.predict(test_X_i)\n",
    "    # estimate classes\n",
    "    test_Y_i_hat = model.predict(test_X_i)\n",
    "    conf = np.zeros([len(classes),len(classes)])\n",
    "    confnorm = np.zeros([len(classes),len(classes)])\n",
    "    for i in range(0,test_X_i.shape[0]):\n",
    "        j = list(test_Y_i[i,:]).index(1)\n",
    "        k = int(np.argmax(test_Y_i_hat[i,:]))\n",
    "        conf[j,k] = conf[j,k] + 1\n",
    "    for i in range(0,len(classes)):\n",
    "        confnorm[i,:] = conf[i,:] / np.sum(conf[i,:])\n",
    "    #plt.figure()\n",
    "    #plot_confusion_matrix(confnorm, labels=classes, title=\"ConvNet Confusion Matrix (SNR=%d)\"%(snr))\n",
    "    \n",
    "    cor = np.sum(np.diag(conf))\n",
    "    ncor = np.sum(conf) - cor\n",
    "    #print(\"Overall Accuracy: \", cor / (cor+ncor))\n",
    "    print(cor / (cor+ncor))\n",
    "    acc[snr] = 1.0*cor/(cor+ncor)"
   ]
  },
  {
   "cell_type": "code",
   "execution_count": 28,
   "metadata": {},
   "outputs": [],
   "source": [
    "from art.attacks.evasion import ZooAttack\n",
    "from art.estimators.classification import XGBoostClassifier\n",
    "\n",
    "\n",
    "from art.attacks.evasion import FastGradientMethod\n",
    "from art.estimators.classification import SklearnClassifier"
   ]
  },
  {
   "cell_type": "code",
   "execution_count": 31,
   "metadata": {},
   "outputs": [
    {
     "ename": "ValueError",
     "evalue": "The truth value of an array with more than one element is ambiguous. Use a.any() or a.all()",
     "output_type": "error",
     "traceback": [
      "\u001b[1;31m---------------------------------------------------------------------------\u001b[0m",
      "\u001b[1;31mValueError\u001b[0m                                Traceback (most recent call last)",
      "\u001b[1;32m<ipython-input-31-80963eba296f>\u001b[0m in \u001b[0;36m<module>\u001b[1;34m\u001b[0m\n\u001b[0;32m      1\u001b[0m classifier = SklearnClassifier(\n\u001b[1;32m----> 2\u001b[1;33m     \u001b[0mmodel\u001b[0m\u001b[1;33m=\u001b[0m\u001b[0mmodel\u001b[0m\u001b[1;33m\u001b[0m\u001b[1;33m\u001b[0m\u001b[0m\n\u001b[0m\u001b[0;32m      3\u001b[0m )\n",
      "\u001b[1;32m~\\AMC_Feature_Representation\\art\\estimators\\classification\\scikitlearn.py\u001b[0m in \u001b[0;36mSklearnClassifier\u001b[1;34m(model, clip_values, preprocessing_defences, postprocessing_defences, preprocessing, use_logits)\u001b[0m\n\u001b[0;32m     86\u001b[0m             \u001b[0mpreprocessing_defences\u001b[0m\u001b[1;33m=\u001b[0m\u001b[0mpreprocessing_defences\u001b[0m\u001b[1;33m,\u001b[0m\u001b[1;33m\u001b[0m\u001b[1;33m\u001b[0m\u001b[0m\n\u001b[0;32m     87\u001b[0m             \u001b[0mpostprocessing_defences\u001b[0m\u001b[1;33m=\u001b[0m\u001b[0mpostprocessing_defences\u001b[0m\u001b[1;33m,\u001b[0m\u001b[1;33m\u001b[0m\u001b[1;33m\u001b[0m\u001b[0m\n\u001b[1;32m---> 88\u001b[1;33m             \u001b[0mpreprocessing\u001b[0m\u001b[1;33m=\u001b[0m\u001b[0mpreprocessing\u001b[0m\u001b[1;33m,\u001b[0m\u001b[1;33m\u001b[0m\u001b[1;33m\u001b[0m\u001b[0m\n\u001b[0m\u001b[0;32m     89\u001b[0m         )\n\u001b[0;32m     90\u001b[0m \u001b[1;33m\u001b[0m\u001b[0m\n",
      "\u001b[1;32m~\\AMC_Feature_Representation\\art\\estimators\\classification\\scikitlearn.py\u001b[0m in \u001b[0;36m__init__\u001b[1;34m(self, model, clip_values, preprocessing_defences, postprocessing_defences, preprocessing)\u001b[0m\n\u001b[0;32m    299\u001b[0m             \u001b[0mpreprocessing_defences\u001b[0m\u001b[1;33m=\u001b[0m\u001b[0mpreprocessing_defences\u001b[0m\u001b[1;33m,\u001b[0m\u001b[1;33m\u001b[0m\u001b[1;33m\u001b[0m\u001b[0m\n\u001b[0;32m    300\u001b[0m             \u001b[0mpostprocessing_defences\u001b[0m\u001b[1;33m=\u001b[0m\u001b[0mpostprocessing_defences\u001b[0m\u001b[1;33m,\u001b[0m\u001b[1;33m\u001b[0m\u001b[1;33m\u001b[0m\u001b[0m\n\u001b[1;32m--> 301\u001b[1;33m             \u001b[0mpreprocessing\u001b[0m\u001b[1;33m=\u001b[0m\u001b[0mpreprocessing\u001b[0m\u001b[1;33m,\u001b[0m\u001b[1;33m\u001b[0m\u001b[1;33m\u001b[0m\u001b[0m\n\u001b[0m\u001b[0;32m    302\u001b[0m         )\n\u001b[0;32m    303\u001b[0m \u001b[1;33m\u001b[0m\u001b[0m\n",
      "\u001b[1;32m~\\AMC_Feature_Representation\\art\\estimators\\classification\\scikitlearn.py\u001b[0m in \u001b[0;36m__init__\u001b[1;34m(self, model, clip_values, preprocessing_defences, postprocessing_defences, preprocessing, use_logits)\u001b[0m\n\u001b[0;32m    140\u001b[0m         \u001b[0mnb_classes\u001b[0m \u001b[1;33m=\u001b[0m \u001b[0mself\u001b[0m\u001b[1;33m.\u001b[0m\u001b[0m_get_nb_classes\u001b[0m\u001b[1;33m(\u001b[0m\u001b[1;33m)\u001b[0m\u001b[1;33m\u001b[0m\u001b[1;33m\u001b[0m\u001b[0m\n\u001b[0;32m    141\u001b[0m         \u001b[1;32mif\u001b[0m \u001b[0mnb_classes\u001b[0m \u001b[1;32mis\u001b[0m \u001b[1;32mnot\u001b[0m \u001b[1;32mNone\u001b[0m\u001b[1;33m:\u001b[0m\u001b[1;33m\u001b[0m\u001b[1;33m\u001b[0m\u001b[0m\n\u001b[1;32m--> 142\u001b[1;33m             \u001b[0mself\u001b[0m\u001b[1;33m.\u001b[0m\u001b[0mnb_classes\u001b[0m \u001b[1;33m=\u001b[0m \u001b[0mnb_classes\u001b[0m\u001b[1;33m\u001b[0m\u001b[1;33m\u001b[0m\u001b[0m\n\u001b[0m\u001b[0;32m    143\u001b[0m         \u001b[0mself\u001b[0m\u001b[1;33m.\u001b[0m\u001b[0m_use_logits\u001b[0m \u001b[1;33m=\u001b[0m \u001b[0muse_logits\u001b[0m\u001b[1;33m\u001b[0m\u001b[1;33m\u001b[0m\u001b[0m\n\u001b[0;32m    144\u001b[0m \u001b[1;33m\u001b[0m\u001b[0m\n",
      "\u001b[1;32m~\\AMC_Feature_Representation\\art\\estimators\\classification\\classifier.py\u001b[0m in \u001b[0;36mnb_classes\u001b[1;34m(self, nb_classes)\u001b[0m\n\u001b[0;32m    116\u001b[0m         \u001b[0mSet\u001b[0m \u001b[0mthe\u001b[0m \u001b[0mnumber\u001b[0m \u001b[0mof\u001b[0m \u001b[0moutput\u001b[0m \u001b[0mclasses\u001b[0m\u001b[1;33m.\u001b[0m\u001b[1;33m\u001b[0m\u001b[1;33m\u001b[0m\u001b[0m\n\u001b[0;32m    117\u001b[0m         \"\"\"\n\u001b[1;32m--> 118\u001b[1;33m         \u001b[1;32mif\u001b[0m \u001b[0mnb_classes\u001b[0m \u001b[1;32mis\u001b[0m \u001b[1;32mNone\u001b[0m \u001b[1;32mor\u001b[0m \u001b[0mnb_classes\u001b[0m \u001b[1;33m<\u001b[0m \u001b[1;36m2\u001b[0m\u001b[1;33m:\u001b[0m\u001b[1;33m\u001b[0m\u001b[1;33m\u001b[0m\u001b[0m\n\u001b[0m\u001b[0;32m    119\u001b[0m             \u001b[1;32mraise\u001b[0m \u001b[0mValueError\u001b[0m\u001b[1;33m(\u001b[0m\u001b[1;34m\"nb_classes must be greater than or equal to 2.\"\u001b[0m\u001b[1;33m)\u001b[0m\u001b[1;33m\u001b[0m\u001b[1;33m\u001b[0m\u001b[0m\n\u001b[0;32m    120\u001b[0m \u001b[1;33m\u001b[0m\u001b[0m\n",
      "\u001b[1;31mValueError\u001b[0m: The truth value of an array with more than one element is ambiguous. Use a.any() or a.all()"
     ]
    }
   ],
   "source": [
    "classifier = SklearnClassifier(\n",
    "    model=model\n",
    ")"
   ]
  },
  {
   "cell_type": "code",
   "execution_count": null,
   "metadata": {},
   "outputs": [],
   "source": []
  },
  {
   "cell_type": "code",
   "execution_count": null,
   "metadata": {},
   "outputs": [],
   "source": []
  },
  {
   "cell_type": "code",
   "execution_count": 28,
   "metadata": {},
   "outputs": [],
   "source": [
    "import joblib\n",
    "joblib.dump(clf_multilabel,'model_saved\\Feat_based\\XGB_FEAT_basic.pkl')\n",
    "model = joblib.load('model_saved\\Feat_based\\XGB_FEAT_basic.pkl')"
   ]
  },
  {
   "cell_type": "markdown",
   "metadata": {},
   "source": [
    "# Lightgbm"
   ]
  },
  {
   "cell_type": "code",
   "execution_count": 86,
   "metadata": {},
   "outputs": [],
   "source": [
    "from lightgbm import LGBMClassifier"
   ]
  },
  {
   "cell_type": "code",
   "execution_count": 87,
   "metadata": {},
   "outputs": [
    {
     "data": {
      "text/plain": [
       "OneVsRestClassifier(estimator=LGBMClassifier(max_depth=10))"
      ]
     },
     "execution_count": 87,
     "metadata": {},
     "output_type": "execute_result"
    }
   ],
   "source": [
    "from sklearn.multiclass import OneVsRestClassifier\n",
    "import numpy as np\n",
    "\n",
    "clf_multilabel = OneVsRestClassifier(LGBMClassifier(max_depth=10))\n",
    "\n",
    "clf_multilabel.fit(X_train_std.values,y_train)"
   ]
  },
  {
   "cell_type": "code",
   "execution_count": 88,
   "metadata": {},
   "outputs": [
    {
     "name": "stdout",
     "output_type": "stream",
     "text": [
      "0.4026299026299026\n"
     ]
    }
   ],
   "source": [
    "from sklearn import datasets,model_selection,metrics,tree,preprocessing\n",
    "y_pred=clf_multilabel.predict(X_val_std)\n",
    "# 模型性能评价\n",
    "print(metrics.accuracy_score(y_pred,y_val))"
   ]
  },
  {
   "cell_type": "code",
   "execution_count": 89,
   "metadata": {},
   "outputs": [
    {
     "name": "stdout",
     "output_type": "stream",
     "text": [
      "0.09165154264972777\n",
      "0.1036077705827937\n",
      "0.09323583180987204\n",
      "0.0898876404494382\n",
      "0.08875219683655536\n",
      "0.08422939068100359\n",
      "0.10536585365853658\n",
      "0.15281501340482573\n",
      "0.2796934865900383\n",
      "0.46058458813108943\n",
      "0.6364452423698385\n",
      "0.7172538392050587\n",
      "0.7551569506726458\n",
      "0.7715780296425457\n",
      "0.8034265103697025\n",
      "0.8189493433395872\n",
      "0.8209876543209876\n",
      "0.8234200743494424\n",
      "0.793418647166362\n",
      "0.8297682709447415\n"
     ]
    }
   ],
   "source": [
    "# model0:原模型测试\n",
    "classes = mods\n",
    "model = clf_multilabel\n",
    "acc = {}\n",
    "for snr in snrs:\n",
    "\n",
    "    # extract classes @ SNR\n",
    "    test_SNRs = list(map(lambda x: lbl[x][1], test_idx))\n",
    "    test_X_i = X_test_std.values[np.where(np.array(test_SNRs)==snr)]\n",
    "    test_Y_i = Y_test[np.where(np.array(test_SNRs)==snr)]   \n",
    "\n",
    "    test_Y_i_hat = model.predict(test_X_i)\n",
    "    # estimate classes\n",
    "    test_Y_i_hat = model.predict(test_X_i)\n",
    "    conf = np.zeros([len(classes),len(classes)])\n",
    "    confnorm = np.zeros([len(classes),len(classes)])\n",
    "    for i in range(0,test_X_i.shape[0]):\n",
    "        j = list(test_Y_i[i,:]).index(1)\n",
    "        k = int(np.argmax(test_Y_i_hat[i,:]))\n",
    "        conf[j,k] = conf[j,k] + 1\n",
    "    for i in range(0,len(classes)):\n",
    "        confnorm[i,:] = conf[i,:] / np.sum(conf[i,:])\n",
    "    #plt.figure()\n",
    "    #plot_confusion_matrix(confnorm, labels=classes, title=\"ConvNet Confusion Matrix (SNR=%d)\"%(snr))\n",
    "    \n",
    "    cor = np.sum(np.diag(conf))\n",
    "    ncor = np.sum(conf) - cor\n",
    "    #print(\"Overall Accuracy: \", cor / (cor+ncor))\n",
    "    print(cor / (cor+ncor))\n",
    "    acc[snr] = 1.0*cor/(cor+ncor)"
   ]
  },
  {
   "cell_type": "code",
   "execution_count": 90,
   "metadata": {},
   "outputs": [],
   "source": [
    "import joblib\n",
    "joblib.dump(model,'model_saved\\Feat_based\\LightGBM_time.pkl')\n",
    "model = joblib.load('model_saved\\Feat_based\\LightGBM_time.pkl')"
   ]
  },
  {
   "cell_type": "code",
   "execution_count": null,
   "metadata": {},
   "outputs": [],
   "source": []
  }
 ],
 "metadata": {
  "kernelspec": {
   "display_name": "Python [conda env:AMC] *",
   "language": "python",
   "name": "conda-env-AMC-py"
  },
  "language_info": {
   "codemirror_mode": {
    "name": "ipython",
    "version": 3
   },
   "file_extension": ".py",
   "mimetype": "text/x-python",
   "name": "python",
   "nbconvert_exporter": "python",
   "pygments_lexer": "ipython3",
   "version": "3.7.6"
  }
 },
 "nbformat": 4,
 "nbformat_minor": 4
}
