{
 "cells": [
  {
   "cell_type": "code",
   "execution_count": 1,
   "id": "131eb1af",
   "metadata": {},
   "outputs": [],
   "source": [
    "# FP"
   ]
  },
  {
   "cell_type": "code",
   "execution_count": 2,
   "id": "0c15fbec",
   "metadata": {},
   "outputs": [
    {
     "name": "stderr",
     "output_type": "stream",
     "text": [
      "D:\\Anaconda3\\envs\\AMC\\lib\\site-packages\\numpy\\_distributor_init.py:32: UserWarning: loaded more than 1 DLL from .libs:\n",
      "D:\\Anaconda3\\envs\\AMC\\lib\\site-packages\\numpy\\.libs\\libopenblas.WCDJNK7YVMPZQ2ME2ZZHJJRJ3JIKNDB7.gfortran-win_amd64.dll\n",
      "D:\\Anaconda3\\envs\\AMC\\lib\\site-packages\\numpy\\.libs\\libopenblas.XWYDX2IKJW2NMTWSFYNGFUWKQU3LYTCZ.gfortran-win_amd64.dll\n",
      "  stacklevel=1)\n"
     ]
    },
    {
     "ename": "FileNotFoundError",
     "evalue": "[WinError 3] 系统找不到指定的路径。: 'data/test_cl'",
     "output_type": "error",
     "traceback": [
      "\u001b[1;31m---------------------------------------------------------------------------\u001b[0m",
      "\u001b[1;31mFileNotFoundError\u001b[0m                         Traceback (most recent call last)",
      "\u001b[1;32m<ipython-input-2-3f65c81020bd>\u001b[0m in \u001b[0;36m<module>\u001b[1;34m\u001b[0m\n\u001b[0;32m     48\u001b[0m \u001b[1;33m\u001b[0m\u001b[0m\n\u001b[0;32m     49\u001b[0m \u001b[1;32mif\u001b[0m \u001b[0m__name__\u001b[0m \u001b[1;33m==\u001b[0m \u001b[1;34m\"__main__\"\u001b[0m\u001b[1;33m:\u001b[0m\u001b[1;33m\u001b[0m\u001b[1;33m\u001b[0m\u001b[0m\n\u001b[1;32m---> 50\u001b[1;33m     \u001b[0mmain\u001b[0m\u001b[1;33m(\u001b[0m\u001b[1;33m)\u001b[0m\u001b[1;33m\u001b[0m\u001b[1;33m\u001b[0m\u001b[0m\n\u001b[0m",
      "\u001b[1;32m<ipython-input-2-3f65c81020bd>\u001b[0m in \u001b[0;36mmain\u001b[1;34m()\u001b[0m\n\u001b[0;32m     34\u001b[0m \u001b[1;32mdef\u001b[0m \u001b[0mmain\u001b[0m\u001b[1;33m(\u001b[0m\u001b[1;33m)\u001b[0m\u001b[1;33m:\u001b[0m\u001b[1;33m\u001b[0m\u001b[1;33m\u001b[0m\u001b[0m\n\u001b[0;32m     35\u001b[0m     \u001b[0mdata_dir\u001b[0m \u001b[1;33m=\u001b[0m \u001b[1;34m'data/test_cl'\u001b[0m\u001b[1;33m\u001b[0m\u001b[1;33m\u001b[0m\u001b[0m\n\u001b[1;32m---> 36\u001b[1;33m     \u001b[0mimg_list\u001b[0m \u001b[1;33m=\u001b[0m \u001b[1;33m[\u001b[0m\u001b[0mos\u001b[0m\u001b[1;33m.\u001b[0m\u001b[0mpath\u001b[0m\u001b[1;33m.\u001b[0m\u001b[0mjoin\u001b[0m\u001b[1;33m(\u001b[0m\u001b[0mdata_dir\u001b[0m\u001b[1;33m,\u001b[0m \u001b[0mf\u001b[0m\u001b[1;33m)\u001b[0m \u001b[1;32mfor\u001b[0m \u001b[0mf\u001b[0m \u001b[1;32min\u001b[0m \u001b[0mos\u001b[0m\u001b[1;33m.\u001b[0m\u001b[0mlistdir\u001b[0m\u001b[1;33m(\u001b[0m\u001b[0mdata_dir\u001b[0m\u001b[1;33m)\u001b[0m\u001b[1;33m]\u001b[0m\u001b[1;33m\u001b[0m\u001b[1;33m\u001b[0m\u001b[0m\n\u001b[0m\u001b[0;32m     37\u001b[0m \u001b[1;33m\u001b[0m\u001b[0m\n\u001b[0;32m     38\u001b[0m     \u001b[1;31m# 加载已经训练好的模型\u001b[0m\u001b[1;33m\u001b[0m\u001b[1;33m\u001b[0m\u001b[1;33m\u001b[0m\u001b[0m\n",
      "\u001b[1;31mFileNotFoundError\u001b[0m: [WinError 3] 系统找不到指定的路径。: 'data/test_cl'"
     ]
    }
   ],
   "source": [
    "import os\n",
    "import numpy as np\n",
    "import cv2\n",
    "import tensorflow as tf\n",
    "\n",
    "def preprocess(img_file):\n",
    "    img = cv2.imread(img_file).astype(np.float32)\n",
    "    img = img / 255.0  # 将像素值缩放到 [0, 1] 范围内\n",
    "    return img\n",
    "\n",
    "def extract_pool5_features(model, img_list):\n",
    "    activations = []\n",
    "    for img_file in img_list:\n",
    "        img = preprocess(img_file)\n",
    "        img = tf.expand_dims(img, axis=0)  # 添加批量维度\n",
    "        pool5 = model.predict(img)  # 使用模型进行推理得到 pool5 层的特征\n",
    "        pool5 = np.mean(pool5, axis=(1, 2, 3))  # 对特征进行平均，得到一个 1D 向量\n",
    "        activations.append(pool5)\n",
    "    activations = np.mean(activations, axis=0)  # 计算所有图像的平均 pool5 特征\n",
    "    return activations\n",
    "\n",
    "def prune_model(model, activation, num_channels_to_prune):\n",
    "    conv5_weights = model.get_layer('conv5').get_weights()  # 获取 conv5 层的权重和偏置\n",
    "    conv5_weights[0][:, :, :, :num_channels_to_prune] = 0  # 将部分通道的权重置零\n",
    "    conv5_weights[1][:num_channels_to_prune] = 0  # 将部分通道的偏置置零\n",
    "    model.get_layer('conv5').set_weights(conv5_weights)  # 更新 conv5 层的权重和偏置\n",
    "    return model\n",
    "\n",
    "def prune_and_save_model(model, activation, num_channels_to_prune, save_path):\n",
    "    pruned_model = prune_model(model, activation, num_channels_to_prune)\n",
    "    pruned_model.save(save_path)  # 保存剪枝后的模型\n",
    "    print('Pruned model saved at:', save_path)\n",
    "\n",
    "def main():\n",
    "    data_dir = 'data/test_cl'\n",
    "    img_list = [os.path.join(data_dir, f) for f in os.listdir(data_dir)]\n",
    "\n",
    "    # 加载已经训练好的模型\n",
    "    model = tf.keras.models.load_model('path_to_your_pretrained_model.h5')\n",
    "\n",
    "    # 提取 pool5 层特征\n",
    "    activation = extract_pool5_features(model, img_list)\n",
    "\n",
    "    # 剪枝操作\n",
    "    num_channels_to_prune = 250\n",
    "    save_path = 'pruned_model.h5'\n",
    "    prune_and_save_model(model, activation, num_channels_to_prune, save_path)\n",
    "\n",
    "if __name__ == \"__main__\":\n",
    "    main()"
   ]
  },
  {
   "cell_type": "code",
   "execution_count": null,
   "id": "d8c3a02c",
   "metadata": {},
   "outputs": [],
   "source": []
  }
 ],
 "metadata": {
  "kernelspec": {
   "display_name": "Python [conda env:AMC] *",
   "language": "python",
   "name": "conda-env-AMC-py"
  },
  "language_info": {
   "codemirror_mode": {
    "name": "ipython",
    "version": 3
   },
   "file_extension": ".py",
   "mimetype": "text/x-python",
   "name": "python",
   "nbconvert_exporter": "python",
   "pygments_lexer": "ipython3",
   "version": "3.7.6"
  }
 },
 "nbformat": 4,
 "nbformat_minor": 5
}
